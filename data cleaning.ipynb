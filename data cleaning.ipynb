{
 "cells": [
  {
   "cell_type": "code",
   "execution_count": 1,
   "metadata": {
    "collapsed": true,
    "pycharm": {
     "name": "#%%\n"
    }
   },
   "outputs": [],
   "source": [
    "#IMPORTO LIBRERIE\n",
    "import pandas as pd"
   ]
  },
  {
   "cell_type": "code",
   "execution_count": 2,
   "outputs": [
    {
     "data": {
      "text/plain": "(317287, 25)"
     },
     "execution_count": 2,
     "metadata": {},
     "output_type": "execute_result"
    }
   ],
   "source": [
    "df = pd.read_csv('corporate-transactions-with-users-without-vat.csv', sep=\";\" , engine=\"python\", encoding=\"ISO-8859-1\" )\n",
    "df.shape"
   ],
   "metadata": {
    "collapsed": false,
    "pycharm": {
     "name": "#%%\n"
    }
   }
  },
  {
   "cell_type": "code",
   "execution_count": null,
   "outputs": [],
   "source": [
    "df.info()"
   ],
   "metadata": {
    "collapsed": false,
    "pycharm": {
     "name": "#%%\n"
    }
   }
  },
  {
   "cell_type": "code",
   "execution_count": null,
   "outputs": [],
   "source": [
    "df[df['isFraud']==1]"
   ],
   "metadata": {
    "collapsed": false,
    "pycharm": {
     "name": "#%%\n"
    }
   }
  },
  {
   "cell_type": "code",
   "execution_count": null,
   "outputs": [],
   "source": [
    "#PULIZIA DATASET E RIMOZIONE COLONNE DEPRECATE\n",
    "\n",
    "#df['datetime'] = pd.to_datetime(df['timestamp'], format='%Y-%m-%d %I:%M:%S.%f', infer_datetime_format=True)\n",
    "\n",
    "def data_cleaning(df):\n",
    "    df = df.drop(columns=['loginMode', 'isFraud', 'bankCode']) #inutili\n",
    "    df = df.drop(columns=['BIC_locationCode','BIC_branchCode','BIC_countryCode']) #incompleti\n",
    "    df = df.drop(columns=['userAgent_isMobile','userAgent_isTablet','userAgent_isTouch']) #sono 99% pc\n",
    "    df = df.drop(df[df.companyType=='****'].index)\n",
    "    df = df.dropna()\n",
    "\n",
    "    df = df[pd.to_numeric(df['CAP'], errors='coerce').notnull()] #solo cap numerici, filtra 'MONTE'\n",
    "    df.CAP=df.CAP.astype(int)\n",
    "\n",
    "    df.SAE = df.SAE.astype(int) #era float\n",
    "\n",
    "    df.RAE = df.RAE.astype(int) #era float\n",
    "\n",
    "    df['IBAN_bankCode'] = df['IBAN_bankCode'].astype('str')\n",
    "\n",
    "    return df\n",
    "\n",
    "df=data_cleaning(df)\n",
    "df.head()"
   ],
   "metadata": {
    "collapsed": false,
    "pycharm": {
     "name": "#%%\n"
    }
   }
  },
  {
   "cell_type": "code",
   "execution_count": 4,
   "outputs": [
    {
     "data": {
      "text/plain": "        customerId                timestamp  bankCode country    amount  \\\n194419    54096722  2021-08-06 08:54:35.077      5856   Italy      1.50   \n201439    65913401  2021-09-11 17:49:50.217      5856   Italy  10000.00   \n274346    88146695   2021-08-09 12:48:39.39      5856   Italy  43152.77   \n274479    88146695  2021-08-03 16:22:55.233      5856   Italy  43152.77   \n\n                            businessName                   loginMode  isFraud  \\\n194419  93253f4667e5963c5c22de3716c3b00c  AUTENTICATO TRAMITE QRCODE        1   \n201439  d6b7efe402f2ad07b7e7e5ad2fa8d0d0  AUTENTICATO TRAMITE QRCODE        1   \n274346  24ad200d6b46c53ed04be5b4bf3b6b0d  AUTENTICATO TRAMITE QRCODE        1   \n274479  24ad200d6b46c53ed04be5b4bf3b6b0d  AUTENTICATO TRAMITE QRCODE        1   \n\n        userAgent_isMobile  userAgent_isTablet  ...  IBAN_countryCode  \\\n194419                   0                   0  ...                EE   \n201439                   0                   0  ...                DE   \n274346                   0                   0  ...                RO   \n274479                   0                   0  ...                RO   \n\n        IBAN_bankCode  BIC_branchCode BIC_countryCode BIC_locationCode    SIA  \\\n194419             77             NaN             NaN              NaN  CSMGY   \n201439       70022200             XXX              DE               MM  B667A   \n274346           BRDE             NaN             NaN              NaN  M3948   \n274479           BRDE             NaN             NaN              NaN  M3948   \n\n        CAP SAE RAE companyType  \n194419  NaN NaN NaN         NaN  \n201439  NaN NaN NaN         NaN  \n274346  NaN NaN NaN         NaN  \n274479  NaN NaN NaN         NaN  \n\n[4 rows x 25 columns]",
      "text/html": "<div>\n<style scoped>\n    .dataframe tbody tr th:only-of-type {\n        vertical-align: middle;\n    }\n\n    .dataframe tbody tr th {\n        vertical-align: top;\n    }\n\n    .dataframe thead th {\n        text-align: right;\n    }\n</style>\n<table border=\"1\" class=\"dataframe\">\n  <thead>\n    <tr style=\"text-align: right;\">\n      <th></th>\n      <th>customerId</th>\n      <th>timestamp</th>\n      <th>bankCode</th>\n      <th>country</th>\n      <th>amount</th>\n      <th>businessName</th>\n      <th>loginMode</th>\n      <th>isFraud</th>\n      <th>userAgent_isMobile</th>\n      <th>userAgent_isTablet</th>\n      <th>...</th>\n      <th>IBAN_countryCode</th>\n      <th>IBAN_bankCode</th>\n      <th>BIC_branchCode</th>\n      <th>BIC_countryCode</th>\n      <th>BIC_locationCode</th>\n      <th>SIA</th>\n      <th>CAP</th>\n      <th>SAE</th>\n      <th>RAE</th>\n      <th>companyType</th>\n    </tr>\n  </thead>\n  <tbody>\n    <tr>\n      <th>194419</th>\n      <td>54096722</td>\n      <td>2021-08-06 08:54:35.077</td>\n      <td>5856</td>\n      <td>Italy</td>\n      <td>1.50</td>\n      <td>93253f4667e5963c5c22de3716c3b00c</td>\n      <td>AUTENTICATO TRAMITE QRCODE</td>\n      <td>1</td>\n      <td>0</td>\n      <td>0</td>\n      <td>...</td>\n      <td>EE</td>\n      <td>77</td>\n      <td>NaN</td>\n      <td>NaN</td>\n      <td>NaN</td>\n      <td>CSMGY</td>\n      <td>NaN</td>\n      <td>NaN</td>\n      <td>NaN</td>\n      <td>NaN</td>\n    </tr>\n    <tr>\n      <th>201439</th>\n      <td>65913401</td>\n      <td>2021-09-11 17:49:50.217</td>\n      <td>5856</td>\n      <td>Italy</td>\n      <td>10000.00</td>\n      <td>d6b7efe402f2ad07b7e7e5ad2fa8d0d0</td>\n      <td>AUTENTICATO TRAMITE QRCODE</td>\n      <td>1</td>\n      <td>0</td>\n      <td>0</td>\n      <td>...</td>\n      <td>DE</td>\n      <td>70022200</td>\n      <td>XXX</td>\n      <td>DE</td>\n      <td>MM</td>\n      <td>B667A</td>\n      <td>NaN</td>\n      <td>NaN</td>\n      <td>NaN</td>\n      <td>NaN</td>\n    </tr>\n    <tr>\n      <th>274346</th>\n      <td>88146695</td>\n      <td>2021-08-09 12:48:39.39</td>\n      <td>5856</td>\n      <td>Italy</td>\n      <td>43152.77</td>\n      <td>24ad200d6b46c53ed04be5b4bf3b6b0d</td>\n      <td>AUTENTICATO TRAMITE QRCODE</td>\n      <td>1</td>\n      <td>0</td>\n      <td>0</td>\n      <td>...</td>\n      <td>RO</td>\n      <td>BRDE</td>\n      <td>NaN</td>\n      <td>NaN</td>\n      <td>NaN</td>\n      <td>M3948</td>\n      <td>NaN</td>\n      <td>NaN</td>\n      <td>NaN</td>\n      <td>NaN</td>\n    </tr>\n    <tr>\n      <th>274479</th>\n      <td>88146695</td>\n      <td>2021-08-03 16:22:55.233</td>\n      <td>5856</td>\n      <td>Italy</td>\n      <td>43152.77</td>\n      <td>24ad200d6b46c53ed04be5b4bf3b6b0d</td>\n      <td>AUTENTICATO TRAMITE QRCODE</td>\n      <td>1</td>\n      <td>0</td>\n      <td>0</td>\n      <td>...</td>\n      <td>RO</td>\n      <td>BRDE</td>\n      <td>NaN</td>\n      <td>NaN</td>\n      <td>NaN</td>\n      <td>M3948</td>\n      <td>NaN</td>\n      <td>NaN</td>\n      <td>NaN</td>\n      <td>NaN</td>\n    </tr>\n  </tbody>\n</table>\n<p>4 rows × 25 columns</p>\n</div>"
     },
     "execution_count": 4,
     "metadata": {},
     "output_type": "execute_result"
    }
   ],
   "source": [
    "df[df['isFraud']==1]"
   ],
   "metadata": {
    "collapsed": false,
    "pycharm": {
     "name": "#%%\n"
    }
   }
  },
  {
   "cell_type": "code",
   "execution_count": 3,
   "outputs": [
    {
     "data": {
      "text/plain": "   customerId                timestamp country   amount  \\\n0    93000801  2021-09-15 16:13:35.147   Italy   150.00   \n1    93000801  2021-08-24 10:34:24.487  Greece  3200.00   \n2    93000801   2021-09-14 16:21:43.33   Italy  8350.00   \n3    93001001  2021-06-30 09:07:16.733   Italy   500.00   \n4    93001001  2021-07-12 16:36:02.857   Italy  1895.68   \n\n                       businessName  userAgent_isPc  userAgent_isBot  \\\n0  c7543b6f04850eae288aa52783b33363               1                0   \n1  c7543b6f04850eae288aa52783b33363               1                0   \n2  c7543b6f04850eae288aa52783b33363               1                0   \n3  3f241dfcc38064261fec0f303c2784e5               1                0   \n4  a5d1eaffa8e325d370665f43624339a1               1                0   \n\n  userAgent_browserFamily userAgent_osFamily IBAN_countryCode IBAN_bankCode  \\\n0                 Firefox            Windows               IT          5856   \n1                 Firefox            Windows               IT          5856   \n2                 Firefox            Windows               IT          5856   \n3                  Chrome            Windows               IT          2008   \n4                  Chrome            Windows               IT          3069   \n\n     SIA    CAP  SAE  RAE companyType  \n0  CLFUY  33077  492  630         SAS  \n1  CLFUY  33077  492  630         SAS  \n2  CLFUY  33077  492  630         SAS  \n3  CEFGV  31039  430  505         SRL  \n4  CEFGV  31039  430  505         SRL  ",
      "text/html": "<div>\n<style scoped>\n    .dataframe tbody tr th:only-of-type {\n        vertical-align: middle;\n    }\n\n    .dataframe tbody tr th {\n        vertical-align: top;\n    }\n\n    .dataframe thead th {\n        text-align: right;\n    }\n</style>\n<table border=\"1\" class=\"dataframe\">\n  <thead>\n    <tr style=\"text-align: right;\">\n      <th></th>\n      <th>customerId</th>\n      <th>timestamp</th>\n      <th>country</th>\n      <th>amount</th>\n      <th>businessName</th>\n      <th>userAgent_isPc</th>\n      <th>userAgent_isBot</th>\n      <th>userAgent_browserFamily</th>\n      <th>userAgent_osFamily</th>\n      <th>IBAN_countryCode</th>\n      <th>IBAN_bankCode</th>\n      <th>SIA</th>\n      <th>CAP</th>\n      <th>SAE</th>\n      <th>RAE</th>\n      <th>companyType</th>\n    </tr>\n  </thead>\n  <tbody>\n    <tr>\n      <th>0</th>\n      <td>93000801</td>\n      <td>2021-09-15 16:13:35.147</td>\n      <td>Italy</td>\n      <td>150.00</td>\n      <td>c7543b6f04850eae288aa52783b33363</td>\n      <td>1</td>\n      <td>0</td>\n      <td>Firefox</td>\n      <td>Windows</td>\n      <td>IT</td>\n      <td>5856</td>\n      <td>CLFUY</td>\n      <td>33077</td>\n      <td>492</td>\n      <td>630</td>\n      <td>SAS</td>\n    </tr>\n    <tr>\n      <th>1</th>\n      <td>93000801</td>\n      <td>2021-08-24 10:34:24.487</td>\n      <td>Greece</td>\n      <td>3200.00</td>\n      <td>c7543b6f04850eae288aa52783b33363</td>\n      <td>1</td>\n      <td>0</td>\n      <td>Firefox</td>\n      <td>Windows</td>\n      <td>IT</td>\n      <td>5856</td>\n      <td>CLFUY</td>\n      <td>33077</td>\n      <td>492</td>\n      <td>630</td>\n      <td>SAS</td>\n    </tr>\n    <tr>\n      <th>2</th>\n      <td>93000801</td>\n      <td>2021-09-14 16:21:43.33</td>\n      <td>Italy</td>\n      <td>8350.00</td>\n      <td>c7543b6f04850eae288aa52783b33363</td>\n      <td>1</td>\n      <td>0</td>\n      <td>Firefox</td>\n      <td>Windows</td>\n      <td>IT</td>\n      <td>5856</td>\n      <td>CLFUY</td>\n      <td>33077</td>\n      <td>492</td>\n      <td>630</td>\n      <td>SAS</td>\n    </tr>\n    <tr>\n      <th>3</th>\n      <td>93001001</td>\n      <td>2021-06-30 09:07:16.733</td>\n      <td>Italy</td>\n      <td>500.00</td>\n      <td>3f241dfcc38064261fec0f303c2784e5</td>\n      <td>1</td>\n      <td>0</td>\n      <td>Chrome</td>\n      <td>Windows</td>\n      <td>IT</td>\n      <td>2008</td>\n      <td>CEFGV</td>\n      <td>31039</td>\n      <td>430</td>\n      <td>505</td>\n      <td>SRL</td>\n    </tr>\n    <tr>\n      <th>4</th>\n      <td>93001001</td>\n      <td>2021-07-12 16:36:02.857</td>\n      <td>Italy</td>\n      <td>1895.68</td>\n      <td>a5d1eaffa8e325d370665f43624339a1</td>\n      <td>1</td>\n      <td>0</td>\n      <td>Chrome</td>\n      <td>Windows</td>\n      <td>IT</td>\n      <td>3069</td>\n      <td>CEFGV</td>\n      <td>31039</td>\n      <td>430</td>\n      <td>505</td>\n      <td>SRL</td>\n    </tr>\n  </tbody>\n</table>\n</div>"
     },
     "execution_count": 3,
     "metadata": {},
     "output_type": "execute_result"
    }
   ],
   "source": [
    "#PULIZIA DATASET E RIMOZIONE COLONNE DEPRECATE\n",
    "\n",
    "#df['datetime'] = pd.to_datetime(df['timestamp'], format='%Y-%m-%d %I:%M:%S.%f', infer_datetime_format=True)\n",
    "\n",
    "def data_cleaning(df):\n",
    "    df = df.drop(columns=['loginMode', 'isFraud', 'bankCode']) #inutili\n",
    "    df = df.drop(columns=['BIC_locationCode','BIC_branchCode','BIC_countryCode']) #incompleti\n",
    "    df = df.drop(columns=['userAgent_isMobile','userAgent_isTablet','userAgent_isTouch']) #sono 99% pc\n",
    "    df = df.drop(df[df.companyType=='****'].index)\n",
    "    df = df.dropna()\n",
    "\n",
    "    df = df[pd.to_numeric(df['CAP'], errors='coerce').notnull()] #solo cap numerici, filtra 'MONTE'\n",
    "    df.CAP=df.CAP.astype(int)\n",
    "\n",
    "    df.SAE = df.SAE.astype(int) #era float\n",
    "\n",
    "    df.RAE = df.RAE.astype(int) #era float\n",
    "\n",
    "    df['IBAN_bankCode'] = df['IBAN_bankCode'].astype('str')\n",
    "\n",
    "    return df\n",
    "\n",
    "df=data_cleaning(df)\n",
    "df.head()"
   ],
   "metadata": {
    "collapsed": false,
    "pycharm": {
     "name": "#%%\n"
    }
   }
  },
  {
   "cell_type": "code",
   "execution_count": 4,
   "outputs": [
    {
     "data": {
      "text/plain": "   customerId                timestamp country   amount  \\\n0    93000801  2021-09-15 16:13:35.147   Italy   150.00   \n1    93000801  2021-08-24 10:34:24.487  Greece  3200.00   \n2    93000801   2021-09-14 16:21:43.33   Italy  8350.00   \n3    93001001  2021-06-30 09:07:16.733   Italy   500.00   \n4    93001001  2021-07-12 16:36:02.857   Italy  1895.68   \n\n                       businessName  userAgent_isPc userAgent_browserFamily  \\\n0  c7543b6f04850eae288aa52783b33363               1                 Firefox   \n1  c7543b6f04850eae288aa52783b33363               1                 Firefox   \n2  c7543b6f04850eae288aa52783b33363               1                 Firefox   \n3  3f241dfcc38064261fec0f303c2784e5               1                  Chrome   \n4  a5d1eaffa8e325d370665f43624339a1               1                  Chrome   \n\n  userAgent_osFamily IBAN_countryCode IBAN_bankCode    SIA    CAP  SAE  RAE  \\\n0            Windows               IT          5856  CLFUY  33077  492  630   \n1            Windows               IT          5856  CLFUY  33077  492  630   \n2            Windows               IT          5856  CLFUY  33077  492  630   \n3            Windows               IT          2008  CEFGV  31039  430  505   \n4            Windows               IT          3069  CEFGV  31039  430  505   \n\n  companyType  \n0         SAS  \n1         SAS  \n2         SAS  \n3         SRL  \n4         SRL  ",
      "text/html": "<div>\n<style scoped>\n    .dataframe tbody tr th:only-of-type {\n        vertical-align: middle;\n    }\n\n    .dataframe tbody tr th {\n        vertical-align: top;\n    }\n\n    .dataframe thead th {\n        text-align: right;\n    }\n</style>\n<table border=\"1\" class=\"dataframe\">\n  <thead>\n    <tr style=\"text-align: right;\">\n      <th></th>\n      <th>customerId</th>\n      <th>timestamp</th>\n      <th>country</th>\n      <th>amount</th>\n      <th>businessName</th>\n      <th>userAgent_isPc</th>\n      <th>userAgent_browserFamily</th>\n      <th>userAgent_osFamily</th>\n      <th>IBAN_countryCode</th>\n      <th>IBAN_bankCode</th>\n      <th>SIA</th>\n      <th>CAP</th>\n      <th>SAE</th>\n      <th>RAE</th>\n      <th>companyType</th>\n    </tr>\n  </thead>\n  <tbody>\n    <tr>\n      <th>0</th>\n      <td>93000801</td>\n      <td>2021-09-15 16:13:35.147</td>\n      <td>Italy</td>\n      <td>150.00</td>\n      <td>c7543b6f04850eae288aa52783b33363</td>\n      <td>1</td>\n      <td>Firefox</td>\n      <td>Windows</td>\n      <td>IT</td>\n      <td>5856</td>\n      <td>CLFUY</td>\n      <td>33077</td>\n      <td>492</td>\n      <td>630</td>\n      <td>SAS</td>\n    </tr>\n    <tr>\n      <th>1</th>\n      <td>93000801</td>\n      <td>2021-08-24 10:34:24.487</td>\n      <td>Greece</td>\n      <td>3200.00</td>\n      <td>c7543b6f04850eae288aa52783b33363</td>\n      <td>1</td>\n      <td>Firefox</td>\n      <td>Windows</td>\n      <td>IT</td>\n      <td>5856</td>\n      <td>CLFUY</td>\n      <td>33077</td>\n      <td>492</td>\n      <td>630</td>\n      <td>SAS</td>\n    </tr>\n    <tr>\n      <th>2</th>\n      <td>93000801</td>\n      <td>2021-09-14 16:21:43.33</td>\n      <td>Italy</td>\n      <td>8350.00</td>\n      <td>c7543b6f04850eae288aa52783b33363</td>\n      <td>1</td>\n      <td>Firefox</td>\n      <td>Windows</td>\n      <td>IT</td>\n      <td>5856</td>\n      <td>CLFUY</td>\n      <td>33077</td>\n      <td>492</td>\n      <td>630</td>\n      <td>SAS</td>\n    </tr>\n    <tr>\n      <th>3</th>\n      <td>93001001</td>\n      <td>2021-06-30 09:07:16.733</td>\n      <td>Italy</td>\n      <td>500.00</td>\n      <td>3f241dfcc38064261fec0f303c2784e5</td>\n      <td>1</td>\n      <td>Chrome</td>\n      <td>Windows</td>\n      <td>IT</td>\n      <td>2008</td>\n      <td>CEFGV</td>\n      <td>31039</td>\n      <td>430</td>\n      <td>505</td>\n      <td>SRL</td>\n    </tr>\n    <tr>\n      <th>4</th>\n      <td>93001001</td>\n      <td>2021-07-12 16:36:02.857</td>\n      <td>Italy</td>\n      <td>1895.68</td>\n      <td>a5d1eaffa8e325d370665f43624339a1</td>\n      <td>1</td>\n      <td>Chrome</td>\n      <td>Windows</td>\n      <td>IT</td>\n      <td>3069</td>\n      <td>CEFGV</td>\n      <td>31039</td>\n      <td>430</td>\n      <td>505</td>\n      <td>SRL</td>\n    </tr>\n  </tbody>\n</table>\n</div>"
     },
     "execution_count": 4,
     "metadata": {},
     "output_type": "execute_result"
    }
   ],
   "source": [
    "#non ci sono più bonifici con isbot=1 eliminiamo la colonna\n",
    "df=df.drop(columns='userAgent_isBot')\n",
    "df.head()"
   ],
   "metadata": {
    "collapsed": false,
    "pycharm": {
     "name": "#%%\n"
    }
   }
  },
  {
   "cell_type": "code",
   "execution_count": 5,
   "outputs": [],
   "source": [
    "df.to_csv('cleaned_data.csv')"
   ],
   "metadata": {
    "collapsed": false,
    "pycharm": {
     "name": "#%%\n"
    }
   }
  },
  {
   "cell_type": "code",
   "execution_count": null,
   "outputs": [],
   "source": [],
   "metadata": {
    "collapsed": false,
    "pycharm": {
     "name": "#%%\n"
    }
   }
  }
 ],
 "metadata": {
  "kernelspec": {
   "display_name": "Python 3",
   "language": "python",
   "name": "python3"
  },
  "language_info": {
   "codemirror_mode": {
    "name": "ipython",
    "version": 2
   },
   "file_extension": ".py",
   "mimetype": "text/x-python",
   "name": "python",
   "nbconvert_exporter": "python",
   "pygments_lexer": "ipython2",
   "version": "2.7.6"
  }
 },
 "nbformat": 4,
 "nbformat_minor": 0
}