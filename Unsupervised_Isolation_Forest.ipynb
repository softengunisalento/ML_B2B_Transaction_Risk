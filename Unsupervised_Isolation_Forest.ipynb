{
 "cells": [
  {
   "cell_type": "code",
   "execution_count": 1,
   "outputs": [],
   "source": [
    "#IMPORTO LIBRERIE\n",
    "import pandas as pd"
   ],
   "metadata": {
    "collapsed": false,
    "pycharm": {
     "name": "#%%\n"
    }
   }
  },
  {
   "cell_type": "code",
   "execution_count": 2,
   "outputs": [
    {
     "data": {
      "text/plain": "(90960, 16)"
     },
     "execution_count": 2,
     "metadata": {},
     "output_type": "execute_result"
    }
   ],
   "source": [
    "labeled_df = pd.read_csv('labeled_df.csv')\n",
    "labeled_df.shape"
   ],
   "metadata": {
    "collapsed": false,
    "pycharm": {
     "name": "#%%\n"
    }
   }
  },
  {
   "cell_type": "code",
   "execution_count": 3,
   "outputs": [],
   "source": [
    "labeled_df = labeled_df.drop(columns='Unnamed: 0')\n",
    "labeled_df.head()"
   ],
   "metadata": {
    "collapsed": false,
    "pycharm": {
     "name": "#%%\n"
    }
   }
  },
  {
   "cell_type": "code",
   "execution_count": 5,
   "metadata": {
    "collapsed": true,
    "pycharm": {
     "name": "#%%\n"
    }
   },
   "outputs": [
    {
     "name": "stderr",
     "output_type": "stream",
     "text": [
      "C:\\Users\\Robivad\\AppData\\Local\\Programs\\Python\\Python310\\lib\\site-packages\\sklearn\\base.py:450: UserWarning: X does not have valid feature names, but IsolationForest was fitted with feature names\n",
      "  warnings.warn(\n"
     ]
    },
    {
     "name": "stdout",
     "output_type": "stream",
     "text": [
      "{'bootstrap': False, 'contamination': 0.001, 'max_features': 1.0, 'max_samples': 'auto', 'n_estimators': 100, 'n_jobs': None, 'random_state': 0, 'verbose': 0, 'warm_start': False}\n"
     ]
    }
   ],
   "source": [
    "from sklearn.ensemble import IsolationForest\n",
    "X=labeled_df.copy()\n",
    "X=X.drop(columns=['businessName','customerId','timestamp'])\n",
    "model=IsolationForest(random_state=0,contamination=0.001)\n",
    "model.fit(X)\n",
    "print(model.get_params())"
   ]
  },
  {
   "cell_type": "code",
   "execution_count": 6,
   "outputs": [],
   "source": [
    "import pickle\n",
    "pickle.dump(model, open('IF_model.pkl','wb'))"
   ],
   "metadata": {
    "collapsed": false,
    "pycharm": {
     "name": "#%%\n"
    }
   }
  },
  {
   "cell_type": "code",
   "execution_count": 7,
   "outputs": [],
   "source": [
    "encoder_dict=pickle.load(open('enc_dict.pkl','rb'))\n",
    "columns_to_label = ['country', 'userAgent_browserFamily', 'userAgent_osFamily', 'IBAN_countryCode', 'IBAN_bankCode','CAP', 'SIA', 'SAE', 'RAE','companyType']"
   ],
   "metadata": {
    "collapsed": false,
    "pycharm": {
     "name": "#%%\n"
    }
   }
  },
  {
   "cell_type": "code",
   "execution_count": 8,
   "outputs": [
    {
     "data": {
      "text/plain": "   customerId                timestamp country   amount  \\\n0    93000801  2021-09-15 16:13:35.147   Italy   150.00   \n1    93000801  2021-08-24 10:34:24.487  Greece  3200.00   \n2    93000801   2021-09-14 16:21:43.33   Italy  8350.00   \n3    93001001  2021-06-30 09:07:16.733   Italy   500.00   \n4    93001001  2021-07-12 16:36:02.857   Italy  1895.68   \n\n                       businessName  userAgent_isPc userAgent_browserFamily  \\\n0  c7543b6f04850eae288aa52783b33363               1                 Firefox   \n1  c7543b6f04850eae288aa52783b33363               1                 Firefox   \n2  c7543b6f04850eae288aa52783b33363               1                 Firefox   \n3  3f241dfcc38064261fec0f303c2784e5               1                  Chrome   \n4  a5d1eaffa8e325d370665f43624339a1               1                  Chrome   \n\n  userAgent_osFamily IBAN_countryCode IBAN_bankCode    SIA    CAP  SAE  RAE  \\\n0            Windows               IT          5856  CLFUY  33077  492  630   \n1            Windows               IT          5856  CLFUY  33077  492  630   \n2            Windows               IT          5856  CLFUY  33077  492  630   \n3            Windows               IT          2008  CEFGV  31039  430  505   \n4            Windows               IT          3069  CEFGV  31039  430  505   \n\n  companyType    scores  anomaly_score  \n0         SAS  0.153537              1  \n1         SAS  0.127344              1  \n2         SAS  0.136098              1  \n3         SRL  0.279952              1  \n4         SRL  0.285561              1  ",
      "text/html": "<div>\n<style scoped>\n    .dataframe tbody tr th:only-of-type {\n        vertical-align: middle;\n    }\n\n    .dataframe tbody tr th {\n        vertical-align: top;\n    }\n\n    .dataframe thead th {\n        text-align: right;\n    }\n</style>\n<table border=\"1\" class=\"dataframe\">\n  <thead>\n    <tr style=\"text-align: right;\">\n      <th></th>\n      <th>customerId</th>\n      <th>timestamp</th>\n      <th>country</th>\n      <th>amount</th>\n      <th>businessName</th>\n      <th>userAgent_isPc</th>\n      <th>userAgent_browserFamily</th>\n      <th>userAgent_osFamily</th>\n      <th>IBAN_countryCode</th>\n      <th>IBAN_bankCode</th>\n      <th>SIA</th>\n      <th>CAP</th>\n      <th>SAE</th>\n      <th>RAE</th>\n      <th>companyType</th>\n      <th>scores</th>\n      <th>anomaly_score</th>\n    </tr>\n  </thead>\n  <tbody>\n    <tr>\n      <th>0</th>\n      <td>93000801</td>\n      <td>2021-09-15 16:13:35.147</td>\n      <td>Italy</td>\n      <td>150.00</td>\n      <td>c7543b6f04850eae288aa52783b33363</td>\n      <td>1</td>\n      <td>Firefox</td>\n      <td>Windows</td>\n      <td>IT</td>\n      <td>5856</td>\n      <td>CLFUY</td>\n      <td>33077</td>\n      <td>492</td>\n      <td>630</td>\n      <td>SAS</td>\n      <td>0.153537</td>\n      <td>1</td>\n    </tr>\n    <tr>\n      <th>1</th>\n      <td>93000801</td>\n      <td>2021-08-24 10:34:24.487</td>\n      <td>Greece</td>\n      <td>3200.00</td>\n      <td>c7543b6f04850eae288aa52783b33363</td>\n      <td>1</td>\n      <td>Firefox</td>\n      <td>Windows</td>\n      <td>IT</td>\n      <td>5856</td>\n      <td>CLFUY</td>\n      <td>33077</td>\n      <td>492</td>\n      <td>630</td>\n      <td>SAS</td>\n      <td>0.127344</td>\n      <td>1</td>\n    </tr>\n    <tr>\n      <th>2</th>\n      <td>93000801</td>\n      <td>2021-09-14 16:21:43.33</td>\n      <td>Italy</td>\n      <td>8350.00</td>\n      <td>c7543b6f04850eae288aa52783b33363</td>\n      <td>1</td>\n      <td>Firefox</td>\n      <td>Windows</td>\n      <td>IT</td>\n      <td>5856</td>\n      <td>CLFUY</td>\n      <td>33077</td>\n      <td>492</td>\n      <td>630</td>\n      <td>SAS</td>\n      <td>0.136098</td>\n      <td>1</td>\n    </tr>\n    <tr>\n      <th>3</th>\n      <td>93001001</td>\n      <td>2021-06-30 09:07:16.733</td>\n      <td>Italy</td>\n      <td>500.00</td>\n      <td>3f241dfcc38064261fec0f303c2784e5</td>\n      <td>1</td>\n      <td>Chrome</td>\n      <td>Windows</td>\n      <td>IT</td>\n      <td>2008</td>\n      <td>CEFGV</td>\n      <td>31039</td>\n      <td>430</td>\n      <td>505</td>\n      <td>SRL</td>\n      <td>0.279952</td>\n      <td>1</td>\n    </tr>\n    <tr>\n      <th>4</th>\n      <td>93001001</td>\n      <td>2021-07-12 16:36:02.857</td>\n      <td>Italy</td>\n      <td>1895.68</td>\n      <td>a5d1eaffa8e325d370665f43624339a1</td>\n      <td>1</td>\n      <td>Chrome</td>\n      <td>Windows</td>\n      <td>IT</td>\n      <td>3069</td>\n      <td>CEFGV</td>\n      <td>31039</td>\n      <td>430</td>\n      <td>505</td>\n      <td>SRL</td>\n      <td>0.285561</td>\n      <td>1</td>\n    </tr>\n  </tbody>\n</table>\n</div>"
     },
     "execution_count": 8,
     "metadata": {},
     "output_type": "execute_result"
    }
   ],
   "source": [
    "def inverse_and_scores(if_df,labeled_df,enc_dict,columns,if_model):\n",
    "    df_copy=labeled_df.copy()\n",
    "    scores=if_model.decision_function(if_df)\n",
    "    anomaly_score=if_model.predict(if_df)\n",
    "\n",
    "    for clmn in columns:\n",
    "        df_copy[clmn]=enc_dict[clmn].inverse_transform(df_copy[clmn])\n",
    "\n",
    "    df_copy['scores'] = scores\n",
    "    df_copy['anomaly_score'] = anomaly_score\n",
    "\n",
    "    return df_copy\n",
    "\n",
    "df_scores=inverse_and_scores(X,labeled_df,encoder_dict,columns_to_label,model)\n",
    "\n",
    "df_scores.head()"
   ],
   "metadata": {
    "collapsed": false,
    "pycharm": {
     "name": "#%%\n"
    }
   }
  },
  {
   "cell_type": "code",
   "execution_count": 10,
   "outputs": [
    {
     "data": {
      "text/plain": "       customerId                timestamp country     amount  \\\n43968    41999520  2021-09-16 11:41:45.407   Italy  270000.00   \n42632    45915153  2021-08-24 11:47:38.077   Italy     299.00   \n42622    45915153  2021-09-02 15:44:16.347   Italy     687.00   \n42623    45915153   2021-04-29 14:17:14.26   Italy    1000.00   \n42619    45915153  2021-07-30 15:25:38.557   Italy    1000.00   \n...           ...                      ...     ...        ...   \n35718    37138459  2021-04-28 17:31:45.617   Italy    1200.00   \n35699    37138459   2021-05-31 12:26:50.96   Italy    1000.00   \n35709    37138459  2021-05-31 12:27:54.693   Italy    1200.00   \n52883    58147956  2021-09-08 09:05:32.347   Italy     554.50   \n35713    37138459  2021-04-22 04:37:59.207   Italy      46.88   \n\n                           businessName  userAgent_isPc  \\\n43968  d1126a5e3988d76235cde4c7eed8ebbd               0   \n42632  73322bb678a4c1b6a94fe29411a5fafe               0   \n42622  73322bb678a4c1b6a94fe29411a5fafe               0   \n42623  f2a85ebb8645443730a3fba554a69914               0   \n42619  f2a85ebb8645443730a3fba554a69914               0   \n...                                 ...             ...   \n35718  e2390d68c5d65e82e64c907234ea9497               0   \n35699  8fa0dc37670dc010628473c668cc74c0               0   \n35709  e2390d68c5d65e82e64c907234ea9497               0   \n52883  ce9ac220c8cff10ee86a7bad7708142f               1   \n35713  b691c2e76ffe0df388d8b8fb04b1344c               0   \n\n      userAgent_browserFamily userAgent_osFamily IBAN_countryCode  \\\n43968                   Other              Linux               IT   \n42632                   Other              Linux               IT   \n42622                   Other              Linux               IT   \n42623                   Other              Linux               IT   \n42619                   Other              Linux               IT   \n...                       ...                ...              ...   \n35718                   Other              Linux               IT   \n35699                   Other              Linux               IT   \n35709                   Other              Linux               IT   \n52883                  Safari           Mac OS X               IT   \n35713                   Other              Linux               IT   \n\n      IBAN_bankCode    SIA    CAP  SAE  RAE companyType    scores  \\\n43968          3493  347D3  39038  430  830        GMBH -0.080374   \n42632          8904  082X3  30024  614  342          DI -0.054135   \n42622          8904  082X3  30024  614  342          DI -0.052696   \n42623          8904  082X3  30024  614  342          DI -0.051738   \n42619          8904  082X3  30024  614  342          DI -0.051738   \n...             ...    ...    ...  ...  ...         ...       ...   \n35718          5856  AJ822  39100  482  419         SNC -0.000376   \n35699          5856  AJ822  39100  482  419         SNC -0.000376   \n35709          5856  AJ822  39100  482  419         SNC -0.000376   \n52883          8904  CRUT0  31010  615   11          SS -0.000326   \n35713          6045  AJ822  39100  482  419         SNC -0.000025   \n\n       anomaly_score  \n43968             -1  \n42632             -1  \n42622             -1  \n42623             -1  \n42619             -1  \n...              ...  \n35718             -1  \n35699             -1  \n35709             -1  \n52883             -1  \n35713             -1  \n\n[91 rows x 17 columns]",
      "text/html": "<div>\n<style scoped>\n    .dataframe tbody tr th:only-of-type {\n        vertical-align: middle;\n    }\n\n    .dataframe tbody tr th {\n        vertical-align: top;\n    }\n\n    .dataframe thead th {\n        text-align: right;\n    }\n</style>\n<table border=\"1\" class=\"dataframe\">\n  <thead>\n    <tr style=\"text-align: right;\">\n      <th></th>\n      <th>customerId</th>\n      <th>timestamp</th>\n      <th>country</th>\n      <th>amount</th>\n      <th>businessName</th>\n      <th>userAgent_isPc</th>\n      <th>userAgent_browserFamily</th>\n      <th>userAgent_osFamily</th>\n      <th>IBAN_countryCode</th>\n      <th>IBAN_bankCode</th>\n      <th>SIA</th>\n      <th>CAP</th>\n      <th>SAE</th>\n      <th>RAE</th>\n      <th>companyType</th>\n      <th>scores</th>\n      <th>anomaly_score</th>\n    </tr>\n  </thead>\n  <tbody>\n    <tr>\n      <th>43968</th>\n      <td>41999520</td>\n      <td>2021-09-16 11:41:45.407</td>\n      <td>Italy</td>\n      <td>270000.00</td>\n      <td>d1126a5e3988d76235cde4c7eed8ebbd</td>\n      <td>0</td>\n      <td>Other</td>\n      <td>Linux</td>\n      <td>IT</td>\n      <td>3493</td>\n      <td>347D3</td>\n      <td>39038</td>\n      <td>430</td>\n      <td>830</td>\n      <td>GMBH</td>\n      <td>-0.080374</td>\n      <td>-1</td>\n    </tr>\n    <tr>\n      <th>42632</th>\n      <td>45915153</td>\n      <td>2021-08-24 11:47:38.077</td>\n      <td>Italy</td>\n      <td>299.00</td>\n      <td>73322bb678a4c1b6a94fe29411a5fafe</td>\n      <td>0</td>\n      <td>Other</td>\n      <td>Linux</td>\n      <td>IT</td>\n      <td>8904</td>\n      <td>082X3</td>\n      <td>30024</td>\n      <td>614</td>\n      <td>342</td>\n      <td>DI</td>\n      <td>-0.054135</td>\n      <td>-1</td>\n    </tr>\n    <tr>\n      <th>42622</th>\n      <td>45915153</td>\n      <td>2021-09-02 15:44:16.347</td>\n      <td>Italy</td>\n      <td>687.00</td>\n      <td>73322bb678a4c1b6a94fe29411a5fafe</td>\n      <td>0</td>\n      <td>Other</td>\n      <td>Linux</td>\n      <td>IT</td>\n      <td>8904</td>\n      <td>082X3</td>\n      <td>30024</td>\n      <td>614</td>\n      <td>342</td>\n      <td>DI</td>\n      <td>-0.052696</td>\n      <td>-1</td>\n    </tr>\n    <tr>\n      <th>42623</th>\n      <td>45915153</td>\n      <td>2021-04-29 14:17:14.26</td>\n      <td>Italy</td>\n      <td>1000.00</td>\n      <td>f2a85ebb8645443730a3fba554a69914</td>\n      <td>0</td>\n      <td>Other</td>\n      <td>Linux</td>\n      <td>IT</td>\n      <td>8904</td>\n      <td>082X3</td>\n      <td>30024</td>\n      <td>614</td>\n      <td>342</td>\n      <td>DI</td>\n      <td>-0.051738</td>\n      <td>-1</td>\n    </tr>\n    <tr>\n      <th>42619</th>\n      <td>45915153</td>\n      <td>2021-07-30 15:25:38.557</td>\n      <td>Italy</td>\n      <td>1000.00</td>\n      <td>f2a85ebb8645443730a3fba554a69914</td>\n      <td>0</td>\n      <td>Other</td>\n      <td>Linux</td>\n      <td>IT</td>\n      <td>8904</td>\n      <td>082X3</td>\n      <td>30024</td>\n      <td>614</td>\n      <td>342</td>\n      <td>DI</td>\n      <td>-0.051738</td>\n      <td>-1</td>\n    </tr>\n    <tr>\n      <th>...</th>\n      <td>...</td>\n      <td>...</td>\n      <td>...</td>\n      <td>...</td>\n      <td>...</td>\n      <td>...</td>\n      <td>...</td>\n      <td>...</td>\n      <td>...</td>\n      <td>...</td>\n      <td>...</td>\n      <td>...</td>\n      <td>...</td>\n      <td>...</td>\n      <td>...</td>\n      <td>...</td>\n      <td>...</td>\n    </tr>\n    <tr>\n      <th>35718</th>\n      <td>37138459</td>\n      <td>2021-04-28 17:31:45.617</td>\n      <td>Italy</td>\n      <td>1200.00</td>\n      <td>e2390d68c5d65e82e64c907234ea9497</td>\n      <td>0</td>\n      <td>Other</td>\n      <td>Linux</td>\n      <td>IT</td>\n      <td>5856</td>\n      <td>AJ822</td>\n      <td>39100</td>\n      <td>482</td>\n      <td>419</td>\n      <td>SNC</td>\n      <td>-0.000376</td>\n      <td>-1</td>\n    </tr>\n    <tr>\n      <th>35699</th>\n      <td>37138459</td>\n      <td>2021-05-31 12:26:50.96</td>\n      <td>Italy</td>\n      <td>1000.00</td>\n      <td>8fa0dc37670dc010628473c668cc74c0</td>\n      <td>0</td>\n      <td>Other</td>\n      <td>Linux</td>\n      <td>IT</td>\n      <td>5856</td>\n      <td>AJ822</td>\n      <td>39100</td>\n      <td>482</td>\n      <td>419</td>\n      <td>SNC</td>\n      <td>-0.000376</td>\n      <td>-1</td>\n    </tr>\n    <tr>\n      <th>35709</th>\n      <td>37138459</td>\n      <td>2021-05-31 12:27:54.693</td>\n      <td>Italy</td>\n      <td>1200.00</td>\n      <td>e2390d68c5d65e82e64c907234ea9497</td>\n      <td>0</td>\n      <td>Other</td>\n      <td>Linux</td>\n      <td>IT</td>\n      <td>5856</td>\n      <td>AJ822</td>\n      <td>39100</td>\n      <td>482</td>\n      <td>419</td>\n      <td>SNC</td>\n      <td>-0.000376</td>\n      <td>-1</td>\n    </tr>\n    <tr>\n      <th>52883</th>\n      <td>58147956</td>\n      <td>2021-09-08 09:05:32.347</td>\n      <td>Italy</td>\n      <td>554.50</td>\n      <td>ce9ac220c8cff10ee86a7bad7708142f</td>\n      <td>1</td>\n      <td>Safari</td>\n      <td>Mac OS X</td>\n      <td>IT</td>\n      <td>8904</td>\n      <td>CRUT0</td>\n      <td>31010</td>\n      <td>615</td>\n      <td>11</td>\n      <td>SS</td>\n      <td>-0.000326</td>\n      <td>-1</td>\n    </tr>\n    <tr>\n      <th>35713</th>\n      <td>37138459</td>\n      <td>2021-04-22 04:37:59.207</td>\n      <td>Italy</td>\n      <td>46.88</td>\n      <td>b691c2e76ffe0df388d8b8fb04b1344c</td>\n      <td>0</td>\n      <td>Other</td>\n      <td>Linux</td>\n      <td>IT</td>\n      <td>6045</td>\n      <td>AJ822</td>\n      <td>39100</td>\n      <td>482</td>\n      <td>419</td>\n      <td>SNC</td>\n      <td>-0.000025</td>\n      <td>-1</td>\n    </tr>\n  </tbody>\n</table>\n<p>91 rows × 17 columns</p>\n</div>"
     },
     "execution_count": 10,
     "metadata": {},
     "output_type": "execute_result"
    }
   ],
   "source": [
    "df_scores[df_scores['anomaly_score']==-1].sort_values('scores')"
   ],
   "metadata": {
    "collapsed": false,
    "pycharm": {
     "name": "#%%\n"
    }
   }
  },
  {
   "cell_type": "code",
   "execution_count": null,
   "outputs": [],
   "source": [
    "df_scores.to_csv('IF_df_scores.csv')"
   ],
   "metadata": {
    "collapsed": false,
    "pycharm": {
     "name": "#%%\n"
    }
   }
  },
  {
   "cell_type": "code",
   "execution_count": 31,
   "outputs": [
    {
     "data": {
      "text/plain": "   country   amount  userAgent_isPc  userAgent_browserFamily  \\\n0        6   150.00               1                        4   \n1        5  3200.00               1                        4   \n2        6  8350.00               1                        4   \n3        6   500.00               1                        0   \n4        6  1895.68               1                        0   \n\n   userAgent_osFamily  IBAN_countryCode  IBAN_bankCode   SIA  CAP  SAE  RAE  \\\n0                   5                17            699  2013  144   19  113   \n1                   5                17            699  2013  144   19  113   \n2                   5                17            699  2013  144   19  113   \n3                   5                17            123  1781   90    8   99   \n4                   5                17            285  1781   90    8   99   \n\n   companyType  label  \n0            5      0  \n1            5      0  \n2            5      0  \n3           10      0  \n4           10      0  ",
      "text/html": "<div>\n<style scoped>\n    .dataframe tbody tr th:only-of-type {\n        vertical-align: middle;\n    }\n\n    .dataframe tbody tr th {\n        vertical-align: top;\n    }\n\n    .dataframe thead th {\n        text-align: right;\n    }\n</style>\n<table border=\"1\" class=\"dataframe\">\n  <thead>\n    <tr style=\"text-align: right;\">\n      <th></th>\n      <th>country</th>\n      <th>amount</th>\n      <th>userAgent_isPc</th>\n      <th>userAgent_browserFamily</th>\n      <th>userAgent_osFamily</th>\n      <th>IBAN_countryCode</th>\n      <th>IBAN_bankCode</th>\n      <th>SIA</th>\n      <th>CAP</th>\n      <th>SAE</th>\n      <th>RAE</th>\n      <th>companyType</th>\n      <th>label</th>\n    </tr>\n  </thead>\n  <tbody>\n    <tr>\n      <th>0</th>\n      <td>6</td>\n      <td>150.00</td>\n      <td>1</td>\n      <td>4</td>\n      <td>5</td>\n      <td>17</td>\n      <td>699</td>\n      <td>2013</td>\n      <td>144</td>\n      <td>19</td>\n      <td>113</td>\n      <td>5</td>\n      <td>0</td>\n    </tr>\n    <tr>\n      <th>1</th>\n      <td>5</td>\n      <td>3200.00</td>\n      <td>1</td>\n      <td>4</td>\n      <td>5</td>\n      <td>17</td>\n      <td>699</td>\n      <td>2013</td>\n      <td>144</td>\n      <td>19</td>\n      <td>113</td>\n      <td>5</td>\n      <td>0</td>\n    </tr>\n    <tr>\n      <th>2</th>\n      <td>6</td>\n      <td>8350.00</td>\n      <td>1</td>\n      <td>4</td>\n      <td>5</td>\n      <td>17</td>\n      <td>699</td>\n      <td>2013</td>\n      <td>144</td>\n      <td>19</td>\n      <td>113</td>\n      <td>5</td>\n      <td>0</td>\n    </tr>\n    <tr>\n      <th>3</th>\n      <td>6</td>\n      <td>500.00</td>\n      <td>1</td>\n      <td>0</td>\n      <td>5</td>\n      <td>17</td>\n      <td>123</td>\n      <td>1781</td>\n      <td>90</td>\n      <td>8</td>\n      <td>99</td>\n      <td>10</td>\n      <td>0</td>\n    </tr>\n    <tr>\n      <th>4</th>\n      <td>6</td>\n      <td>1895.68</td>\n      <td>1</td>\n      <td>0</td>\n      <td>5</td>\n      <td>17</td>\n      <td>285</td>\n      <td>1781</td>\n      <td>90</td>\n      <td>8</td>\n      <td>99</td>\n      <td>10</td>\n      <td>0</td>\n    </tr>\n  </tbody>\n</table>\n</div>"
     },
     "execution_count": 31,
     "metadata": {},
     "output_type": "execute_result"
    }
   ],
   "source": [
    "IF_labeled_df = X.copy()\n",
    "IF_labeled_df['label']=model.predict(X)\n",
    "IF_labeled_df['label']=IF_labeled_df['label'].replace(1,0)\n",
    "IF_labeled_df['label']=IF_labeled_df['label'].replace(-1,1)\n",
    "IF_labeled_df.head()"
   ],
   "metadata": {
    "collapsed": false,
    "pycharm": {
     "name": "#%%\n"
    }
   }
  },
  {
   "cell_type": "code",
   "execution_count": 32,
   "outputs": [],
   "source": [
    "IF_labeled_df.to_csv('IF_labeled_df.csv')"
   ],
   "metadata": {
    "collapsed": false,
    "pycharm": {
     "name": "#%%\n"
    }
   }
  },
  {
   "cell_type": "code",
   "execution_count": null,
   "outputs": [],
   "source": [],
   "metadata": {
    "collapsed": false,
    "pycharm": {
     "name": "#%%\n"
    }
   }
  }
 ],
 "metadata": {
  "kernelspec": {
   "display_name": "Python 3",
   "language": "python",
   "name": "python3"
  },
  "language_info": {
   "codemirror_mode": {
    "name": "ipython",
    "version": 2
   },
   "file_extension": ".py",
   "mimetype": "text/x-python",
   "name": "python",
   "nbconvert_exporter": "python",
   "pygments_lexer": "ipython2",
   "version": "2.7.6"
  }
 },
 "nbformat": 4,
 "nbformat_minor": 0
}