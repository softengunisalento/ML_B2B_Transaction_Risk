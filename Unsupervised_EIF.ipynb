{
 "nbformat": 4,
 "nbformat_minor": 0,
 "metadata": {
  "colab": {
   "provenance": [],
   "authorship_tag": "ABX9TyNou40rV7+DTa7+VhOa2yu5",
   "include_colab_link": true
  },
  "kernelspec": {
   "name": "python3",
   "display_name": "Python 3"
  },
  "language_info": {
   "name": "python"
  }
 },
 "cells": [
  {
   "cell_type": "markdown",
   "metadata": {
    "id": "view-in-github",
    "colab_type": "text",
    "pycharm": {
     "name": "#%% md\n"
    }
   },
   "source": [
    "<a href=\"https://colab.research.google.com/github/Cyber-Vadok/TESI/blob/master/Unsupervised_EIF.ipynb\" target=\"_parent\"><img src=\"https://colab.research.google.com/assets/colab-badge.svg\" alt=\"Open In Colab\"/></a>"
   ]
  },
  {
   "cell_type": "code",
   "execution_count": 1,
   "metadata": {
    "colab": {
     "base_uri": "https://localhost:8080/"
    },
    "id": "qlAJt2p-rdbR",
    "outputId": "9a063e25-5adf-416d-d5c2-e0913581c713",
    "pycharm": {
     "name": "#%%\n"
    }
   },
   "outputs": [
    {
     "output_type": "stream",
     "name": "stdout",
     "text": [
      "Looking in indexes: https://pypi.org/simple, https://us-python.pkg.dev/colab-wheels/public/simple/\n",
      "Collecting eif\n",
      "  Downloading eif-2.0.2.tar.gz (1.6 MB)\n",
      "\u001B[K     |████████████████████████████████| 1.6 MB 5.8 MB/s \n",
      "\u001B[?25hRequirement already satisfied: numpy in /usr/local/lib/python3.7/dist-packages (from eif) (1.21.6)\n",
      "Requirement already satisfied: cython in /usr/local/lib/python3.7/dist-packages (from eif) (0.29.32)\n",
      "Building wheels for collected packages: eif\n",
      "  Building wheel for eif (setup.py) ... \u001B[?25l\u001B[?25hdone\n",
      "  Created wheel for eif: filename=eif-2.0.2-cp37-cp37m-linux_x86_64.whl size=252513 sha256=c122ff587942cda4a2679715af4528ce6901352d428b43868c41580a803e704c\n",
      "  Stored in directory: /root/.cache/pip/wheels/99/2d/aa/26b73ee1302b1967b90ea1dfa3ba78bcbcee9916a028a7bba5\n",
      "Successfully built eif\n",
      "Installing collected packages: eif\n",
      "Successfully installed eif-2.0.2\n"
     ]
    }
   ],
   "source": [
    "!pip install eif"
   ]
  },
  {
   "cell_type": "code",
   "source": [
    "import pandas as pd"
   ],
   "metadata": {
    "id": "0d9m4n2erff-",
    "pycharm": {
     "name": "#%%\n"
    }
   },
   "execution_count": 13,
   "outputs": []
  },
  {
   "cell_type": "code",
   "source": [
    "labeled_df = pd.read_csv('labeled_df.csv')\n",
    "labeled_df.shape"
   ],
   "metadata": {
    "colab": {
     "base_uri": "https://localhost:8080/"
    },
    "id": "ly1GnI2Pr1qR",
    "outputId": "70cad136-6c07-4bfa-c93d-83d677b0b005",
    "pycharm": {
     "name": "#%%\n"
    }
   },
   "execution_count": 14,
   "outputs": [
    {
     "output_type": "execute_result",
     "data": {
      "text/plain": [
       "(90960, 16)"
      ]
     },
     "metadata": {},
     "execution_count": 14
    }
   ]
  },
  {
   "cell_type": "code",
   "source": [
    "labeled_df = labeled_df.drop(columns='Unnamed: 0')\n",
    "labeled_df.head()"
   ],
   "metadata": {
    "colab": {
     "base_uri": "https://localhost:8080/",
     "height": 357
    },
    "id": "n0o9TSxqr3T9",
    "outputId": "5fd91f4d-604d-4dc7-cf16-f083a02f3dfa",
    "pycharm": {
     "name": "#%%\n"
    }
   },
   "execution_count": 15,
   "outputs": [
    {
     "output_type": "execute_result",
     "data": {
      "text/plain": [
       "   customerId                timestamp  country   amount  \\\n",
       "0    93000801  2021-09-15 16:13:35.147        6   150.00   \n",
       "1    93000801  2021-08-24 10:34:24.487        5  3200.00   \n",
       "2    93000801   2021-09-14 16:21:43.33        6  8350.00   \n",
       "3    93001001  2021-06-30 09:07:16.733        6   500.00   \n",
       "4    93001001  2021-07-12 16:36:02.857        6  1895.68   \n",
       "\n",
       "                       businessName  userAgent_isPc  userAgent_browserFamily  \\\n",
       "0  c7543b6f04850eae288aa52783b33363               1                        4   \n",
       "1  c7543b6f04850eae288aa52783b33363               1                        4   \n",
       "2  c7543b6f04850eae288aa52783b33363               1                        4   \n",
       "3  3f241dfcc38064261fec0f303c2784e5               1                        0   \n",
       "4  a5d1eaffa8e325d370665f43624339a1               1                        0   \n",
       "\n",
       "   userAgent_osFamily  IBAN_countryCode  IBAN_bankCode   SIA  CAP  SAE  RAE  \\\n",
       "0                   5                17            699  2013  144   19  113   \n",
       "1                   5                17            699  2013  144   19  113   \n",
       "2                   5                17            699  2013  144   19  113   \n",
       "3                   5                17            123  1781   90    8   99   \n",
       "4                   5                17            285  1781   90    8   99   \n",
       "\n",
       "   companyType  \n",
       "0            5  \n",
       "1            5  \n",
       "2            5  \n",
       "3           10  \n",
       "4           10  "
      ],
      "text/html": [
       "\n",
       "  <div id=\"df-9c55bb16-5aac-41aa-b5b0-29fcc4884ec4\">\n",
       "    <div class=\"colab-df-container\">\n",
       "      <div>\n",
       "<style scoped>\n",
       "    .dataframe tbody tr th:only-of-type {\n",
       "        vertical-align: middle;\n",
       "    }\n",
       "\n",
       "    .dataframe tbody tr th {\n",
       "        vertical-align: top;\n",
       "    }\n",
       "\n",
       "    .dataframe thead th {\n",
       "        text-align: right;\n",
       "    }\n",
       "</style>\n",
       "<table border=\"1\" class=\"dataframe\">\n",
       "  <thead>\n",
       "    <tr style=\"text-align: right;\">\n",
       "      <th></th>\n",
       "      <th>customerId</th>\n",
       "      <th>timestamp</th>\n",
       "      <th>country</th>\n",
       "      <th>amount</th>\n",
       "      <th>businessName</th>\n",
       "      <th>userAgent_isPc</th>\n",
       "      <th>userAgent_browserFamily</th>\n",
       "      <th>userAgent_osFamily</th>\n",
       "      <th>IBAN_countryCode</th>\n",
       "      <th>IBAN_bankCode</th>\n",
       "      <th>SIA</th>\n",
       "      <th>CAP</th>\n",
       "      <th>SAE</th>\n",
       "      <th>RAE</th>\n",
       "      <th>companyType</th>\n",
       "    </tr>\n",
       "  </thead>\n",
       "  <tbody>\n",
       "    <tr>\n",
       "      <th>0</th>\n",
       "      <td>93000801</td>\n",
       "      <td>2021-09-15 16:13:35.147</td>\n",
       "      <td>6</td>\n",
       "      <td>150.00</td>\n",
       "      <td>c7543b6f04850eae288aa52783b33363</td>\n",
       "      <td>1</td>\n",
       "      <td>4</td>\n",
       "      <td>5</td>\n",
       "      <td>17</td>\n",
       "      <td>699</td>\n",
       "      <td>2013</td>\n",
       "      <td>144</td>\n",
       "      <td>19</td>\n",
       "      <td>113</td>\n",
       "      <td>5</td>\n",
       "    </tr>\n",
       "    <tr>\n",
       "      <th>1</th>\n",
       "      <td>93000801</td>\n",
       "      <td>2021-08-24 10:34:24.487</td>\n",
       "      <td>5</td>\n",
       "      <td>3200.00</td>\n",
       "      <td>c7543b6f04850eae288aa52783b33363</td>\n",
       "      <td>1</td>\n",
       "      <td>4</td>\n",
       "      <td>5</td>\n",
       "      <td>17</td>\n",
       "      <td>699</td>\n",
       "      <td>2013</td>\n",
       "      <td>144</td>\n",
       "      <td>19</td>\n",
       "      <td>113</td>\n",
       "      <td>5</td>\n",
       "    </tr>\n",
       "    <tr>\n",
       "      <th>2</th>\n",
       "      <td>93000801</td>\n",
       "      <td>2021-09-14 16:21:43.33</td>\n",
       "      <td>6</td>\n",
       "      <td>8350.00</td>\n",
       "      <td>c7543b6f04850eae288aa52783b33363</td>\n",
       "      <td>1</td>\n",
       "      <td>4</td>\n",
       "      <td>5</td>\n",
       "      <td>17</td>\n",
       "      <td>699</td>\n",
       "      <td>2013</td>\n",
       "      <td>144</td>\n",
       "      <td>19</td>\n",
       "      <td>113</td>\n",
       "      <td>5</td>\n",
       "    </tr>\n",
       "    <tr>\n",
       "      <th>3</th>\n",
       "      <td>93001001</td>\n",
       "      <td>2021-06-30 09:07:16.733</td>\n",
       "      <td>6</td>\n",
       "      <td>500.00</td>\n",
       "      <td>3f241dfcc38064261fec0f303c2784e5</td>\n",
       "      <td>1</td>\n",
       "      <td>0</td>\n",
       "      <td>5</td>\n",
       "      <td>17</td>\n",
       "      <td>123</td>\n",
       "      <td>1781</td>\n",
       "      <td>90</td>\n",
       "      <td>8</td>\n",
       "      <td>99</td>\n",
       "      <td>10</td>\n",
       "    </tr>\n",
       "    <tr>\n",
       "      <th>4</th>\n",
       "      <td>93001001</td>\n",
       "      <td>2021-07-12 16:36:02.857</td>\n",
       "      <td>6</td>\n",
       "      <td>1895.68</td>\n",
       "      <td>a5d1eaffa8e325d370665f43624339a1</td>\n",
       "      <td>1</td>\n",
       "      <td>0</td>\n",
       "      <td>5</td>\n",
       "      <td>17</td>\n",
       "      <td>285</td>\n",
       "      <td>1781</td>\n",
       "      <td>90</td>\n",
       "      <td>8</td>\n",
       "      <td>99</td>\n",
       "      <td>10</td>\n",
       "    </tr>\n",
       "  </tbody>\n",
       "</table>\n",
       "</div>\n",
       "      <button class=\"colab-df-convert\" onclick=\"convertToInteractive('df-9c55bb16-5aac-41aa-b5b0-29fcc4884ec4')\"\n",
       "              title=\"Convert this dataframe to an interactive table.\"\n",
       "              style=\"display:none;\">\n",
       "        \n",
       "  <svg xmlns=\"http://www.w3.org/2000/svg\" height=\"24px\"viewBox=\"0 0 24 24\"\n",
       "       width=\"24px\">\n",
       "    <path d=\"M0 0h24v24H0V0z\" fill=\"none\"/>\n",
       "    <path d=\"M18.56 5.44l.94 2.06.94-2.06 2.06-.94-2.06-.94-.94-2.06-.94 2.06-2.06.94zm-11 1L8.5 8.5l.94-2.06 2.06-.94-2.06-.94L8.5 2.5l-.94 2.06-2.06.94zm10 10l.94 2.06.94-2.06 2.06-.94-2.06-.94-.94-2.06-.94 2.06-2.06.94z\"/><path d=\"M17.41 7.96l-1.37-1.37c-.4-.4-.92-.59-1.43-.59-.52 0-1.04.2-1.43.59L10.3 9.45l-7.72 7.72c-.78.78-.78 2.05 0 2.83L4 21.41c.39.39.9.59 1.41.59.51 0 1.02-.2 1.41-.59l7.78-7.78 2.81-2.81c.8-.78.8-2.07 0-2.86zM5.41 20L4 18.59l7.72-7.72 1.47 1.35L5.41 20z\"/>\n",
       "  </svg>\n",
       "      </button>\n",
       "      \n",
       "  <style>\n",
       "    .colab-df-container {\n",
       "      display:flex;\n",
       "      flex-wrap:wrap;\n",
       "      gap: 12px;\n",
       "    }\n",
       "\n",
       "    .colab-df-convert {\n",
       "      background-color: #E8F0FE;\n",
       "      border: none;\n",
       "      border-radius: 50%;\n",
       "      cursor: pointer;\n",
       "      display: none;\n",
       "      fill: #1967D2;\n",
       "      height: 32px;\n",
       "      padding: 0 0 0 0;\n",
       "      width: 32px;\n",
       "    }\n",
       "\n",
       "    .colab-df-convert:hover {\n",
       "      background-color: #E2EBFA;\n",
       "      box-shadow: 0px 1px 2px rgba(60, 64, 67, 0.3), 0px 1px 3px 1px rgba(60, 64, 67, 0.15);\n",
       "      fill: #174EA6;\n",
       "    }\n",
       "\n",
       "    [theme=dark] .colab-df-convert {\n",
       "      background-color: #3B4455;\n",
       "      fill: #D2E3FC;\n",
       "    }\n",
       "\n",
       "    [theme=dark] .colab-df-convert:hover {\n",
       "      background-color: #434B5C;\n",
       "      box-shadow: 0px 1px 3px 1px rgba(0, 0, 0, 0.15);\n",
       "      filter: drop-shadow(0px 1px 2px rgba(0, 0, 0, 0.3));\n",
       "      fill: #FFFFFF;\n",
       "    }\n",
       "  </style>\n",
       "\n",
       "      <script>\n",
       "        const buttonEl =\n",
       "          document.querySelector('#df-9c55bb16-5aac-41aa-b5b0-29fcc4884ec4 button.colab-df-convert');\n",
       "        buttonEl.style.display =\n",
       "          google.colab.kernel.accessAllowed ? 'block' : 'none';\n",
       "\n",
       "        async function convertToInteractive(key) {\n",
       "          const element = document.querySelector('#df-9c55bb16-5aac-41aa-b5b0-29fcc4884ec4');\n",
       "          const dataTable =\n",
       "            await google.colab.kernel.invokeFunction('convertToInteractive',\n",
       "                                                     [key], {});\n",
       "          if (!dataTable) return;\n",
       "\n",
       "          const docLinkHtml = 'Like what you see? Visit the ' +\n",
       "            '<a target=\"_blank\" href=https://colab.research.google.com/notebooks/data_table.ipynb>data table notebook</a>'\n",
       "            + ' to learn more about interactive tables.';\n",
       "          element.innerHTML = '';\n",
       "          dataTable['output_type'] = 'display_data';\n",
       "          await google.colab.output.renderOutput(dataTable, element);\n",
       "          const docLink = document.createElement('div');\n",
       "          docLink.innerHTML = docLinkHtml;\n",
       "          element.appendChild(docLink);\n",
       "        }\n",
       "      </script>\n",
       "    </div>\n",
       "  </div>\n",
       "  "
      ]
     },
     "metadata": {},
     "execution_count": 15
    }
   ]
  },
  {
   "cell_type": "code",
   "source": [
    "X=labeled_df.copy()\n",
    "X=X.drop(columns=['businessName','customerId','timestamp'])\n",
    "array=X.to_numpy\n",
    "array"
   ],
   "metadata": {
    "colab": {
     "base_uri": "https://localhost:8080/"
    },
    "id": "BY0f_tBhuSYd",
    "outputId": "561612ae-ebcf-4d80-aa13-696a310d2fbf",
    "pycharm": {
     "name": "#%%\n"
    }
   },
   "execution_count": 16,
   "outputs": [
    {
     "output_type": "execute_result",
     "data": {
      "text/plain": [
       "<bound method DataFrame.to_numpy of        country    amount  userAgent_isPc  userAgent_browserFamily  \\\n",
       "0            6    150.00               1                        4   \n",
       "1            5   3200.00               1                        4   \n",
       "2            6   8350.00               1                        4   \n",
       "3            6    500.00               1                        0   \n",
       "4            6   1895.68               1                        0   \n",
       "...        ...       ...             ...                      ...   \n",
       "90955        6   1437.00               1                        0   \n",
       "90956        6    567.00               1                        0   \n",
       "90957        6    877.55               1                        0   \n",
       "90958        6    951.60               1                        0   \n",
       "90959        6  68350.00               1                        0   \n",
       "\n",
       "       userAgent_osFamily  IBAN_countryCode  IBAN_bankCode   SIA  CAP  SAE  \\\n",
       "0                       5                17            699  2013  144   19   \n",
       "1                       5                17            699  2013  144   19   \n",
       "2                       5                17            699  2013  144   19   \n",
       "3                       5                17            123  1781   90    8   \n",
       "4                       5                17            285  1781   90    8   \n",
       "...                   ...               ...            ...   ...  ...  ...   \n",
       "90955                   5                17            285   199  212    8   \n",
       "90956                   5                17            123   199  212    8   \n",
       "90957                   5                17            745   199  212    8   \n",
       "90958                   3                17            285   500  208   19   \n",
       "90959                   5                17           1017  2121  248   16   \n",
       "\n",
       "       RAE  companyType  \n",
       "0      113            5  \n",
       "1      113            5  \n",
       "2      113            5  \n",
       "3       99           10  \n",
       "4       99           10  \n",
       "...    ...          ...  \n",
       "90955   99           10  \n",
       "90956   99           10  \n",
       "90957   99           10  \n",
       "90958  139            8  \n",
       "90959  128            8  \n",
       "\n",
       "[90960 rows x 12 columns]>"
      ]
     },
     "metadata": {},
     "execution_count": 16
    }
   ]
  },
  {
   "cell_type": "code",
   "source": [
    "type(array)"
   ],
   "metadata": {
    "colab": {
     "base_uri": "https://localhost:8080/"
    },
    "id": "HWJ90ZzgvPE2",
    "outputId": "5dc87328-2eaf-40fd-ca36-190d583e3fa0",
    "pycharm": {
     "name": "#%%\n"
    }
   },
   "execution_count": 19,
   "outputs": [
    {
     "output_type": "execute_result",
     "data": {
      "text/plain": [
       "numpy.ndarray"
      ]
     },
     "metadata": {},
     "execution_count": 19
    }
   ]
  },
  {
   "cell_type": "code",
   "source": [
    "X=labeled_df.copy()\n",
    "X=X.drop(columns=['businessName','customerId','timestamp'])\n",
    "array=X.values\n",
    "array"
   ],
   "metadata": {
    "colab": {
     "base_uri": "https://localhost:8080/"
    },
    "id": "bqoUCXeovWm9",
    "outputId": "7addb69f-9d95-4cde-a9c7-66b28c95331e",
    "pycharm": {
     "name": "#%%\n"
    }
   },
   "execution_count": 18,
   "outputs": [
    {
     "output_type": "execute_result",
     "data": {
      "text/plain": [
       "array([[6.0000e+00, 1.5000e+02, 1.0000e+00, ..., 1.9000e+01, 1.1300e+02,\n",
       "        5.0000e+00],\n",
       "       [5.0000e+00, 3.2000e+03, 1.0000e+00, ..., 1.9000e+01, 1.1300e+02,\n",
       "        5.0000e+00],\n",
       "       [6.0000e+00, 8.3500e+03, 1.0000e+00, ..., 1.9000e+01, 1.1300e+02,\n",
       "        5.0000e+00],\n",
       "       ...,\n",
       "       [6.0000e+00, 8.7755e+02, 1.0000e+00, ..., 8.0000e+00, 9.9000e+01,\n",
       "        1.0000e+01],\n",
       "       [6.0000e+00, 9.5160e+02, 1.0000e+00, ..., 1.9000e+01, 1.3900e+02,\n",
       "        8.0000e+00],\n",
       "       [6.0000e+00, 6.8350e+04, 1.0000e+00, ..., 1.6000e+01, 1.2800e+02,\n",
       "        8.0000e+00]])"
      ]
     },
     "metadata": {},
     "execution_count": 18
    }
   ]
  },
  {
   "cell_type": "code",
   "source": [],
   "metadata": {
    "id": "DpbUirQcvdKw",
    "pycharm": {
     "name": "#%%\n"
    }
   },
   "execution_count": null,
   "outputs": []
  },
  {
   "cell_type": "code",
   "source": [
    "import eif as iso\n",
    "F1  = iso.iForest(array, ntrees=200, sample_size=256, ExtensionLevel=1)"
   ],
   "metadata": {
    "id": "YeO1bXLcusyX",
    "pycharm": {
     "name": "#%%\n"
    }
   },
   "execution_count": 20,
   "outputs": []
  },
  {
   "cell_type": "code",
   "source": [
    "import eif as iso\n",
    "F1  = iso.iForest(array, ntrees=200, sample_size=256, ExtensionLevel=1)\n",
    "S1 = F1.compute_paths(X_in=array)"
   ],
   "metadata": {
    "id": "H486aPG7r4dN",
    "pycharm": {
     "name": "#%%\n"
    }
   },
   "execution_count": 22,
   "outputs": []
  },
  {
   "cell_type": "code",
   "source": [
    "S1"
   ],
   "metadata": {
    "colab": {
     "base_uri": "https://localhost:8080/"
    },
    "id": "Mw8DD9_atRSQ",
    "outputId": "efd1ccf3-137d-4047-95a5-70275ab55bad",
    "pycharm": {
     "name": "#%%\n"
    }
   },
   "execution_count": 23,
   "outputs": [
    {
     "output_type": "execute_result",
     "data": {
      "text/plain": [
       "array([0.46736883, 0.4911096 , 0.51304825, ..., 0.38872465, 0.45532799,\n",
       "       0.59700628])"
      ]
     },
     "metadata": {},
     "execution_count": 23
    }
   ]
  },
  {
   "cell_type": "code",
   "source": [
    "type(S1)"
   ],
   "metadata": {
    "colab": {
     "base_uri": "https://localhost:8080/"
    },
    "id": "URkhig1YvrBQ",
    "outputId": "596ca475-29cb-4271-fa92-6eca51c8005f",
    "pycharm": {
     "name": "#%%\n"
    }
   },
   "execution_count": 24,
   "outputs": [
    {
     "output_type": "execute_result",
     "data": {
      "text/plain": [
       "numpy.ndarray"
      ]
     },
     "metadata": {},
     "execution_count": 24
    }
   ]
  },
  {
   "cell_type": "code",
   "source": [
    "import numpy as np"
   ],
   "metadata": {
    "id": "8jewgJ5nvuuL",
    "pycharm": {
     "name": "#%%\n"
    }
   },
   "execution_count": 25,
   "outputs": []
  },
  {
   "cell_type": "code",
   "source": [
    "np.max(S1)"
   ],
   "metadata": {
    "colab": {
     "base_uri": "https://localhost:8080/"
    },
    "id": "XgAdPrWNv2pv",
    "outputId": "a7a5698b-3f5d-47c1-a868-51ea5d8b3d96",
    "pycharm": {
     "name": "#%%\n"
    }
   },
   "execution_count": 26,
   "outputs": [
    {
     "output_type": "execute_result",
     "data": {
      "text/plain": [
       "0.7238987949654309"
      ]
     },
     "metadata": {},
     "execution_count": 26
    }
   ]
  },
  {
   "cell_type": "code",
   "source": [
    "np.mean(S1)"
   ],
   "metadata": {
    "colab": {
     "base_uri": "https://localhost:8080/"
    },
    "id": "57UlboSwv7vt",
    "outputId": "f7cdfc80-85f8-4b33-88e9-68c748b4a0f8",
    "pycharm": {
     "name": "#%%\n"
    }
   },
   "execution_count": 27,
   "outputs": [
    {
     "output_type": "execute_result",
     "data": {
      "text/plain": [
       "0.4373917961702196"
      ]
     },
     "metadata": {},
     "execution_count": 27
    }
   ]
  },
  {
   "cell_type": "code",
   "source": [
    "np.min(S1)"
   ],
   "metadata": {
    "colab": {
     "base_uri": "https://localhost:8080/"
    },
    "id": "xAx3qYN9v9wn",
    "outputId": "74942d16-008d-46eb-ba5e-18f6b30b2dfd",
    "pycharm": {
     "name": "#%%\n"
    }
   },
   "execution_count": 28,
   "outputs": [
    {
     "output_type": "execute_result",
     "data": {
      "text/plain": [
       "0.365704093745422"
      ]
     },
     "metadata": {},
     "execution_count": 28
    }
   ]
  },
  {
   "cell_type": "code",
   "source": [
    "import pickle\n",
    "encoder_dict=pickle.load(open('enc_dict.pkl','rb'))\n",
    "columns_to_label = ['country', 'userAgent_browserFamily', 'userAgent_osFamily', 'IBAN_countryCode', 'IBAN_bankCode','CAP', 'SIA', 'SAE', 'RAE','companyType']"
   ],
   "metadata": {
    "colab": {
     "base_uri": "https://localhost:8080/"
    },
    "id": "vX-1s8kSw5gw",
    "outputId": "726c3aaa-db98-47f1-aea2-c10d45bda00d",
    "pycharm": {
     "name": "#%%\n"
    }
   },
   "execution_count": 29,
   "outputs": [
    {
     "output_type": "stream",
     "name": "stderr",
     "text": [
      "/usr/local/lib/python3.7/dist-packages/sklearn/base.py:338: UserWarning: Trying to unpickle estimator LabelEncoder from version 1.1.2 when using version 1.0.2. This might lead to breaking code or invalid results. Use at your own risk. For more info please refer to:\n",
      "https://scikit-learn.org/stable/modules/model_persistence.html#security-maintainability-limitations\n",
      "  UserWarning,\n"
     ]
    }
   ]
  },
  {
   "cell_type": "code",
   "source": [
    "def inverse_and_scores(if_df,labeled_df,enc_dict,columns,scores):\n",
    "    df_copy=labeled_df.copy()\n",
    "    \n",
    "\n",
    "    for clmn in columns:\n",
    "        df_copy[clmn]=enc_dict[clmn].inverse_transform(df_copy[clmn])\n",
    "\n",
    "    df_copy['scores'] = scores\n",
    "\n",
    "    return df_copy\n",
    "\n",
    "df_scores=inverse_and_scores(X,labeled_df,encoder_dict,columns_to_label,S1)\n",
    "\n",
    "df_scores.head()"
   ],
   "metadata": {
    "colab": {
     "base_uri": "https://localhost:8080/",
     "height": 357
    },
    "id": "8NAk8pVkwB3S",
    "outputId": "a3d9c33c-b13a-445c-b63a-d287de11cdbe",
    "pycharm": {
     "name": "#%%\n"
    }
   },
   "execution_count": 31,
   "outputs": [
    {
     "output_type": "execute_result",
     "data": {
      "text/plain": [
       "   customerId                timestamp country   amount  \\\n",
       "0    93000801  2021-09-15 16:13:35.147   Italy   150.00   \n",
       "1    93000801  2021-08-24 10:34:24.487  Greece  3200.00   \n",
       "2    93000801   2021-09-14 16:21:43.33   Italy  8350.00   \n",
       "3    93001001  2021-06-30 09:07:16.733   Italy   500.00   \n",
       "4    93001001  2021-07-12 16:36:02.857   Italy  1895.68   \n",
       "\n",
       "                       businessName  userAgent_isPc userAgent_browserFamily  \\\n",
       "0  c7543b6f04850eae288aa52783b33363               1                 Firefox   \n",
       "1  c7543b6f04850eae288aa52783b33363               1                 Firefox   \n",
       "2  c7543b6f04850eae288aa52783b33363               1                 Firefox   \n",
       "3  3f241dfcc38064261fec0f303c2784e5               1                  Chrome   \n",
       "4  a5d1eaffa8e325d370665f43624339a1               1                  Chrome   \n",
       "\n",
       "  userAgent_osFamily IBAN_countryCode IBAN_bankCode    SIA    CAP  SAE  RAE  \\\n",
       "0            Windows               IT          5856  CLFUY  33077  492  630   \n",
       "1            Windows               IT          5856  CLFUY  33077  492  630   \n",
       "2            Windows               IT          5856  CLFUY  33077  492  630   \n",
       "3            Windows               IT          2008  CEFGV  31039  430  505   \n",
       "4            Windows               IT          3069  CEFGV  31039  430  505   \n",
       "\n",
       "  companyType    scores  \n",
       "0         SAS  0.467369  \n",
       "1         SAS  0.491110  \n",
       "2         SAS  0.513048  \n",
       "3         SRL  0.396877  \n",
       "4         SRL  0.388020  "
      ],
      "text/html": [
       "\n",
       "  <div id=\"df-c91ebaa7-51a8-45f3-a95e-08dc0906a31b\">\n",
       "    <div class=\"colab-df-container\">\n",
       "      <div>\n",
       "<style scoped>\n",
       "    .dataframe tbody tr th:only-of-type {\n",
       "        vertical-align: middle;\n",
       "    }\n",
       "\n",
       "    .dataframe tbody tr th {\n",
       "        vertical-align: top;\n",
       "    }\n",
       "\n",
       "    .dataframe thead th {\n",
       "        text-align: right;\n",
       "    }\n",
       "</style>\n",
       "<table border=\"1\" class=\"dataframe\">\n",
       "  <thead>\n",
       "    <tr style=\"text-align: right;\">\n",
       "      <th></th>\n",
       "      <th>customerId</th>\n",
       "      <th>timestamp</th>\n",
       "      <th>country</th>\n",
       "      <th>amount</th>\n",
       "      <th>businessName</th>\n",
       "      <th>userAgent_isPc</th>\n",
       "      <th>userAgent_browserFamily</th>\n",
       "      <th>userAgent_osFamily</th>\n",
       "      <th>IBAN_countryCode</th>\n",
       "      <th>IBAN_bankCode</th>\n",
       "      <th>SIA</th>\n",
       "      <th>CAP</th>\n",
       "      <th>SAE</th>\n",
       "      <th>RAE</th>\n",
       "      <th>companyType</th>\n",
       "      <th>scores</th>\n",
       "    </tr>\n",
       "  </thead>\n",
       "  <tbody>\n",
       "    <tr>\n",
       "      <th>0</th>\n",
       "      <td>93000801</td>\n",
       "      <td>2021-09-15 16:13:35.147</td>\n",
       "      <td>Italy</td>\n",
       "      <td>150.00</td>\n",
       "      <td>c7543b6f04850eae288aa52783b33363</td>\n",
       "      <td>1</td>\n",
       "      <td>Firefox</td>\n",
       "      <td>Windows</td>\n",
       "      <td>IT</td>\n",
       "      <td>5856</td>\n",
       "      <td>CLFUY</td>\n",
       "      <td>33077</td>\n",
       "      <td>492</td>\n",
       "      <td>630</td>\n",
       "      <td>SAS</td>\n",
       "      <td>0.467369</td>\n",
       "    </tr>\n",
       "    <tr>\n",
       "      <th>1</th>\n",
       "      <td>93000801</td>\n",
       "      <td>2021-08-24 10:34:24.487</td>\n",
       "      <td>Greece</td>\n",
       "      <td>3200.00</td>\n",
       "      <td>c7543b6f04850eae288aa52783b33363</td>\n",
       "      <td>1</td>\n",
       "      <td>Firefox</td>\n",
       "      <td>Windows</td>\n",
       "      <td>IT</td>\n",
       "      <td>5856</td>\n",
       "      <td>CLFUY</td>\n",
       "      <td>33077</td>\n",
       "      <td>492</td>\n",
       "      <td>630</td>\n",
       "      <td>SAS</td>\n",
       "      <td>0.491110</td>\n",
       "    </tr>\n",
       "    <tr>\n",
       "      <th>2</th>\n",
       "      <td>93000801</td>\n",
       "      <td>2021-09-14 16:21:43.33</td>\n",
       "      <td>Italy</td>\n",
       "      <td>8350.00</td>\n",
       "      <td>c7543b6f04850eae288aa52783b33363</td>\n",
       "      <td>1</td>\n",
       "      <td>Firefox</td>\n",
       "      <td>Windows</td>\n",
       "      <td>IT</td>\n",
       "      <td>5856</td>\n",
       "      <td>CLFUY</td>\n",
       "      <td>33077</td>\n",
       "      <td>492</td>\n",
       "      <td>630</td>\n",
       "      <td>SAS</td>\n",
       "      <td>0.513048</td>\n",
       "    </tr>\n",
       "    <tr>\n",
       "      <th>3</th>\n",
       "      <td>93001001</td>\n",
       "      <td>2021-06-30 09:07:16.733</td>\n",
       "      <td>Italy</td>\n",
       "      <td>500.00</td>\n",
       "      <td>3f241dfcc38064261fec0f303c2784e5</td>\n",
       "      <td>1</td>\n",
       "      <td>Chrome</td>\n",
       "      <td>Windows</td>\n",
       "      <td>IT</td>\n",
       "      <td>2008</td>\n",
       "      <td>CEFGV</td>\n",
       "      <td>31039</td>\n",
       "      <td>430</td>\n",
       "      <td>505</td>\n",
       "      <td>SRL</td>\n",
       "      <td>0.396877</td>\n",
       "    </tr>\n",
       "    <tr>\n",
       "      <th>4</th>\n",
       "      <td>93001001</td>\n",
       "      <td>2021-07-12 16:36:02.857</td>\n",
       "      <td>Italy</td>\n",
       "      <td>1895.68</td>\n",
       "      <td>a5d1eaffa8e325d370665f43624339a1</td>\n",
       "      <td>1</td>\n",
       "      <td>Chrome</td>\n",
       "      <td>Windows</td>\n",
       "      <td>IT</td>\n",
       "      <td>3069</td>\n",
       "      <td>CEFGV</td>\n",
       "      <td>31039</td>\n",
       "      <td>430</td>\n",
       "      <td>505</td>\n",
       "      <td>SRL</td>\n",
       "      <td>0.388020</td>\n",
       "    </tr>\n",
       "  </tbody>\n",
       "</table>\n",
       "</div>\n",
       "      <button class=\"colab-df-convert\" onclick=\"convertToInteractive('df-c91ebaa7-51a8-45f3-a95e-08dc0906a31b')\"\n",
       "              title=\"Convert this dataframe to an interactive table.\"\n",
       "              style=\"display:none;\">\n",
       "        \n",
       "  <svg xmlns=\"http://www.w3.org/2000/svg\" height=\"24px\"viewBox=\"0 0 24 24\"\n",
       "       width=\"24px\">\n",
       "    <path d=\"M0 0h24v24H0V0z\" fill=\"none\"/>\n",
       "    <path d=\"M18.56 5.44l.94 2.06.94-2.06 2.06-.94-2.06-.94-.94-2.06-.94 2.06-2.06.94zm-11 1L8.5 8.5l.94-2.06 2.06-.94-2.06-.94L8.5 2.5l-.94 2.06-2.06.94zm10 10l.94 2.06.94-2.06 2.06-.94-2.06-.94-.94-2.06-.94 2.06-2.06.94z\"/><path d=\"M17.41 7.96l-1.37-1.37c-.4-.4-.92-.59-1.43-.59-.52 0-1.04.2-1.43.59L10.3 9.45l-7.72 7.72c-.78.78-.78 2.05 0 2.83L4 21.41c.39.39.9.59 1.41.59.51 0 1.02-.2 1.41-.59l7.78-7.78 2.81-2.81c.8-.78.8-2.07 0-2.86zM5.41 20L4 18.59l7.72-7.72 1.47 1.35L5.41 20z\"/>\n",
       "  </svg>\n",
       "      </button>\n",
       "      \n",
       "  <style>\n",
       "    .colab-df-container {\n",
       "      display:flex;\n",
       "      flex-wrap:wrap;\n",
       "      gap: 12px;\n",
       "    }\n",
       "\n",
       "    .colab-df-convert {\n",
       "      background-color: #E8F0FE;\n",
       "      border: none;\n",
       "      border-radius: 50%;\n",
       "      cursor: pointer;\n",
       "      display: none;\n",
       "      fill: #1967D2;\n",
       "      height: 32px;\n",
       "      padding: 0 0 0 0;\n",
       "      width: 32px;\n",
       "    }\n",
       "\n",
       "    .colab-df-convert:hover {\n",
       "      background-color: #E2EBFA;\n",
       "      box-shadow: 0px 1px 2px rgba(60, 64, 67, 0.3), 0px 1px 3px 1px rgba(60, 64, 67, 0.15);\n",
       "      fill: #174EA6;\n",
       "    }\n",
       "\n",
       "    [theme=dark] .colab-df-convert {\n",
       "      background-color: #3B4455;\n",
       "      fill: #D2E3FC;\n",
       "    }\n",
       "\n",
       "    [theme=dark] .colab-df-convert:hover {\n",
       "      background-color: #434B5C;\n",
       "      box-shadow: 0px 1px 3px 1px rgba(0, 0, 0, 0.15);\n",
       "      filter: drop-shadow(0px 1px 2px rgba(0, 0, 0, 0.3));\n",
       "      fill: #FFFFFF;\n",
       "    }\n",
       "  </style>\n",
       "\n",
       "      <script>\n",
       "        const buttonEl =\n",
       "          document.querySelector('#df-c91ebaa7-51a8-45f3-a95e-08dc0906a31b button.colab-df-convert');\n",
       "        buttonEl.style.display =\n",
       "          google.colab.kernel.accessAllowed ? 'block' : 'none';\n",
       "\n",
       "        async function convertToInteractive(key) {\n",
       "          const element = document.querySelector('#df-c91ebaa7-51a8-45f3-a95e-08dc0906a31b');\n",
       "          const dataTable =\n",
       "            await google.colab.kernel.invokeFunction('convertToInteractive',\n",
       "                                                     [key], {});\n",
       "          if (!dataTable) return;\n",
       "\n",
       "          const docLinkHtml = 'Like what you see? Visit the ' +\n",
       "            '<a target=\"_blank\" href=https://colab.research.google.com/notebooks/data_table.ipynb>data table notebook</a>'\n",
       "            + ' to learn more about interactive tables.';\n",
       "          element.innerHTML = '';\n",
       "          dataTable['output_type'] = 'display_data';\n",
       "          await google.colab.output.renderOutput(dataTable, element);\n",
       "          const docLink = document.createElement('div');\n",
       "          docLink.innerHTML = docLinkHtml;\n",
       "          element.appendChild(docLink);\n",
       "        }\n",
       "      </script>\n",
       "    </div>\n",
       "  </div>\n",
       "  "
      ]
     },
     "metadata": {},
     "execution_count": 31
    }
   ]
  },
  {
   "cell_type": "code",
   "source": [
    "df_scores[df_scores['scores']>0.6].sort_values('scores',ascending=False)"
   ],
   "metadata": {
    "colab": {
     "base_uri": "https://localhost:8080/",
     "height": 1085
    },
    "id": "mQ47DDpgxoCX",
    "outputId": "1b773747-7539-48e0-eb20-2d095695cac7",
    "pycharm": {
     "name": "#%%\n"
    }
   },
   "execution_count": 35,
   "outputs": [
    {
     "output_type": "execute_result",
     "data": {
      "text/plain": [
       "       customerId                timestamp country     amount  \\\n",
       "19156  1886395602   2021-07-22 09:37:46.25   Italy  182955.25   \n",
       "31913  2990179301   2021-09-21 21:00:24.67   Italy  996000.00   \n",
       "43968    41999520  2021-09-16 11:41:45.407   Italy  270000.00   \n",
       "761      93764501  2021-05-13 11:47:37.413   Italy  500000.00   \n",
       "1070     93764501  2021-06-15 12:23:08.263   Italy  500000.00   \n",
       "...           ...                      ...     ...        ...   \n",
       "52885    58147956   2021-07-09 18:33:06.43   Italy     408.76   \n",
       "57621    63937136    2021-07-15 12:44:31.7   Italy  117987.00   \n",
       "84910  9393584501  2021-08-11 10:38:37.677   Italy   40000.00   \n",
       "7132    713848601  2021-08-25 09:26:11.967   Italy   92286.63   \n",
       "18804  1886395602   2021-07-27 11:15:56.77   Italy   21784.32   \n",
       "\n",
       "                           businessName  userAgent_isPc  \\\n",
       "19156  c0d1dad6d565af70674631ff4e055694               1   \n",
       "31913  ff69963d268f6fefa843eb38edcf92f9               1   \n",
       "43968  d1126a5e3988d76235cde4c7eed8ebbd               0   \n",
       "761    c5adec36fd13165678ceb02b5097c278               1   \n",
       "1070   c5adec36fd13165678ceb02b5097c278               1   \n",
       "...                                 ...             ...   \n",
       "52885  7e89b620b417ad36135a403a3c9a2e4f               1   \n",
       "57621  56cc7a47d3f5cfc08d7893517b2a6240               1   \n",
       "84910  b2565ae55be372f52ddc039459960858               1   \n",
       "7132   2fc8faf8b35bbd226348d7efb5438b6c               1   \n",
       "18804  f50de183b921f815340d1cb1e18e5b80               1   \n",
       "\n",
       "      userAgent_browserFamily userAgent_osFamily IBAN_countryCode  \\\n",
       "19156                  Safari           Mac OS X               DE   \n",
       "31913                  Safari           Mac OS X               IT   \n",
       "43968                   Other              Linux               IT   \n",
       "761                    Chrome            Windows               NL   \n",
       "1070                   Chrome            Windows               NL   \n",
       "...                       ...                ...              ...   \n",
       "52885                  Safari           Mac OS X               IT   \n",
       "57621                  Chrome            Windows               IT   \n",
       "84910                      IE            Windows               IT   \n",
       "7132                   Chrome            Windows               IT   \n",
       "18804                  Chrome           Mac OS X               IT   \n",
       "\n",
       "      IBAN_bankCode    SIA    CAP  SAE  RAE companyType    scores  \n",
       "19156      28050100  AMU3P  39100  615   11          SS  0.723899  \n",
       "31913          5034  CJTNN  36070  288    0         SRL  0.722669  \n",
       "43968          3493  347D3  39038  430  830        GMBH  0.721824  \n",
       "761            DEUT  ASR05  39100  491   11          SS  0.708980  \n",
       "1070           DEUT  ASR05  39100  491   11          SS  0.708980  \n",
       "...             ...    ...    ...  ...  ...         ...       ...  \n",
       "52885          2008  CRUT0  31010  615   11          SS  0.600359  \n",
       "57621          5856  A2F04  31020  430  830         SRL  0.600266  \n",
       "84910          8304  A3C55  38057  615  830         STU  0.600263  \n",
       "7132           8114  CKP07  39030  430  243         SRL  0.600200  \n",
       "18804          8692  AMU3P  39100  615   11          SS  0.600181  \n",
       "\n",
       "[637 rows x 16 columns]"
      ],
      "text/html": [
       "\n",
       "  <div id=\"df-af1fe147-d3ed-47cf-927f-a2d738bcb351\">\n",
       "    <div class=\"colab-df-container\">\n",
       "      <div>\n",
       "<style scoped>\n",
       "    .dataframe tbody tr th:only-of-type {\n",
       "        vertical-align: middle;\n",
       "    }\n",
       "\n",
       "    .dataframe tbody tr th {\n",
       "        vertical-align: top;\n",
       "    }\n",
       "\n",
       "    .dataframe thead th {\n",
       "        text-align: right;\n",
       "    }\n",
       "</style>\n",
       "<table border=\"1\" class=\"dataframe\">\n",
       "  <thead>\n",
       "    <tr style=\"text-align: right;\">\n",
       "      <th></th>\n",
       "      <th>customerId</th>\n",
       "      <th>timestamp</th>\n",
       "      <th>country</th>\n",
       "      <th>amount</th>\n",
       "      <th>businessName</th>\n",
       "      <th>userAgent_isPc</th>\n",
       "      <th>userAgent_browserFamily</th>\n",
       "      <th>userAgent_osFamily</th>\n",
       "      <th>IBAN_countryCode</th>\n",
       "      <th>IBAN_bankCode</th>\n",
       "      <th>SIA</th>\n",
       "      <th>CAP</th>\n",
       "      <th>SAE</th>\n",
       "      <th>RAE</th>\n",
       "      <th>companyType</th>\n",
       "      <th>scores</th>\n",
       "    </tr>\n",
       "  </thead>\n",
       "  <tbody>\n",
       "    <tr>\n",
       "      <th>19156</th>\n",
       "      <td>1886395602</td>\n",
       "      <td>2021-07-22 09:37:46.25</td>\n",
       "      <td>Italy</td>\n",
       "      <td>182955.25</td>\n",
       "      <td>c0d1dad6d565af70674631ff4e055694</td>\n",
       "      <td>1</td>\n",
       "      <td>Safari</td>\n",
       "      <td>Mac OS X</td>\n",
       "      <td>DE</td>\n",
       "      <td>28050100</td>\n",
       "      <td>AMU3P</td>\n",
       "      <td>39100</td>\n",
       "      <td>615</td>\n",
       "      <td>11</td>\n",
       "      <td>SS</td>\n",
       "      <td>0.723899</td>\n",
       "    </tr>\n",
       "    <tr>\n",
       "      <th>31913</th>\n",
       "      <td>2990179301</td>\n",
       "      <td>2021-09-21 21:00:24.67</td>\n",
       "      <td>Italy</td>\n",
       "      <td>996000.00</td>\n",
       "      <td>ff69963d268f6fefa843eb38edcf92f9</td>\n",
       "      <td>1</td>\n",
       "      <td>Safari</td>\n",
       "      <td>Mac OS X</td>\n",
       "      <td>IT</td>\n",
       "      <td>5034</td>\n",
       "      <td>CJTNN</td>\n",
       "      <td>36070</td>\n",
       "      <td>288</td>\n",
       "      <td>0</td>\n",
       "      <td>SRL</td>\n",
       "      <td>0.722669</td>\n",
       "    </tr>\n",
       "    <tr>\n",
       "      <th>43968</th>\n",
       "      <td>41999520</td>\n",
       "      <td>2021-09-16 11:41:45.407</td>\n",
       "      <td>Italy</td>\n",
       "      <td>270000.00</td>\n",
       "      <td>d1126a5e3988d76235cde4c7eed8ebbd</td>\n",
       "      <td>0</td>\n",
       "      <td>Other</td>\n",
       "      <td>Linux</td>\n",
       "      <td>IT</td>\n",
       "      <td>3493</td>\n",
       "      <td>347D3</td>\n",
       "      <td>39038</td>\n",
       "      <td>430</td>\n",
       "      <td>830</td>\n",
       "      <td>GMBH</td>\n",
       "      <td>0.721824</td>\n",
       "    </tr>\n",
       "    <tr>\n",
       "      <th>761</th>\n",
       "      <td>93764501</td>\n",
       "      <td>2021-05-13 11:47:37.413</td>\n",
       "      <td>Italy</td>\n",
       "      <td>500000.00</td>\n",
       "      <td>c5adec36fd13165678ceb02b5097c278</td>\n",
       "      <td>1</td>\n",
       "      <td>Chrome</td>\n",
       "      <td>Windows</td>\n",
       "      <td>NL</td>\n",
       "      <td>DEUT</td>\n",
       "      <td>ASR05</td>\n",
       "      <td>39100</td>\n",
       "      <td>491</td>\n",
       "      <td>11</td>\n",
       "      <td>SS</td>\n",
       "      <td>0.708980</td>\n",
       "    </tr>\n",
       "    <tr>\n",
       "      <th>1070</th>\n",
       "      <td>93764501</td>\n",
       "      <td>2021-06-15 12:23:08.263</td>\n",
       "      <td>Italy</td>\n",
       "      <td>500000.00</td>\n",
       "      <td>c5adec36fd13165678ceb02b5097c278</td>\n",
       "      <td>1</td>\n",
       "      <td>Chrome</td>\n",
       "      <td>Windows</td>\n",
       "      <td>NL</td>\n",
       "      <td>DEUT</td>\n",
       "      <td>ASR05</td>\n",
       "      <td>39100</td>\n",
       "      <td>491</td>\n",
       "      <td>11</td>\n",
       "      <td>SS</td>\n",
       "      <td>0.708980</td>\n",
       "    </tr>\n",
       "    <tr>\n",
       "      <th>...</th>\n",
       "      <td>...</td>\n",
       "      <td>...</td>\n",
       "      <td>...</td>\n",
       "      <td>...</td>\n",
       "      <td>...</td>\n",
       "      <td>...</td>\n",
       "      <td>...</td>\n",
       "      <td>...</td>\n",
       "      <td>...</td>\n",
       "      <td>...</td>\n",
       "      <td>...</td>\n",
       "      <td>...</td>\n",
       "      <td>...</td>\n",
       "      <td>...</td>\n",
       "      <td>...</td>\n",
       "      <td>...</td>\n",
       "    </tr>\n",
       "    <tr>\n",
       "      <th>52885</th>\n",
       "      <td>58147956</td>\n",
       "      <td>2021-07-09 18:33:06.43</td>\n",
       "      <td>Italy</td>\n",
       "      <td>408.76</td>\n",
       "      <td>7e89b620b417ad36135a403a3c9a2e4f</td>\n",
       "      <td>1</td>\n",
       "      <td>Safari</td>\n",
       "      <td>Mac OS X</td>\n",
       "      <td>IT</td>\n",
       "      <td>2008</td>\n",
       "      <td>CRUT0</td>\n",
       "      <td>31010</td>\n",
       "      <td>615</td>\n",
       "      <td>11</td>\n",
       "      <td>SS</td>\n",
       "      <td>0.600359</td>\n",
       "    </tr>\n",
       "    <tr>\n",
       "      <th>57621</th>\n",
       "      <td>63937136</td>\n",
       "      <td>2021-07-15 12:44:31.7</td>\n",
       "      <td>Italy</td>\n",
       "      <td>117987.00</td>\n",
       "      <td>56cc7a47d3f5cfc08d7893517b2a6240</td>\n",
       "      <td>1</td>\n",
       "      <td>Chrome</td>\n",
       "      <td>Windows</td>\n",
       "      <td>IT</td>\n",
       "      <td>5856</td>\n",
       "      <td>A2F04</td>\n",
       "      <td>31020</td>\n",
       "      <td>430</td>\n",
       "      <td>830</td>\n",
       "      <td>SRL</td>\n",
       "      <td>0.600266</td>\n",
       "    </tr>\n",
       "    <tr>\n",
       "      <th>84910</th>\n",
       "      <td>9393584501</td>\n",
       "      <td>2021-08-11 10:38:37.677</td>\n",
       "      <td>Italy</td>\n",
       "      <td>40000.00</td>\n",
       "      <td>b2565ae55be372f52ddc039459960858</td>\n",
       "      <td>1</td>\n",
       "      <td>IE</td>\n",
       "      <td>Windows</td>\n",
       "      <td>IT</td>\n",
       "      <td>8304</td>\n",
       "      <td>A3C55</td>\n",
       "      <td>38057</td>\n",
       "      <td>615</td>\n",
       "      <td>830</td>\n",
       "      <td>STU</td>\n",
       "      <td>0.600263</td>\n",
       "    </tr>\n",
       "    <tr>\n",
       "      <th>7132</th>\n",
       "      <td>713848601</td>\n",
       "      <td>2021-08-25 09:26:11.967</td>\n",
       "      <td>Italy</td>\n",
       "      <td>92286.63</td>\n",
       "      <td>2fc8faf8b35bbd226348d7efb5438b6c</td>\n",
       "      <td>1</td>\n",
       "      <td>Chrome</td>\n",
       "      <td>Windows</td>\n",
       "      <td>IT</td>\n",
       "      <td>8114</td>\n",
       "      <td>CKP07</td>\n",
       "      <td>39030</td>\n",
       "      <td>430</td>\n",
       "      <td>243</td>\n",
       "      <td>SRL</td>\n",
       "      <td>0.600200</td>\n",
       "    </tr>\n",
       "    <tr>\n",
       "      <th>18804</th>\n",
       "      <td>1886395602</td>\n",
       "      <td>2021-07-27 11:15:56.77</td>\n",
       "      <td>Italy</td>\n",
       "      <td>21784.32</td>\n",
       "      <td>f50de183b921f815340d1cb1e18e5b80</td>\n",
       "      <td>1</td>\n",
       "      <td>Chrome</td>\n",
       "      <td>Mac OS X</td>\n",
       "      <td>IT</td>\n",
       "      <td>8692</td>\n",
       "      <td>AMU3P</td>\n",
       "      <td>39100</td>\n",
       "      <td>615</td>\n",
       "      <td>11</td>\n",
       "      <td>SS</td>\n",
       "      <td>0.600181</td>\n",
       "    </tr>\n",
       "  </tbody>\n",
       "</table>\n",
       "<p>637 rows × 16 columns</p>\n",
       "</div>\n",
       "      <button class=\"colab-df-convert\" onclick=\"convertToInteractive('df-af1fe147-d3ed-47cf-927f-a2d738bcb351')\"\n",
       "              title=\"Convert this dataframe to an interactive table.\"\n",
       "              style=\"display:none;\">\n",
       "        \n",
       "  <svg xmlns=\"http://www.w3.org/2000/svg\" height=\"24px\"viewBox=\"0 0 24 24\"\n",
       "       width=\"24px\">\n",
       "    <path d=\"M0 0h24v24H0V0z\" fill=\"none\"/>\n",
       "    <path d=\"M18.56 5.44l.94 2.06.94-2.06 2.06-.94-2.06-.94-.94-2.06-.94 2.06-2.06.94zm-11 1L8.5 8.5l.94-2.06 2.06-.94-2.06-.94L8.5 2.5l-.94 2.06-2.06.94zm10 10l.94 2.06.94-2.06 2.06-.94-2.06-.94-.94-2.06-.94 2.06-2.06.94z\"/><path d=\"M17.41 7.96l-1.37-1.37c-.4-.4-.92-.59-1.43-.59-.52 0-1.04.2-1.43.59L10.3 9.45l-7.72 7.72c-.78.78-.78 2.05 0 2.83L4 21.41c.39.39.9.59 1.41.59.51 0 1.02-.2 1.41-.59l7.78-7.78 2.81-2.81c.8-.78.8-2.07 0-2.86zM5.41 20L4 18.59l7.72-7.72 1.47 1.35L5.41 20z\"/>\n",
       "  </svg>\n",
       "      </button>\n",
       "      \n",
       "  <style>\n",
       "    .colab-df-container {\n",
       "      display:flex;\n",
       "      flex-wrap:wrap;\n",
       "      gap: 12px;\n",
       "    }\n",
       "\n",
       "    .colab-df-convert {\n",
       "      background-color: #E8F0FE;\n",
       "      border: none;\n",
       "      border-radius: 50%;\n",
       "      cursor: pointer;\n",
       "      display: none;\n",
       "      fill: #1967D2;\n",
       "      height: 32px;\n",
       "      padding: 0 0 0 0;\n",
       "      width: 32px;\n",
       "    }\n",
       "\n",
       "    .colab-df-convert:hover {\n",
       "      background-color: #E2EBFA;\n",
       "      box-shadow: 0px 1px 2px rgba(60, 64, 67, 0.3), 0px 1px 3px 1px rgba(60, 64, 67, 0.15);\n",
       "      fill: #174EA6;\n",
       "    }\n",
       "\n",
       "    [theme=dark] .colab-df-convert {\n",
       "      background-color: #3B4455;\n",
       "      fill: #D2E3FC;\n",
       "    }\n",
       "\n",
       "    [theme=dark] .colab-df-convert:hover {\n",
       "      background-color: #434B5C;\n",
       "      box-shadow: 0px 1px 3px 1px rgba(0, 0, 0, 0.15);\n",
       "      filter: drop-shadow(0px 1px 2px rgba(0, 0, 0, 0.3));\n",
       "      fill: #FFFFFF;\n",
       "    }\n",
       "  </style>\n",
       "\n",
       "      <script>\n",
       "        const buttonEl =\n",
       "          document.querySelector('#df-af1fe147-d3ed-47cf-927f-a2d738bcb351 button.colab-df-convert');\n",
       "        buttonEl.style.display =\n",
       "          google.colab.kernel.accessAllowed ? 'block' : 'none';\n",
       "\n",
       "        async function convertToInteractive(key) {\n",
       "          const element = document.querySelector('#df-af1fe147-d3ed-47cf-927f-a2d738bcb351');\n",
       "          const dataTable =\n",
       "            await google.colab.kernel.invokeFunction('convertToInteractive',\n",
       "                                                     [key], {});\n",
       "          if (!dataTable) return;\n",
       "\n",
       "          const docLinkHtml = 'Like what you see? Visit the ' +\n",
       "            '<a target=\"_blank\" href=https://colab.research.google.com/notebooks/data_table.ipynb>data table notebook</a>'\n",
       "            + ' to learn more about interactive tables.';\n",
       "          element.innerHTML = '';\n",
       "          dataTable['output_type'] = 'display_data';\n",
       "          await google.colab.output.renderOutput(dataTable, element);\n",
       "          const docLink = document.createElement('div');\n",
       "          docLink.innerHTML = docLinkHtml;\n",
       "          element.appendChild(docLink);\n",
       "        }\n",
       "      </script>\n",
       "    </div>\n",
       "  </div>\n",
       "  "
      ]
     },
     "metadata": {},
     "execution_count": 35
    }
   ]
  },
  {
   "cell_type": "code",
   "execution_count": null,
   "outputs": [],
   "source": [],
   "metadata": {
    "collapsed": false,
    "pycharm": {
     "name": "#%%\n"
    }
   }
  }
 ]
}