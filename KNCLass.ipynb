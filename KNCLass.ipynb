{
 "cells": [
  {
   "cell_type": "code",
   "execution_count": 2,
   "outputs": [
    {
     "data": {
      "text/plain": "  country   amount  userAgent_isPc userAgent_browserFamily userAgent_osFamily  \\\n0   Italy   150.00               1                 Firefox            Windows   \n1  Greece  3200.00               1                 Firefox            Windows   \n2   Italy  8350.00               1                 Firefox            Windows   \n3   Italy   500.00               1                  Chrome            Windows   \n4   Italy  1895.68               1                  Chrome            Windows   \n\n  IBAN_countryCode IBAN_bankCode    SIA    CAP  SAE  RAE companyType  \\\n0               IT          5856  CLFUY  33077  492  630         SAS   \n1               IT          5856  CLFUY  33077  492  630         SAS   \n2               IT          5856  CLFUY  33077  492  630         SAS   \n3               IT          2008  CEFGV  31039  430  505         SRL   \n4               IT          3069  CEFGV  31039  430  505         SRL   \n\n   is_anomaly  \n0           0  \n1           0  \n2           0  \n3           0  \n4           0  ",
      "text/html": "<div>\n<style scoped>\n    .dataframe tbody tr th:only-of-type {\n        vertical-align: middle;\n    }\n\n    .dataframe tbody tr th {\n        vertical-align: top;\n    }\n\n    .dataframe thead th {\n        text-align: right;\n    }\n</style>\n<table border=\"1\" class=\"dataframe\">\n  <thead>\n    <tr style=\"text-align: right;\">\n      <th></th>\n      <th>country</th>\n      <th>amount</th>\n      <th>userAgent_isPc</th>\n      <th>userAgent_browserFamily</th>\n      <th>userAgent_osFamily</th>\n      <th>IBAN_countryCode</th>\n      <th>IBAN_bankCode</th>\n      <th>SIA</th>\n      <th>CAP</th>\n      <th>SAE</th>\n      <th>RAE</th>\n      <th>companyType</th>\n      <th>is_anomaly</th>\n    </tr>\n  </thead>\n  <tbody>\n    <tr>\n      <th>0</th>\n      <td>Italy</td>\n      <td>150.00</td>\n      <td>1</td>\n      <td>Firefox</td>\n      <td>Windows</td>\n      <td>IT</td>\n      <td>5856</td>\n      <td>CLFUY</td>\n      <td>33077</td>\n      <td>492</td>\n      <td>630</td>\n      <td>SAS</td>\n      <td>0</td>\n    </tr>\n    <tr>\n      <th>1</th>\n      <td>Greece</td>\n      <td>3200.00</td>\n      <td>1</td>\n      <td>Firefox</td>\n      <td>Windows</td>\n      <td>IT</td>\n      <td>5856</td>\n      <td>CLFUY</td>\n      <td>33077</td>\n      <td>492</td>\n      <td>630</td>\n      <td>SAS</td>\n      <td>0</td>\n    </tr>\n    <tr>\n      <th>2</th>\n      <td>Italy</td>\n      <td>8350.00</td>\n      <td>1</td>\n      <td>Firefox</td>\n      <td>Windows</td>\n      <td>IT</td>\n      <td>5856</td>\n      <td>CLFUY</td>\n      <td>33077</td>\n      <td>492</td>\n      <td>630</td>\n      <td>SAS</td>\n      <td>0</td>\n    </tr>\n    <tr>\n      <th>3</th>\n      <td>Italy</td>\n      <td>500.00</td>\n      <td>1</td>\n      <td>Chrome</td>\n      <td>Windows</td>\n      <td>IT</td>\n      <td>2008</td>\n      <td>CEFGV</td>\n      <td>31039</td>\n      <td>430</td>\n      <td>505</td>\n      <td>SRL</td>\n      <td>0</td>\n    </tr>\n    <tr>\n      <th>4</th>\n      <td>Italy</td>\n      <td>1895.68</td>\n      <td>1</td>\n      <td>Chrome</td>\n      <td>Windows</td>\n      <td>IT</td>\n      <td>3069</td>\n      <td>CEFGV</td>\n      <td>31039</td>\n      <td>430</td>\n      <td>505</td>\n      <td>SRL</td>\n      <td>0</td>\n    </tr>\n  </tbody>\n</table>\n</div>"
     },
     "execution_count": 2,
     "metadata": {},
     "output_type": "execute_result"
    }
   ],
   "source": [
    "import pandas as pd\n",
    "\n",
    "df = pd.read_csv('smote.csv',decimal=',')\n",
    "df = df.drop(columns='Unnamed: 0')\n",
    "df.head()"
   ],
   "metadata": {
    "collapsed": false,
    "pycharm": {
     "name": "#%%\n"
    }
   }
  },
  {
   "cell_type": "code",
   "execution_count": 84,
   "outputs": [],
   "source": [
    "#df=pd.read_csv('misc_anomalies.csv',decimal=',')\n",
    "#df.head()"
   ],
   "metadata": {
    "collapsed": false,
    "pycharm": {
     "name": "#%%\n"
    }
   }
  },
  {
   "cell_type": "code",
   "execution_count": 85,
   "outputs": [
    {
     "name": "stdout",
     "output_type": "stream",
     "text": [
      "<class 'pandas.core.frame.DataFrame'>\n",
      "RangeIndex: 181862 entries, 0 to 181861\n",
      "Data columns (total 13 columns):\n",
      " #   Column                   Non-Null Count   Dtype  \n",
      "---  ------                   --------------   -----  \n",
      " 0   country                  181862 non-null  object \n",
      " 1   amount                   181862 non-null  float64\n",
      " 2   userAgent_isPc           181862 non-null  int64  \n",
      " 3   userAgent_browserFamily  181862 non-null  object \n",
      " 4   userAgent_osFamily       181862 non-null  object \n",
      " 5   IBAN_countryCode         181862 non-null  object \n",
      " 6   IBAN_bankCode            181862 non-null  object \n",
      " 7   SIA                      181862 non-null  object \n",
      " 8   CAP                      181862 non-null  int64  \n",
      " 9   SAE                      181862 non-null  int64  \n",
      " 10  RAE                      181862 non-null  int64  \n",
      " 11  companyType              181862 non-null  object \n",
      " 12  is_anomaly               181862 non-null  int64  \n",
      "dtypes: float64(1), int64(5), object(7)\n",
      "memory usage: 18.0+ MB\n"
     ]
    }
   ],
   "source": [
    "df.info()"
   ],
   "metadata": {
    "collapsed": false,
    "pycharm": {
     "name": "#%%\n"
    }
   }
  },
  {
   "cell_type": "code",
   "execution_count": 3,
   "outputs": [
    {
     "name": "stdout",
     "output_type": "stream",
     "text": [
      "<class 'pandas.core.frame.DataFrame'>\n",
      "RangeIndex: 181862 entries, 0 to 181861\n",
      "Data columns (total 13 columns):\n",
      " #   Column                   Non-Null Count   Dtype  \n",
      "---  ------                   --------------   -----  \n",
      " 0   country                  181862 non-null  object \n",
      " 1   amount                   181862 non-null  float64\n",
      " 2   userAgent_isPc           181862 non-null  int64  \n",
      " 3   userAgent_browserFamily  181862 non-null  object \n",
      " 4   userAgent_osFamily       181862 non-null  object \n",
      " 5   IBAN_countryCode         181862 non-null  object \n",
      " 6   IBAN_bankCode            181862 non-null  object \n",
      " 7   SIA                      181862 non-null  object \n",
      " 8   CAP                      181862 non-null  object \n",
      " 9   SAE                      181862 non-null  object \n",
      " 10  RAE                      181862 non-null  object \n",
      " 11  companyType              181862 non-null  object \n",
      " 12  is_anomaly               181862 non-null  int64  \n",
      "dtypes: float64(1), int64(2), object(10)\n",
      "memory usage: 18.0+ MB\n"
     ]
    }
   ],
   "source": [
    "df['CAP'] = df['CAP'].apply(str)\n",
    "df['SAE'] = df['SAE'].apply(str)\n",
    "df['RAE'] = df['RAE'].apply(str)\n",
    "df.info()"
   ],
   "metadata": {
    "collapsed": false,
    "pycharm": {
     "name": "#%%\n"
    }
   }
  },
  {
   "cell_type": "code",
   "execution_count": 4,
   "outputs": [],
   "source": [
    "import pickle\n",
    "encoder_dict=pickle.load(open('enc_dict.pkl','rb'))"
   ],
   "metadata": {
    "collapsed": false,
    "pycharm": {
     "name": "#%%\n"
    }
   }
  },
  {
   "cell_type": "code",
   "execution_count": 5,
   "outputs": [
    {
     "data": {
      "text/plain": "   country   amount  userAgent_isPc  userAgent_browserFamily  \\\n0        6   150.00               1                        4   \n1        5  3200.00               1                        4   \n2        6  8350.00               1                        4   \n3        6   500.00               1                        0   \n4        6  1895.68               1                        0   \n\n   userAgent_osFamily  IBAN_countryCode  IBAN_bankCode   SIA  CAP  SAE  RAE  \\\n0                   5                17            699  2013  141   19  113   \n1                   5                17            699  2013  141   19  113   \n2                   5                17            699  2013  141   19  113   \n3                   5                17            123  1781   87    8   99   \n4                   5                17            285  1781   87    8   99   \n\n   companyType  is_anomaly  \n0            5           0  \n1            5           0  \n2            5           0  \n3           10           0  \n4           10           0  ",
      "text/html": "<div>\n<style scoped>\n    .dataframe tbody tr th:only-of-type {\n        vertical-align: middle;\n    }\n\n    .dataframe tbody tr th {\n        vertical-align: top;\n    }\n\n    .dataframe thead th {\n        text-align: right;\n    }\n</style>\n<table border=\"1\" class=\"dataframe\">\n  <thead>\n    <tr style=\"text-align: right;\">\n      <th></th>\n      <th>country</th>\n      <th>amount</th>\n      <th>userAgent_isPc</th>\n      <th>userAgent_browserFamily</th>\n      <th>userAgent_osFamily</th>\n      <th>IBAN_countryCode</th>\n      <th>IBAN_bankCode</th>\n      <th>SIA</th>\n      <th>CAP</th>\n      <th>SAE</th>\n      <th>RAE</th>\n      <th>companyType</th>\n      <th>is_anomaly</th>\n    </tr>\n  </thead>\n  <tbody>\n    <tr>\n      <th>0</th>\n      <td>6</td>\n      <td>150.00</td>\n      <td>1</td>\n      <td>4</td>\n      <td>5</td>\n      <td>17</td>\n      <td>699</td>\n      <td>2013</td>\n      <td>141</td>\n      <td>19</td>\n      <td>113</td>\n      <td>5</td>\n      <td>0</td>\n    </tr>\n    <tr>\n      <th>1</th>\n      <td>5</td>\n      <td>3200.00</td>\n      <td>1</td>\n      <td>4</td>\n      <td>5</td>\n      <td>17</td>\n      <td>699</td>\n      <td>2013</td>\n      <td>141</td>\n      <td>19</td>\n      <td>113</td>\n      <td>5</td>\n      <td>0</td>\n    </tr>\n    <tr>\n      <th>2</th>\n      <td>6</td>\n      <td>8350.00</td>\n      <td>1</td>\n      <td>4</td>\n      <td>5</td>\n      <td>17</td>\n      <td>699</td>\n      <td>2013</td>\n      <td>141</td>\n      <td>19</td>\n      <td>113</td>\n      <td>5</td>\n      <td>0</td>\n    </tr>\n    <tr>\n      <th>3</th>\n      <td>6</td>\n      <td>500.00</td>\n      <td>1</td>\n      <td>0</td>\n      <td>5</td>\n      <td>17</td>\n      <td>123</td>\n      <td>1781</td>\n      <td>87</td>\n      <td>8</td>\n      <td>99</td>\n      <td>10</td>\n      <td>0</td>\n    </tr>\n    <tr>\n      <th>4</th>\n      <td>6</td>\n      <td>1895.68</td>\n      <td>1</td>\n      <td>0</td>\n      <td>5</td>\n      <td>17</td>\n      <td>285</td>\n      <td>1781</td>\n      <td>87</td>\n      <td>8</td>\n      <td>99</td>\n      <td>10</td>\n      <td>0</td>\n    </tr>\n  </tbody>\n</table>\n</div>"
     },
     "execution_count": 5,
     "metadata": {},
     "output_type": "execute_result"
    }
   ],
   "source": [
    "columns_to_label = ['country','userAgent_browserFamily','userAgent_osFamily','IBAN_countryCode','IBAN_bankCode','CAP','SIA','SAE','RAE','companyType']\n",
    "for clmn in columns_to_label:\n",
    "    df[clmn]=df[clmn].apply(str)\n",
    "    df[clmn] = encoder_dict[clmn].transform(df[clmn])\n",
    "df.head()"
   ],
   "metadata": {
    "collapsed": false,
    "pycharm": {
     "name": "#%%\n"
    }
   }
  },
  {
   "cell_type": "code",
   "execution_count": 41,
   "outputs": [],
   "source": [
    "X=df.sample(frac=1,random_state=0)\n",
    "y=X['is_anomaly']\n",
    "X=X.drop(columns='is_anomaly')"
   ],
   "metadata": {
    "collapsed": false,
    "pycharm": {
     "name": "#%%\n"
    }
   }
  },
  {
   "cell_type": "code",
   "execution_count": 89,
   "outputs": [],
   "source": [
    "#PER TESTARE MISC\n",
    "#df=df.drop(columns=['timestamp','businessName','customerId'])"
   ],
   "metadata": {
    "collapsed": false,
    "pycharm": {
     "name": "#%%\n"
    }
   }
  },
  {
   "cell_type": "code",
   "execution_count": 6,
   "outputs": [],
   "source": [
    "X_train=df.sample(frac=0.8, random_state=0)\n",
    "#X_train=df.sample(frac=0.5, random_state=0)\n",
    "y_train=X_train['is_anomaly']\n",
    "X_train=X_train.drop(columns='is_anomaly')\n",
    "\n",
    "X_test=df.drop(X_train.index)\n",
    "y_test=X_test['is_anomaly']\n",
    "X_test=X_test.drop(columns='is_anomaly')"
   ],
   "metadata": {
    "collapsed": false,
    "pycharm": {
     "name": "#%%\n"
    }
   }
  },
  {
   "cell_type": "code",
   "execution_count": 91,
   "outputs": [
    {
     "data": {
      "text/plain": "array([0, 0, 0, ..., 1, 1, 1], dtype=int64)"
     },
     "execution_count": 91,
     "metadata": {},
     "output_type": "execute_result"
    }
   ],
   "source": [
    "from sklearn.neighbors import KNeighborsClassifier\n",
    "neigh = KNeighborsClassifier(n_neighbors=3)\n",
    "neigh.fit(X_train, y_train)\n",
    "neigh.predict(X_test)\n",
    "#neigh.predict(X_test.loc[y_test[y_test==1].index]              )"
   ],
   "metadata": {
    "collapsed": false,
    "pycharm": {
     "name": "#%%\n"
    }
   }
  },
  {
   "cell_type": "code",
   "execution_count": 8,
   "outputs": [],
   "source": [
    "prediction=neigh.predict(X_test)"
   ],
   "metadata": {
    "collapsed": false,
    "pycharm": {
     "name": "#%%\n"
    }
   }
  },
  {
   "cell_type": "code",
   "execution_count": 9,
   "outputs": [
    {
     "data": {
      "text/plain": "False"
     },
     "execution_count": 9,
     "metadata": {},
     "output_type": "execute_result"
    }
   ],
   "source": [
    "import numpy as np\n",
    "np.array_equal(prediction,y_test.to_numpy)"
   ],
   "metadata": {
    "collapsed": false,
    "pycharm": {
     "name": "#%%\n"
    }
   }
  },
  {
   "cell_type": "code",
   "execution_count": 10,
   "outputs": [
    {
     "name": "stdout",
     "output_type": "stream",
     "text": [
      "[False False False ... False False False]\n"
     ]
    }
   ],
   "source": [
    "print(prediction==y_test.to_numpy)"
   ],
   "metadata": {
    "collapsed": false,
    "pycharm": {
     "name": "#%%\n"
    }
   }
  },
  {
   "cell_type": "code",
   "execution_count": 11,
   "outputs": [
    {
     "data": {
      "text/plain": "<bound method IndexOpsMixin.to_numpy of 2         0\n10        0\n21        0\n27        0\n30        0\n         ..\n181836    1\n181840    1\n181842    1\n181850    1\n181860    1\nName: is_anomaly, Length: 36372, dtype: int64>"
     },
     "execution_count": 11,
     "metadata": {},
     "output_type": "execute_result"
    }
   ],
   "source": [
    "y_test.to_numpy"
   ],
   "metadata": {
    "collapsed": false,
    "pycharm": {
     "name": "#%%\n"
    }
   }
  },
  {
   "cell_type": "code",
   "execution_count": 60,
   "outputs": [
    {
     "data": {
      "text/plain": "2        0\n4        0\n7        0\n10       0\n13       0\n        ..\n90950    0\n90951    0\n90952    0\n90956    0\n90957    0\nName: is_anomaly, Length: 45480, dtype: int64"
     },
     "execution_count": 60,
     "metadata": {},
     "output_type": "execute_result"
    }
   ],
   "source": [
    "y_test"
   ],
   "metadata": {
    "collapsed": false,
    "pycharm": {
     "name": "#%%\n"
    }
   }
  },
  {
   "cell_type": "code",
   "execution_count": 63,
   "outputs": [
    {
     "data": {
      "text/plain": "array([0, 1], dtype=int64)"
     },
     "execution_count": 63,
     "metadata": {},
     "output_type": "execute_result"
    }
   ],
   "source": [
    "y_test.unique()"
   ],
   "metadata": {
    "collapsed": false,
    "pycharm": {
     "name": "#%%\n"
    }
   }
  },
  {
   "cell_type": "code",
   "execution_count": 65,
   "outputs": [
    {
     "ename": "KeyError",
     "evalue": "'is_anomaly'",
     "output_type": "error",
     "traceback": [
      "\u001B[1;31m---------------------------------------------------------------------------\u001B[0m",
      "\u001B[1;31mKeyError\u001B[0m                                  Traceback (most recent call last)",
      "File \u001B[1;32m~\\AppData\\Local\\Programs\\Python\\Python310\\lib\\site-packages\\pandas\\core\\indexes\\base.py:3629\u001B[0m, in \u001B[0;36mIndex.get_loc\u001B[1;34m(self, key, method, tolerance)\u001B[0m\n\u001B[0;32m   3628\u001B[0m \u001B[38;5;28;01mtry\u001B[39;00m:\n\u001B[1;32m-> 3629\u001B[0m     \u001B[38;5;28;01mreturn\u001B[39;00m \u001B[38;5;28;43mself\u001B[39;49m\u001B[38;5;241;43m.\u001B[39;49m\u001B[43m_engine\u001B[49m\u001B[38;5;241;43m.\u001B[39;49m\u001B[43mget_loc\u001B[49m\u001B[43m(\u001B[49m\u001B[43mcasted_key\u001B[49m\u001B[43m)\u001B[49m\n\u001B[0;32m   3630\u001B[0m \u001B[38;5;28;01mexcept\u001B[39;00m \u001B[38;5;167;01mKeyError\u001B[39;00m \u001B[38;5;28;01mas\u001B[39;00m err:\n",
      "File \u001B[1;32m~\\AppData\\Local\\Programs\\Python\\Python310\\lib\\site-packages\\pandas\\_libs\\index.pyx:136\u001B[0m, in \u001B[0;36mpandas._libs.index.IndexEngine.get_loc\u001B[1;34m()\u001B[0m\n",
      "File \u001B[1;32m~\\AppData\\Local\\Programs\\Python\\Python310\\lib\\site-packages\\pandas\\_libs\\index.pyx:144\u001B[0m, in \u001B[0;36mpandas._libs.index.IndexEngine.get_loc\u001B[1;34m()\u001B[0m\n",
      "File \u001B[1;32mpandas\\_libs\\index_class_helper.pxi:41\u001B[0m, in \u001B[0;36mpandas._libs.index.Int64Engine._check_type\u001B[1;34m()\u001B[0m\n",
      "\u001B[1;31mKeyError\u001B[0m: 'is_anomaly'",
      "\nThe above exception was the direct cause of the following exception:\n",
      "\u001B[1;31mKeyError\u001B[0m                                  Traceback (most recent call last)",
      "Input \u001B[1;32mIn [65]\u001B[0m, in \u001B[0;36m<cell line: 1>\u001B[1;34m()\u001B[0m\n\u001B[1;32m----> 1\u001B[0m \u001B[43my_test\u001B[49m\u001B[43m[\u001B[49m\u001B[38;5;124;43m'\u001B[39;49m\u001B[38;5;124;43mis_anomaly\u001B[39;49m\u001B[38;5;124;43m'\u001B[39;49m\u001B[43m]\u001B[49m\n",
      "File \u001B[1;32m~\\AppData\\Local\\Programs\\Python\\Python310\\lib\\site-packages\\pandas\\core\\series.py:958\u001B[0m, in \u001B[0;36mSeries.__getitem__\u001B[1;34m(self, key)\u001B[0m\n\u001B[0;32m    955\u001B[0m     \u001B[38;5;28;01mreturn\u001B[39;00m \u001B[38;5;28mself\u001B[39m\u001B[38;5;241m.\u001B[39m_values[key]\n\u001B[0;32m    957\u001B[0m \u001B[38;5;28;01melif\u001B[39;00m key_is_scalar:\n\u001B[1;32m--> 958\u001B[0m     \u001B[38;5;28;01mreturn\u001B[39;00m \u001B[38;5;28;43mself\u001B[39;49m\u001B[38;5;241;43m.\u001B[39;49m\u001B[43m_get_value\u001B[49m\u001B[43m(\u001B[49m\u001B[43mkey\u001B[49m\u001B[43m)\u001B[49m\n\u001B[0;32m    960\u001B[0m \u001B[38;5;28;01mif\u001B[39;00m is_hashable(key):\n\u001B[0;32m    961\u001B[0m     \u001B[38;5;66;03m# Otherwise index.get_value will raise InvalidIndexError\u001B[39;00m\n\u001B[0;32m    962\u001B[0m     \u001B[38;5;28;01mtry\u001B[39;00m:\n\u001B[0;32m    963\u001B[0m         \u001B[38;5;66;03m# For labels that don't resolve as scalars like tuples and frozensets\u001B[39;00m\n",
      "File \u001B[1;32m~\\AppData\\Local\\Programs\\Python\\Python310\\lib\\site-packages\\pandas\\core\\series.py:1069\u001B[0m, in \u001B[0;36mSeries._get_value\u001B[1;34m(self, label, takeable)\u001B[0m\n\u001B[0;32m   1066\u001B[0m     \u001B[38;5;28;01mreturn\u001B[39;00m \u001B[38;5;28mself\u001B[39m\u001B[38;5;241m.\u001B[39m_values[label]\n\u001B[0;32m   1068\u001B[0m \u001B[38;5;66;03m# Similar to Index.get_value, but we do not fall back to positional\u001B[39;00m\n\u001B[1;32m-> 1069\u001B[0m loc \u001B[38;5;241m=\u001B[39m \u001B[38;5;28;43mself\u001B[39;49m\u001B[38;5;241;43m.\u001B[39;49m\u001B[43mindex\u001B[49m\u001B[38;5;241;43m.\u001B[39;49m\u001B[43mget_loc\u001B[49m\u001B[43m(\u001B[49m\u001B[43mlabel\u001B[49m\u001B[43m)\u001B[49m\n\u001B[0;32m   1070\u001B[0m \u001B[38;5;28;01mreturn\u001B[39;00m \u001B[38;5;28mself\u001B[39m\u001B[38;5;241m.\u001B[39mindex\u001B[38;5;241m.\u001B[39m_get_values_for_loc(\u001B[38;5;28mself\u001B[39m, loc, label)\n",
      "File \u001B[1;32m~\\AppData\\Local\\Programs\\Python\\Python310\\lib\\site-packages\\pandas\\core\\indexes\\base.py:3631\u001B[0m, in \u001B[0;36mIndex.get_loc\u001B[1;34m(self, key, method, tolerance)\u001B[0m\n\u001B[0;32m   3629\u001B[0m     \u001B[38;5;28;01mreturn\u001B[39;00m \u001B[38;5;28mself\u001B[39m\u001B[38;5;241m.\u001B[39m_engine\u001B[38;5;241m.\u001B[39mget_loc(casted_key)\n\u001B[0;32m   3630\u001B[0m \u001B[38;5;28;01mexcept\u001B[39;00m \u001B[38;5;167;01mKeyError\u001B[39;00m \u001B[38;5;28;01mas\u001B[39;00m err:\n\u001B[1;32m-> 3631\u001B[0m     \u001B[38;5;28;01mraise\u001B[39;00m \u001B[38;5;167;01mKeyError\u001B[39;00m(key) \u001B[38;5;28;01mfrom\u001B[39;00m \u001B[38;5;21;01merr\u001B[39;00m\n\u001B[0;32m   3632\u001B[0m \u001B[38;5;28;01mexcept\u001B[39;00m \u001B[38;5;167;01mTypeError\u001B[39;00m:\n\u001B[0;32m   3633\u001B[0m     \u001B[38;5;66;03m# If we have a listlike key, _check_indexing_error will raise\u001B[39;00m\n\u001B[0;32m   3634\u001B[0m     \u001B[38;5;66;03m#  InvalidIndexError. Otherwise we fall through and re-raise\u001B[39;00m\n\u001B[0;32m   3635\u001B[0m     \u001B[38;5;66;03m#  the TypeError.\u001B[39;00m\n\u001B[0;32m   3636\u001B[0m     \u001B[38;5;28mself\u001B[39m\u001B[38;5;241m.\u001B[39m_check_indexing_error(key)\n",
      "\u001B[1;31mKeyError\u001B[0m: 'is_anomaly'"
     ]
    }
   ],
   "source": [
    "y_test['is_anomaly']"
   ],
   "metadata": {
    "collapsed": false,
    "pycharm": {
     "name": "#%%\n"
    }
   }
  },
  {
   "cell_type": "code",
   "execution_count": 92,
   "outputs": [
    {
     "data": {
      "text/plain": "0.9927141757395799"
     },
     "execution_count": 92,
     "metadata": {},
     "output_type": "execute_result"
    }
   ],
   "source": [
    "neigh.score(X_test,y_test)"
   ],
   "metadata": {
    "collapsed": false,
    "pycharm": {
     "name": "#%%\n"
    }
   }
  },
  {
   "cell_type": "code",
   "execution_count": 21,
   "outputs": [],
   "source": [
    "y_np=y_test.to_numpy()"
   ],
   "metadata": {
    "collapsed": false,
    "pycharm": {
     "name": "#%%\n"
    }
   }
  },
  {
   "cell_type": "code",
   "execution_count": 22,
   "outputs": [
    {
     "data": {
      "text/plain": "numpy.ndarray"
     },
     "execution_count": 22,
     "metadata": {},
     "output_type": "execute_result"
    }
   ],
   "source": [
    "type(y_np)"
   ],
   "metadata": {
    "collapsed": false,
    "pycharm": {
     "name": "#%%\n"
    }
   }
  },
  {
   "cell_type": "code",
   "execution_count": 23,
   "outputs": [
    {
     "name": "stdout",
     "output_type": "stream",
     "text": [
      "36107\n"
     ]
    }
   ],
   "source": [
    "z=0\n",
    "for x,y in zip(prediction,y_np):\n",
    "    if x == y:\n",
    "        z=z+1\n",
    "print(z)\n"
   ],
   "metadata": {
    "collapsed": false,
    "pycharm": {
     "name": "#%%\n"
    }
   }
  },
  {
   "cell_type": "code",
   "execution_count": 25,
   "outputs": [
    {
     "name": "stdout",
     "output_type": "stream",
     "text": [
      "18086\n"
     ]
    }
   ],
   "source": [
    "z=0\n",
    "for x in y_np:\n",
    "    if x==1:\n",
    "        z=z+1\n",
    "print(z)\n"
   ],
   "metadata": {
    "collapsed": false,
    "pycharm": {
     "name": "#%%\n"
    }
   }
  },
  {
   "cell_type": "code",
   "execution_count": 27,
   "outputs": [
    {
     "data": {
      "text/plain": "   country     amount  userAgent_isPc userAgent_browserFamily  \\\n0  Austria  264986.74               1                  Chrome   \n1    Italy  111345.77               1                  Chrome   \n2    Italy    1659.00               1                 Firefox   \n3    Italy     200.00               1                  Safari   \n4    Italy    1000.00               1                  Chrome   \n\n  userAgent_osFamily IBAN_countryCode  IBAN_bankCode    SIA    CAP  SAE  RAE  \\\n0            Windows               AT          34000  BUV4U  39031  430  161   \n1            Windows               DE       34270024  B5SDZ  39100  615   11   \n2            Windows               IT           3069  BQ6RB  31010  430  649   \n3           Mac OS X               IT           8794  CM5CR  30174  492  614   \n4            Windows               IT           8327  CEFGV  31039  430  505   \n\n  companyType  is_anomaly  \n0         SRL           1  \n1          SS           0  \n2         SRL           0  \n3         SAS           1  \n4         SRL           0  ",
      "text/html": "<div>\n<style scoped>\n    .dataframe tbody tr th:only-of-type {\n        vertical-align: middle;\n    }\n\n    .dataframe tbody tr th {\n        vertical-align: top;\n    }\n\n    .dataframe thead th {\n        text-align: right;\n    }\n</style>\n<table border=\"1\" class=\"dataframe\">\n  <thead>\n    <tr style=\"text-align: right;\">\n      <th></th>\n      <th>country</th>\n      <th>amount</th>\n      <th>userAgent_isPc</th>\n      <th>userAgent_browserFamily</th>\n      <th>userAgent_osFamily</th>\n      <th>IBAN_countryCode</th>\n      <th>IBAN_bankCode</th>\n      <th>SIA</th>\n      <th>CAP</th>\n      <th>SAE</th>\n      <th>RAE</th>\n      <th>companyType</th>\n      <th>is_anomaly</th>\n    </tr>\n  </thead>\n  <tbody>\n    <tr>\n      <th>0</th>\n      <td>Austria</td>\n      <td>264986.74</td>\n      <td>1</td>\n      <td>Chrome</td>\n      <td>Windows</td>\n      <td>AT</td>\n      <td>34000</td>\n      <td>BUV4U</td>\n      <td>39031</td>\n      <td>430</td>\n      <td>161</td>\n      <td>SRL</td>\n      <td>1</td>\n    </tr>\n    <tr>\n      <th>1</th>\n      <td>Italy</td>\n      <td>111345.77</td>\n      <td>1</td>\n      <td>Chrome</td>\n      <td>Windows</td>\n      <td>DE</td>\n      <td>34270024</td>\n      <td>B5SDZ</td>\n      <td>39100</td>\n      <td>615</td>\n      <td>11</td>\n      <td>SS</td>\n      <td>0</td>\n    </tr>\n    <tr>\n      <th>2</th>\n      <td>Italy</td>\n      <td>1659.00</td>\n      <td>1</td>\n      <td>Firefox</td>\n      <td>Windows</td>\n      <td>IT</td>\n      <td>3069</td>\n      <td>BQ6RB</td>\n      <td>31010</td>\n      <td>430</td>\n      <td>649</td>\n      <td>SRL</td>\n      <td>0</td>\n    </tr>\n    <tr>\n      <th>3</th>\n      <td>Italy</td>\n      <td>200.00</td>\n      <td>1</td>\n      <td>Safari</td>\n      <td>Mac OS X</td>\n      <td>IT</td>\n      <td>8794</td>\n      <td>CM5CR</td>\n      <td>30174</td>\n      <td>492</td>\n      <td>614</td>\n      <td>SAS</td>\n      <td>1</td>\n    </tr>\n    <tr>\n      <th>4</th>\n      <td>Italy</td>\n      <td>1000.00</td>\n      <td>1</td>\n      <td>Chrome</td>\n      <td>Windows</td>\n      <td>IT</td>\n      <td>8327</td>\n      <td>CEFGV</td>\n      <td>31039</td>\n      <td>430</td>\n      <td>505</td>\n      <td>SRL</td>\n      <td>0</td>\n    </tr>\n  </tbody>\n</table>\n</div>"
     },
     "execution_count": 27,
     "metadata": {},
     "output_type": "execute_result"
    }
   ],
   "source": [
    "misc_test=pd.read_csv('misc_test.csv',decimal=',')\n",
    "misc_test.head()"
   ],
   "metadata": {
    "collapsed": false,
    "pycharm": {
     "name": "#%%\n"
    }
   }
  },
  {
   "cell_type": "code",
   "execution_count": 28,
   "outputs": [
    {
     "name": "stdout",
     "output_type": "stream",
     "text": [
      "<class 'pandas.core.frame.DataFrame'>\n",
      "RangeIndex: 9 entries, 0 to 8\n",
      "Data columns (total 13 columns):\n",
      " #   Column                   Non-Null Count  Dtype  \n",
      "---  ------                   --------------  -----  \n",
      " 0   country                  9 non-null      object \n",
      " 1   amount                   9 non-null      float64\n",
      " 2   userAgent_isPc           9 non-null      int64  \n",
      " 3   userAgent_browserFamily  9 non-null      object \n",
      " 4   userAgent_osFamily       9 non-null      object \n",
      " 5   IBAN_countryCode         9 non-null      object \n",
      " 6   IBAN_bankCode            9 non-null      int64  \n",
      " 7   SIA                      9 non-null      object \n",
      " 8   CAP                      9 non-null      object \n",
      " 9   SAE                      9 non-null      object \n",
      " 10  RAE                      9 non-null      object \n",
      " 11  companyType              9 non-null      object \n",
      " 12  is_anomaly               9 non-null      int64  \n",
      "dtypes: float64(1), int64(3), object(9)\n",
      "memory usage: 1.0+ KB\n"
     ]
    }
   ],
   "source": [
    "misc_test['CAP'] = misc_test['CAP'].apply(str)\n",
    "misc_test['SAE'] = misc_test['SAE'].apply(str)\n",
    "misc_test['RAE'] = misc_test['RAE'].apply(str)\n",
    "misc_test.info()"
   ],
   "metadata": {
    "collapsed": false,
    "pycharm": {
     "name": "#%%\n"
    }
   }
  },
  {
   "cell_type": "code",
   "execution_count": 29,
   "outputs": [
    {
     "data": {
      "text/plain": "   country     amount  userAgent_isPc  userAgent_browserFamily  \\\n0        0  264986.74               1                        0   \n1        6  111345.77               1                        0   \n2        6    1659.00               1                        4   \n3        6     200.00               1                       11   \n4        6    1000.00               1                        0   \n\n   userAgent_osFamily  IBAN_countryCode  IBAN_bankCode   SIA  CAP  SAE  RAE  \\\n0                   5                 0            364  1482  302    8    4   \n1                   5                 6            376   965  327   25    1   \n2                   5                17            285  1346   62    8  121   \n3                   3                17           1217  2045   58   19  106   \n4                   5                17           1088  1781   87    8   99   \n\n   companyType  is_anomaly  \n0           10           1  \n1           11           0  \n2           10           0  \n3            5           1  \n4           10           0  ",
      "text/html": "<div>\n<style scoped>\n    .dataframe tbody tr th:only-of-type {\n        vertical-align: middle;\n    }\n\n    .dataframe tbody tr th {\n        vertical-align: top;\n    }\n\n    .dataframe thead th {\n        text-align: right;\n    }\n</style>\n<table border=\"1\" class=\"dataframe\">\n  <thead>\n    <tr style=\"text-align: right;\">\n      <th></th>\n      <th>country</th>\n      <th>amount</th>\n      <th>userAgent_isPc</th>\n      <th>userAgent_browserFamily</th>\n      <th>userAgent_osFamily</th>\n      <th>IBAN_countryCode</th>\n      <th>IBAN_bankCode</th>\n      <th>SIA</th>\n      <th>CAP</th>\n      <th>SAE</th>\n      <th>RAE</th>\n      <th>companyType</th>\n      <th>is_anomaly</th>\n    </tr>\n  </thead>\n  <tbody>\n    <tr>\n      <th>0</th>\n      <td>0</td>\n      <td>264986.74</td>\n      <td>1</td>\n      <td>0</td>\n      <td>5</td>\n      <td>0</td>\n      <td>364</td>\n      <td>1482</td>\n      <td>302</td>\n      <td>8</td>\n      <td>4</td>\n      <td>10</td>\n      <td>1</td>\n    </tr>\n    <tr>\n      <th>1</th>\n      <td>6</td>\n      <td>111345.77</td>\n      <td>1</td>\n      <td>0</td>\n      <td>5</td>\n      <td>6</td>\n      <td>376</td>\n      <td>965</td>\n      <td>327</td>\n      <td>25</td>\n      <td>1</td>\n      <td>11</td>\n      <td>0</td>\n    </tr>\n    <tr>\n      <th>2</th>\n      <td>6</td>\n      <td>1659.00</td>\n      <td>1</td>\n      <td>4</td>\n      <td>5</td>\n      <td>17</td>\n      <td>285</td>\n      <td>1346</td>\n      <td>62</td>\n      <td>8</td>\n      <td>121</td>\n      <td>10</td>\n      <td>0</td>\n    </tr>\n    <tr>\n      <th>3</th>\n      <td>6</td>\n      <td>200.00</td>\n      <td>1</td>\n      <td>11</td>\n      <td>3</td>\n      <td>17</td>\n      <td>1217</td>\n      <td>2045</td>\n      <td>58</td>\n      <td>19</td>\n      <td>106</td>\n      <td>5</td>\n      <td>1</td>\n    </tr>\n    <tr>\n      <th>4</th>\n      <td>6</td>\n      <td>1000.00</td>\n      <td>1</td>\n      <td>0</td>\n      <td>5</td>\n      <td>17</td>\n      <td>1088</td>\n      <td>1781</td>\n      <td>87</td>\n      <td>8</td>\n      <td>99</td>\n      <td>10</td>\n      <td>0</td>\n    </tr>\n  </tbody>\n</table>\n</div>"
     },
     "execution_count": 29,
     "metadata": {},
     "output_type": "execute_result"
    }
   ],
   "source": [
    "for clmn in columns_to_label:\n",
    "    misc_test[clmn]=misc_test[clmn].apply(str)\n",
    "    misc_test[clmn] = encoder_dict[clmn].transform(misc_test[clmn])\n",
    "\n",
    "misc_test.head()"
   ],
   "metadata": {
    "collapsed": false,
    "pycharm": {
     "name": "#%%\n"
    }
   }
  },
  {
   "cell_type": "code",
   "execution_count": 31,
   "outputs": [
    {
     "data": {
      "text/plain": "array([1, 1, 0, 1, 0, 1, 1, 0, 0], dtype=int64)"
     },
     "execution_count": 31,
     "metadata": {},
     "output_type": "execute_result"
    }
   ],
   "source": [
    "neigh.predict(misc_test.drop(columns='is_anomaly'))"
   ],
   "metadata": {
    "collapsed": false,
    "pycharm": {
     "name": "#%%\n"
    }
   }
  },
  {
   "cell_type": "code",
   "execution_count": 32,
   "outputs": [
    {
     "data": {
      "text/plain": "   customerId                timestamp country   amount  \\\n0    93000801  2021-09-15 16:13:35.147   Italy   150.00   \n1    93000801  2021-08-24 10:34:24.487  Greece  3200.00   \n2    93000801   2021-09-14 16:21:43.33   Italy  8350.00   \n3    93001001  2021-06-30 09:07:16.733   Italy   500.00   \n4    93001001  2021-07-12 16:36:02.857   Italy  1895.68   \n\n                       businessName  userAgent_isPc userAgent_browserFamily  \\\n0  c7543b6f04850eae288aa52783b33363               1                 Firefox   \n1  c7543b6f04850eae288aa52783b33363               1                 Firefox   \n2  c7543b6f04850eae288aa52783b33363               1                 Firefox   \n3  3f241dfcc38064261fec0f303c2784e5               1                  Chrome   \n4  a5d1eaffa8e325d370665f43624339a1               1                  Chrome   \n\n  userAgent_osFamily IBAN_countryCode IBAN_bankCode    SIA    CAP  SAE  RAE  \\\n0            Windows               IT          5856  CLFUY  33077  492  630   \n1            Windows               IT          5856  CLFUY  33077  492  630   \n2            Windows               IT          5856  CLFUY  33077  492  630   \n3            Windows               IT          2008  CEFGV  31039  430  505   \n4            Windows               IT          3069  CEFGV  31039  430  505   \n\n  companyType  is_anomaly  \n0         SAS           0  \n1         SAS           0  \n2         SAS           0  \n3         SRL           0  \n4         SRL           0  ",
      "text/html": "<div>\n<style scoped>\n    .dataframe tbody tr th:only-of-type {\n        vertical-align: middle;\n    }\n\n    .dataframe tbody tr th {\n        vertical-align: top;\n    }\n\n    .dataframe thead th {\n        text-align: right;\n    }\n</style>\n<table border=\"1\" class=\"dataframe\">\n  <thead>\n    <tr style=\"text-align: right;\">\n      <th></th>\n      <th>customerId</th>\n      <th>timestamp</th>\n      <th>country</th>\n      <th>amount</th>\n      <th>businessName</th>\n      <th>userAgent_isPc</th>\n      <th>userAgent_browserFamily</th>\n      <th>userAgent_osFamily</th>\n      <th>IBAN_countryCode</th>\n      <th>IBAN_bankCode</th>\n      <th>SIA</th>\n      <th>CAP</th>\n      <th>SAE</th>\n      <th>RAE</th>\n      <th>companyType</th>\n      <th>is_anomaly</th>\n    </tr>\n  </thead>\n  <tbody>\n    <tr>\n      <th>0</th>\n      <td>93000801</td>\n      <td>2021-09-15 16:13:35.147</td>\n      <td>Italy</td>\n      <td>150.00</td>\n      <td>c7543b6f04850eae288aa52783b33363</td>\n      <td>1</td>\n      <td>Firefox</td>\n      <td>Windows</td>\n      <td>IT</td>\n      <td>5856</td>\n      <td>CLFUY</td>\n      <td>33077</td>\n      <td>492</td>\n      <td>630</td>\n      <td>SAS</td>\n      <td>0</td>\n    </tr>\n    <tr>\n      <th>1</th>\n      <td>93000801</td>\n      <td>2021-08-24 10:34:24.487</td>\n      <td>Greece</td>\n      <td>3200.00</td>\n      <td>c7543b6f04850eae288aa52783b33363</td>\n      <td>1</td>\n      <td>Firefox</td>\n      <td>Windows</td>\n      <td>IT</td>\n      <td>5856</td>\n      <td>CLFUY</td>\n      <td>33077</td>\n      <td>492</td>\n      <td>630</td>\n      <td>SAS</td>\n      <td>0</td>\n    </tr>\n    <tr>\n      <th>2</th>\n      <td>93000801</td>\n      <td>2021-09-14 16:21:43.33</td>\n      <td>Italy</td>\n      <td>8350.00</td>\n      <td>c7543b6f04850eae288aa52783b33363</td>\n      <td>1</td>\n      <td>Firefox</td>\n      <td>Windows</td>\n      <td>IT</td>\n      <td>5856</td>\n      <td>CLFUY</td>\n      <td>33077</td>\n      <td>492</td>\n      <td>630</td>\n      <td>SAS</td>\n      <td>0</td>\n    </tr>\n    <tr>\n      <th>3</th>\n      <td>93001001</td>\n      <td>2021-06-30 09:07:16.733</td>\n      <td>Italy</td>\n      <td>500.00</td>\n      <td>3f241dfcc38064261fec0f303c2784e5</td>\n      <td>1</td>\n      <td>Chrome</td>\n      <td>Windows</td>\n      <td>IT</td>\n      <td>2008</td>\n      <td>CEFGV</td>\n      <td>31039</td>\n      <td>430</td>\n      <td>505</td>\n      <td>SRL</td>\n      <td>0</td>\n    </tr>\n    <tr>\n      <th>4</th>\n      <td>93001001</td>\n      <td>2021-07-12 16:36:02.857</td>\n      <td>Italy</td>\n      <td>1895.68</td>\n      <td>a5d1eaffa8e325d370665f43624339a1</td>\n      <td>1</td>\n      <td>Chrome</td>\n      <td>Windows</td>\n      <td>IT</td>\n      <td>3069</td>\n      <td>CEFGV</td>\n      <td>31039</td>\n      <td>430</td>\n      <td>505</td>\n      <td>SRL</td>\n      <td>0</td>\n    </tr>\n  </tbody>\n</table>\n</div>"
     },
     "execution_count": 32,
     "metadata": {},
     "output_type": "execute_result"
    }
   ],
   "source": [],
   "metadata": {
    "collapsed": false,
    "pycharm": {
     "name": "#%%\n"
    }
   }
  },
  {
   "cell_type": "code",
   "execution_count": 38,
   "outputs": [
    {
     "name": "stdout",
     "output_type": "stream",
     "text": [
      "0.9930912507599624\n",
      "0.9927071579932301\n",
      "0.9925856508916513\n",
      "0.9918046312084045\n",
      "0.991351291797499\n",
      "0.9908690869086908\n",
      "0.9905291558834867\n",
      "0.9902944653707625\n",
      "0.9904227212681638\n",
      "0.9895870538780669\n",
      "0.9894922154370908\n",
      "0.9890375580404979\n",
      "0.9889729135157431\n",
      "0.9885171144442614\n",
      "0.9884526558891455\n",
      "0.987915407854985\n",
      "0.987682832948422\n",
      "0.9873389909642691\n"
     ]
    }
   ],
   "source": [
    "from sklearn.neighbors import KNeighborsClassifier\n",
    "from sklearn.metrics import roc_auc_score\n",
    "from sklearn.metrics import average_precision_score\n",
    "from sklearn.metrics import brier_score_loss\n",
    "from sklearn.metrics import f1_score\n",
    "\n",
    "for k in range(2,20):\n",
    "    neigh = KNeighborsClassifier(n_neighbors=k)\n",
    "    neigh.fit(X_train, y_train)\n",
    "    #print(k)\n",
    "    #y_score=neigh.predict_proba(X_test)[:,1]\n",
    "    y_pred=neigh.predict(X_test)\n",
    "    #print(f1_score(y_test,y_pred)) #diminuisce\n",
    "    #print(brier_score_loss(y_test,y_score)) #lower better aumenta\n",
    "    #print(average_precision_score(y_test,y_score,average='micro')) #aumenta\n",
    "    #print(roc_auc_score(y_test,y_score)) #aumenta\n",
    "    #print(neigh.score(X_test,y_test)) #diminuisce"
   ],
   "metadata": {
    "collapsed": false,
    "pycharm": {
     "name": "#%%\n"
    }
   }
  },
  {
   "cell_type": "code",
   "execution_count": 37,
   "outputs": [
    {
     "data": {
      "text/plain": "array([0, 0, 0, ..., 1, 1, 1], dtype=int64)"
     },
     "execution_count": 37,
     "metadata": {},
     "output_type": "execute_result"
    }
   ],
   "source": [
    "neigh.predict(X_test)"
   ],
   "metadata": {
    "collapsed": false,
    "pycharm": {
     "name": "#%%\n"
    }
   }
  },
  {
   "cell_type": "code",
   "execution_count": 14,
   "outputs": [
    {
     "data": {
      "text/plain": "array([[1., 0.],\n       [1., 0.],\n       [1., 0.],\n       ...,\n       [0., 1.],\n       [0., 1.],\n       [0., 1.]])"
     },
     "execution_count": 14,
     "metadata": {},
     "output_type": "execute_result"
    }
   ],
   "source": [
    "neigh.predict_proba(X_test)"
   ],
   "metadata": {
    "collapsed": false,
    "pycharm": {
     "name": "#%%\n"
    }
   }
  },
  {
   "cell_type": "code",
   "execution_count": 16,
   "outputs": [
    {
     "data": {
      "text/plain": "0.9941180144452116"
     },
     "execution_count": 16,
     "metadata": {},
     "output_type": "execute_result"
    }
   ],
   "source": [
    "from sklearn.metrics import roc_auc_score\n",
    "roc_auc_score(y_test,neigh.predict_proba(X_test)[:,1])"
   ],
   "metadata": {
    "collapsed": false,
    "pycharm": {
     "name": "#%%\n"
    }
   }
  },
  {
   "cell_type": "code",
   "execution_count": 23,
   "outputs": [
    {
     "data": {
      "text/plain": "KNeighborsClassifier(n_neighbors=10)",
      "text/html": "<style>#sk-container-id-1 {color: black;background-color: white;}#sk-container-id-1 pre{padding: 0;}#sk-container-id-1 div.sk-toggleable {background-color: white;}#sk-container-id-1 label.sk-toggleable__label {cursor: pointer;display: block;width: 100%;margin-bottom: 0;padding: 0.3em;box-sizing: border-box;text-align: center;}#sk-container-id-1 label.sk-toggleable__label-arrow:before {content: \"▸\";float: left;margin-right: 0.25em;color: #696969;}#sk-container-id-1 label.sk-toggleable__label-arrow:hover:before {color: black;}#sk-container-id-1 div.sk-estimator:hover label.sk-toggleable__label-arrow:before {color: black;}#sk-container-id-1 div.sk-toggleable__content {max-height: 0;max-width: 0;overflow: hidden;text-align: left;background-color: #f0f8ff;}#sk-container-id-1 div.sk-toggleable__content pre {margin: 0.2em;color: black;border-radius: 0.25em;background-color: #f0f8ff;}#sk-container-id-1 input.sk-toggleable__control:checked~div.sk-toggleable__content {max-height: 200px;max-width: 100%;overflow: auto;}#sk-container-id-1 input.sk-toggleable__control:checked~label.sk-toggleable__label-arrow:before {content: \"▾\";}#sk-container-id-1 div.sk-estimator input.sk-toggleable__control:checked~label.sk-toggleable__label {background-color: #d4ebff;}#sk-container-id-1 div.sk-label input.sk-toggleable__control:checked~label.sk-toggleable__label {background-color: #d4ebff;}#sk-container-id-1 input.sk-hidden--visually {border: 0;clip: rect(1px 1px 1px 1px);clip: rect(1px, 1px, 1px, 1px);height: 1px;margin: -1px;overflow: hidden;padding: 0;position: absolute;width: 1px;}#sk-container-id-1 div.sk-estimator {font-family: monospace;background-color: #f0f8ff;border: 1px dotted black;border-radius: 0.25em;box-sizing: border-box;margin-bottom: 0.5em;}#sk-container-id-1 div.sk-estimator:hover {background-color: #d4ebff;}#sk-container-id-1 div.sk-parallel-item::after {content: \"\";width: 100%;border-bottom: 1px solid gray;flex-grow: 1;}#sk-container-id-1 div.sk-label:hover label.sk-toggleable__label {background-color: #d4ebff;}#sk-container-id-1 div.sk-serial::before {content: \"\";position: absolute;border-left: 1px solid gray;box-sizing: border-box;top: 0;bottom: 0;left: 50%;z-index: 0;}#sk-container-id-1 div.sk-serial {display: flex;flex-direction: column;align-items: center;background-color: white;padding-right: 0.2em;padding-left: 0.2em;position: relative;}#sk-container-id-1 div.sk-item {position: relative;z-index: 1;}#sk-container-id-1 div.sk-parallel {display: flex;align-items: stretch;justify-content: center;background-color: white;position: relative;}#sk-container-id-1 div.sk-item::before, #sk-container-id-1 div.sk-parallel-item::before {content: \"\";position: absolute;border-left: 1px solid gray;box-sizing: border-box;top: 0;bottom: 0;left: 50%;z-index: -1;}#sk-container-id-1 div.sk-parallel-item {display: flex;flex-direction: column;z-index: 1;position: relative;background-color: white;}#sk-container-id-1 div.sk-parallel-item:first-child::after {align-self: flex-end;width: 50%;}#sk-container-id-1 div.sk-parallel-item:last-child::after {align-self: flex-start;width: 50%;}#sk-container-id-1 div.sk-parallel-item:only-child::after {width: 0;}#sk-container-id-1 div.sk-dashed-wrapped {border: 1px dashed gray;margin: 0 0.4em 0.5em 0.4em;box-sizing: border-box;padding-bottom: 0.4em;background-color: white;}#sk-container-id-1 div.sk-label label {font-family: monospace;font-weight: bold;display: inline-block;line-height: 1.2em;}#sk-container-id-1 div.sk-label-container {text-align: center;}#sk-container-id-1 div.sk-container {/* jupyter's `normalize.less` sets `[hidden] { display: none; }` but bootstrap.min.css set `[hidden] { display: none !important; }` so we also need the `!important` here to be able to override the default hidden behavior on the sphinx rendered scikit-learn.org. See: https://github.com/scikit-learn/scikit-learn/issues/21755 */display: inline-block !important;position: relative;}#sk-container-id-1 div.sk-text-repr-fallback {display: none;}</style><div id=\"sk-container-id-1\" class=\"sk-top-container\"><div class=\"sk-text-repr-fallback\"><pre>KNeighborsClassifier(n_neighbors=10)</pre><b>In a Jupyter environment, please rerun this cell to show the HTML representation or trust the notebook. <br />On GitHub, the HTML representation is unable to render, please try loading this page with nbviewer.org.</b></div><div class=\"sk-container\" hidden><div class=\"sk-item\"><div class=\"sk-estimator sk-toggleable\"><input class=\"sk-toggleable__control sk-hidden--visually\" id=\"sk-estimator-id-1\" type=\"checkbox\" checked><label for=\"sk-estimator-id-1\" class=\"sk-toggleable__label sk-toggleable__label-arrow\">KNeighborsClassifier</label><div class=\"sk-toggleable__content\"><pre>KNeighborsClassifier(n_neighbors=10)</pre></div></div></div></div></div>"
     },
     "execution_count": 23,
     "metadata": {},
     "output_type": "execute_result"
    }
   ],
   "source": [
    "neigh = KNeighborsClassifier(n_neighbors=10)\n",
    "neigh.fit(X_train, y_train)\n",
    "#print(k)\n",
    "score=roc_auc_score(neigh.predict_proba(X_test)[:,1],y_test)\n",
    "print(score)"
   ],
   "metadata": {
    "collapsed": false,
    "pycharm": {
     "name": "#%%\n"
    }
   }
  },
  {
   "cell_type": "code",
   "execution_count": 28,
   "outputs": [
    {
     "data": {
      "text/plain": "array([0.1, 0. , 0. , ..., 1. , 1. , 1. ])"
     },
     "execution_count": 28,
     "metadata": {},
     "output_type": "execute_result"
    }
   ],
   "source": [
    "neigh.predict_proba(X_test)[:,1]"
   ],
   "metadata": {
    "collapsed": false,
    "pycharm": {
     "name": "#%%\n"
    }
   }
  },
  {
   "cell_type": "code",
   "execution_count": 42,
   "outputs": [
    {
     "name": "stdout",
     "output_type": "stream",
     "text": [
      "0.9943143672710487\n",
      "{'n_neighbors': 1, 'weights': 'uniform'}\n",
      "KNeighborsClassifier(n_neighbors=1)\n"
     ]
    }
   ],
   "source": [
    "from sklearn.model_selection import GridSearchCV\n",
    "knn = KNeighborsClassifier()\n",
    "\n",
    "k_range = list(range(1,100))\n",
    "weight_options = [\"uniform\", \"distance\"]\n",
    "\n",
    "param_grid = dict(n_neighbors = k_range, weights = weight_options)\n",
    "\n",
    "grid = GridSearchCV(knn, param_grid, cv = 10, scoring = 'accuracy')\n",
    "grid.fit(X,y)\n",
    "\n",
    "print (grid.best_score_)\n",
    "print (grid.best_params_)\n",
    "print (grid.best_estimator_)"
   ],
   "metadata": {
    "collapsed": false,
    "pycharm": {
     "name": "#%%\n"
    }
   }
  },
  {
   "cell_type": "code",
   "execution_count": null,
   "outputs": [],
   "source": [],
   "metadata": {
    "collapsed": false,
    "pycharm": {
     "name": "#%%\n"
    }
   }
  }
 ],
 "metadata": {
  "kernelspec": {
   "display_name": "Python 3",
   "language": "python",
   "name": "python3"
  },
  "language_info": {
   "codemirror_mode": {
    "name": "ipython",
    "version": 2
   },
   "file_extension": ".py",
   "mimetype": "text/x-python",
   "name": "python",
   "nbconvert_exporter": "python",
   "pygments_lexer": "ipython2",
   "version": "2.7.6"
  }
 },
 "nbformat": 4,
 "nbformat_minor": 0
}