{
 "cells": [
  {
   "cell_type": "code",
   "execution_count": 2,
   "outputs": [],
   "source": [
    "#IMPORTO LIBRERIE\n",
    "import pandas as pd"
   ],
   "metadata": {
    "collapsed": false,
    "pycharm": {
     "name": "#%%\n"
    }
   }
  },
  {
   "cell_type": "code",
   "execution_count": 3,
   "outputs": [
    {
     "data": {
      "text/plain": "(90960, 16)"
     },
     "execution_count": 3,
     "metadata": {},
     "output_type": "execute_result"
    }
   ],
   "source": [
    "df = pd.read_csv('misc_anomalies.csv',decimal=',')\n",
    "df.shape"
   ],
   "metadata": {
    "collapsed": false,
    "pycharm": {
     "name": "#%%\n"
    }
   }
  },
  {
   "cell_type": "code",
   "execution_count": 4,
   "outputs": [
    {
     "data": {
      "text/plain": "  country   amount  userAgent_isPc userAgent_browserFamily userAgent_osFamily  \\\n0   Italy   150.00               1                 Firefox            Windows   \n1  Greece  3200.00               1                 Firefox            Windows   \n2   Italy  8350.00               1                 Firefox            Windows   \n3   Italy   500.00               1                  Chrome            Windows   \n4   Italy  1895.68               1                  Chrome            Windows   \n\n  IBAN_countryCode IBAN_bankCode    SIA    CAP  SAE  RAE companyType  \\\n0               IT          5856  CLFUY  33077  492  630         SAS   \n1               IT          5856  CLFUY  33077  492  630         SAS   \n2               IT          5856  CLFUY  33077  492  630         SAS   \n3               IT          2008  CEFGV  31039  430  505         SRL   \n4               IT          3069  CEFGV  31039  430  505         SRL   \n\n   is_anomaly  \n0           0  \n1           0  \n2           0  \n3           0  \n4           0  ",
      "text/html": "<div>\n<style scoped>\n    .dataframe tbody tr th:only-of-type {\n        vertical-align: middle;\n    }\n\n    .dataframe tbody tr th {\n        vertical-align: top;\n    }\n\n    .dataframe thead th {\n        text-align: right;\n    }\n</style>\n<table border=\"1\" class=\"dataframe\">\n  <thead>\n    <tr style=\"text-align: right;\">\n      <th></th>\n      <th>country</th>\n      <th>amount</th>\n      <th>userAgent_isPc</th>\n      <th>userAgent_browserFamily</th>\n      <th>userAgent_osFamily</th>\n      <th>IBAN_countryCode</th>\n      <th>IBAN_bankCode</th>\n      <th>SIA</th>\n      <th>CAP</th>\n      <th>SAE</th>\n      <th>RAE</th>\n      <th>companyType</th>\n      <th>is_anomaly</th>\n    </tr>\n  </thead>\n  <tbody>\n    <tr>\n      <th>0</th>\n      <td>Italy</td>\n      <td>150.00</td>\n      <td>1</td>\n      <td>Firefox</td>\n      <td>Windows</td>\n      <td>IT</td>\n      <td>5856</td>\n      <td>CLFUY</td>\n      <td>33077</td>\n      <td>492</td>\n      <td>630</td>\n      <td>SAS</td>\n      <td>0</td>\n    </tr>\n    <tr>\n      <th>1</th>\n      <td>Greece</td>\n      <td>3200.00</td>\n      <td>1</td>\n      <td>Firefox</td>\n      <td>Windows</td>\n      <td>IT</td>\n      <td>5856</td>\n      <td>CLFUY</td>\n      <td>33077</td>\n      <td>492</td>\n      <td>630</td>\n      <td>SAS</td>\n      <td>0</td>\n    </tr>\n    <tr>\n      <th>2</th>\n      <td>Italy</td>\n      <td>8350.00</td>\n      <td>1</td>\n      <td>Firefox</td>\n      <td>Windows</td>\n      <td>IT</td>\n      <td>5856</td>\n      <td>CLFUY</td>\n      <td>33077</td>\n      <td>492</td>\n      <td>630</td>\n      <td>SAS</td>\n      <td>0</td>\n    </tr>\n    <tr>\n      <th>3</th>\n      <td>Italy</td>\n      <td>500.00</td>\n      <td>1</td>\n      <td>Chrome</td>\n      <td>Windows</td>\n      <td>IT</td>\n      <td>2008</td>\n      <td>CEFGV</td>\n      <td>31039</td>\n      <td>430</td>\n      <td>505</td>\n      <td>SRL</td>\n      <td>0</td>\n    </tr>\n    <tr>\n      <th>4</th>\n      <td>Italy</td>\n      <td>1895.68</td>\n      <td>1</td>\n      <td>Chrome</td>\n      <td>Windows</td>\n      <td>IT</td>\n      <td>3069</td>\n      <td>CEFGV</td>\n      <td>31039</td>\n      <td>430</td>\n      <td>505</td>\n      <td>SRL</td>\n      <td>0</td>\n    </tr>\n  </tbody>\n</table>\n</div>"
     },
     "execution_count": 4,
     "metadata": {},
     "output_type": "execute_result"
    }
   ],
   "source": [
    "df = df.drop(columns=['customerId','timestamp','businessName'])\n",
    "df.head()"
   ],
   "metadata": {
    "collapsed": false,
    "pycharm": {
     "name": "#%%\n"
    }
   }
  },
  {
   "cell_type": "code",
   "execution_count": 5,
   "outputs": [
    {
     "data": {
      "text/plain": "array([['Italy', 150.0, 1, ..., 492, 630, 'SAS'],\n       ['Greece', 3200.0, 1, ..., 492, 630, 'SAS'],\n       ['Italy', 8350.0, 1, ..., 492, 630, 'SAS'],\n       ...,\n       ['Italy', 877.55, 1, ..., 430, 505, 'SRL'],\n       ['Italy', 951.6, 1, ..., 492, 830, 'SNC'],\n       ['Italy', 68350.0, 1, ..., 482, 671, 'SNC']], dtype=object)"
     },
     "execution_count": 5,
     "metadata": {},
     "output_type": "execute_result"
    }
   ],
   "source": [
    "#copy=df.copy()\n",
    "#copy=copy.drop(columns=['is_anomaly'])\n",
    "X=df.copy().drop(columns=['is_anomaly']).to_numpy(copy=True)\n",
    "X"
   ],
   "metadata": {
    "collapsed": false,
    "pycharm": {
     "name": "#%%\n"
    }
   }
  },
  {
   "cell_type": "code",
   "execution_count": 6,
   "outputs": [
    {
     "data": {
      "text/plain": "array([0, 0, 0, ..., 0, 0, 0], dtype=int64)"
     },
     "execution_count": 6,
     "metadata": {},
     "output_type": "execute_result"
    }
   ],
   "source": [
    "y=df['is_anomaly'].to_numpy(copy=True)\n",
    "y"
   ],
   "metadata": {
    "collapsed": false,
    "pycharm": {
     "name": "#%%\n"
    }
   }
  },
  {
   "cell_type": "code",
   "execution_count": 7,
   "outputs": [],
   "source": [
    "categorical_features=[0,2,3,4,5,6,7,8,9,10,11]"
   ],
   "metadata": {
    "collapsed": false,
    "pycharm": {
     "name": "#%%\n"
    }
   }
  },
  {
   "cell_type": "code",
   "execution_count": 8,
   "metadata": {
    "collapsed": true,
    "pycharm": {
     "name": "#%%\n"
    }
   },
   "outputs": [
    {
     "ename": "MemoryError",
     "evalue": "Unable to allocate 14.1 GiB for an array with shape (90902, 5, 4175) and data type float64",
     "output_type": "error",
     "traceback": [
      "\u001B[1;31m---------------------------------------------------------------------------\u001B[0m",
      "\u001B[1;31mMemoryError\u001B[0m                               Traceback (most recent call last)",
      "Input \u001B[1;32mIn [8]\u001B[0m, in \u001B[0;36m<cell line: 5>\u001B[1;34m()\u001B[0m\n\u001B[0;32m      2\u001B[0m \u001B[38;5;28;01mfrom\u001B[39;00m \u001B[38;5;21;01mimblearn\u001B[39;00m\u001B[38;5;21;01m.\u001B[39;00m\u001B[38;5;21;01mover_sampling\u001B[39;00m \u001B[38;5;28;01mimport\u001B[39;00m SMOTENC\n\u001B[0;32m      4\u001B[0m smote_nc \u001B[38;5;241m=\u001B[39m SMOTENC(categorical_features\u001B[38;5;241m=\u001B[39mcategorical_features, random_state\u001B[38;5;241m=\u001B[39m\u001B[38;5;241m0\u001B[39m)\n\u001B[1;32m----> 5\u001B[0m X_resampled, y_resampled \u001B[38;5;241m=\u001B[39m \u001B[43msmote_nc\u001B[49m\u001B[38;5;241;43m.\u001B[39;49m\u001B[43mfit_resample\u001B[49m\u001B[43m(\u001B[49m\u001B[43mX\u001B[49m\u001B[43m,\u001B[49m\u001B[43m \u001B[49m\u001B[43my\u001B[49m\u001B[43m)\u001B[49m\n",
      "File \u001B[1;32m~\\AppData\\Local\\Programs\\Python\\Python310\\lib\\site-packages\\imblearn\\base.py:83\u001B[0m, in \u001B[0;36mSamplerMixin.fit_resample\u001B[1;34m(self, X, y)\u001B[0m\n\u001B[0;32m     77\u001B[0m X, y, binarize_y \u001B[38;5;241m=\u001B[39m \u001B[38;5;28mself\u001B[39m\u001B[38;5;241m.\u001B[39m_check_X_y(X, y)\n\u001B[0;32m     79\u001B[0m \u001B[38;5;28mself\u001B[39m\u001B[38;5;241m.\u001B[39msampling_strategy_ \u001B[38;5;241m=\u001B[39m check_sampling_strategy(\n\u001B[0;32m     80\u001B[0m     \u001B[38;5;28mself\u001B[39m\u001B[38;5;241m.\u001B[39msampling_strategy, y, \u001B[38;5;28mself\u001B[39m\u001B[38;5;241m.\u001B[39m_sampling_type\n\u001B[0;32m     81\u001B[0m )\n\u001B[1;32m---> 83\u001B[0m output \u001B[38;5;241m=\u001B[39m \u001B[38;5;28;43mself\u001B[39;49m\u001B[38;5;241;43m.\u001B[39;49m\u001B[43m_fit_resample\u001B[49m\u001B[43m(\u001B[49m\u001B[43mX\u001B[49m\u001B[43m,\u001B[49m\u001B[43m \u001B[49m\u001B[43my\u001B[49m\u001B[43m)\u001B[49m\n\u001B[0;32m     85\u001B[0m y_ \u001B[38;5;241m=\u001B[39m (\n\u001B[0;32m     86\u001B[0m     label_binarize(output[\u001B[38;5;241m1\u001B[39m], classes\u001B[38;5;241m=\u001B[39mnp\u001B[38;5;241m.\u001B[39munique(y)) \u001B[38;5;28;01mif\u001B[39;00m binarize_y \u001B[38;5;28;01melse\u001B[39;00m output[\u001B[38;5;241m1\u001B[39m]\n\u001B[0;32m     87\u001B[0m )\n\u001B[0;32m     89\u001B[0m X_, y_ \u001B[38;5;241m=\u001B[39m arrays_transformer\u001B[38;5;241m.\u001B[39mtransform(output[\u001B[38;5;241m0\u001B[39m], y_)\n",
      "File \u001B[1;32m~\\AppData\\Local\\Programs\\Python\\Python310\\lib\\site-packages\\imblearn\\over_sampling\\_smote\\base.py:533\u001B[0m, in \u001B[0;36mSMOTENC._fit_resample\u001B[1;34m(self, X, y)\u001B[0m\n\u001B[0;32m    530\u001B[0m X_ohe\u001B[38;5;241m.\u001B[39mdata \u001B[38;5;241m=\u001B[39m np\u001B[38;5;241m.\u001B[39mones_like(X_ohe\u001B[38;5;241m.\u001B[39mdata, dtype\u001B[38;5;241m=\u001B[39mX_ohe\u001B[38;5;241m.\u001B[39mdtype) \u001B[38;5;241m*\u001B[39m \u001B[38;5;28mself\u001B[39m\u001B[38;5;241m.\u001B[39mmedian_std_ \u001B[38;5;241m/\u001B[39m \u001B[38;5;241m2\u001B[39m\n\u001B[0;32m    531\u001B[0m X_encoded \u001B[38;5;241m=\u001B[39m sparse\u001B[38;5;241m.\u001B[39mhstack((X_continuous, X_ohe), \u001B[38;5;28mformat\u001B[39m\u001B[38;5;241m=\u001B[39m\u001B[38;5;124m\"\u001B[39m\u001B[38;5;124mcsr\u001B[39m\u001B[38;5;124m\"\u001B[39m)\n\u001B[1;32m--> 533\u001B[0m X_resampled, y_resampled \u001B[38;5;241m=\u001B[39m \u001B[38;5;28;43msuper\u001B[39;49m\u001B[43m(\u001B[49m\u001B[43m)\u001B[49m\u001B[38;5;241;43m.\u001B[39;49m\u001B[43m_fit_resample\u001B[49m\u001B[43m(\u001B[49m\u001B[43mX_encoded\u001B[49m\u001B[43m,\u001B[49m\u001B[43m \u001B[49m\u001B[43my\u001B[49m\u001B[43m)\u001B[49m\n\u001B[0;32m    535\u001B[0m \u001B[38;5;66;03m# reverse the encoding of the categorical features\u001B[39;00m\n\u001B[0;32m    536\u001B[0m X_res_cat \u001B[38;5;241m=\u001B[39m X_resampled[:, \u001B[38;5;28mself\u001B[39m\u001B[38;5;241m.\u001B[39mcontinuous_features_\u001B[38;5;241m.\u001B[39msize :]\n",
      "File \u001B[1;32m~\\AppData\\Local\\Programs\\Python\\Python310\\lib\\site-packages\\imblearn\\over_sampling\\_smote\\base.py:325\u001B[0m, in \u001B[0;36mSMOTE._fit_resample\u001B[1;34m(self, X, y)\u001B[0m\n\u001B[0;32m    323\u001B[0m \u001B[38;5;28mself\u001B[39m\u001B[38;5;241m.\u001B[39mnn_k_\u001B[38;5;241m.\u001B[39mfit(X_class)\n\u001B[0;32m    324\u001B[0m nns \u001B[38;5;241m=\u001B[39m \u001B[38;5;28mself\u001B[39m\u001B[38;5;241m.\u001B[39mnn_k_\u001B[38;5;241m.\u001B[39mkneighbors(X_class, return_distance\u001B[38;5;241m=\u001B[39m\u001B[38;5;28;01mFalse\u001B[39;00m)[:, \u001B[38;5;241m1\u001B[39m:]\n\u001B[1;32m--> 325\u001B[0m X_new, y_new \u001B[38;5;241m=\u001B[39m \u001B[38;5;28;43mself\u001B[39;49m\u001B[38;5;241;43m.\u001B[39;49m\u001B[43m_make_samples\u001B[49m\u001B[43m(\u001B[49m\n\u001B[0;32m    326\u001B[0m \u001B[43m    \u001B[49m\u001B[43mX_class\u001B[49m\u001B[43m,\u001B[49m\u001B[43m \u001B[49m\u001B[43my\u001B[49m\u001B[38;5;241;43m.\u001B[39;49m\u001B[43mdtype\u001B[49m\u001B[43m,\u001B[49m\u001B[43m \u001B[49m\u001B[43mclass_sample\u001B[49m\u001B[43m,\u001B[49m\u001B[43m \u001B[49m\u001B[43mX_class\u001B[49m\u001B[43m,\u001B[49m\u001B[43m \u001B[49m\u001B[43mnns\u001B[49m\u001B[43m,\u001B[49m\u001B[43m \u001B[49m\u001B[43mn_samples\u001B[49m\u001B[43m,\u001B[49m\u001B[43m \u001B[49m\u001B[38;5;241;43m1.0\u001B[39;49m\n\u001B[0;32m    327\u001B[0m \u001B[43m\u001B[49m\u001B[43m)\u001B[49m\n\u001B[0;32m    328\u001B[0m X_resampled\u001B[38;5;241m.\u001B[39mappend(X_new)\n\u001B[0;32m    329\u001B[0m y_resampled\u001B[38;5;241m.\u001B[39mappend(y_new)\n",
      "File \u001B[1;32m~\\AppData\\Local\\Programs\\Python\\Python310\\lib\\site-packages\\imblearn\\over_sampling\\_smote\\base.py:103\u001B[0m, in \u001B[0;36mBaseSMOTE._make_samples\u001B[1;34m(self, X, y_dtype, y_type, nn_data, nn_num, n_samples, step_size)\u001B[0m\n\u001B[0;32m    100\u001B[0m rows \u001B[38;5;241m=\u001B[39m np\u001B[38;5;241m.\u001B[39mfloor_divide(samples_indices, nn_num\u001B[38;5;241m.\u001B[39mshape[\u001B[38;5;241m1\u001B[39m])\n\u001B[0;32m    101\u001B[0m cols \u001B[38;5;241m=\u001B[39m np\u001B[38;5;241m.\u001B[39mmod(samples_indices, nn_num\u001B[38;5;241m.\u001B[39mshape[\u001B[38;5;241m1\u001B[39m])\n\u001B[1;32m--> 103\u001B[0m X_new \u001B[38;5;241m=\u001B[39m \u001B[38;5;28;43mself\u001B[39;49m\u001B[38;5;241;43m.\u001B[39;49m\u001B[43m_generate_samples\u001B[49m\u001B[43m(\u001B[49m\u001B[43mX\u001B[49m\u001B[43m,\u001B[49m\u001B[43m \u001B[49m\u001B[43mnn_data\u001B[49m\u001B[43m,\u001B[49m\u001B[43m \u001B[49m\u001B[43mnn_num\u001B[49m\u001B[43m,\u001B[49m\u001B[43m \u001B[49m\u001B[43mrows\u001B[49m\u001B[43m,\u001B[49m\u001B[43m \u001B[49m\u001B[43mcols\u001B[49m\u001B[43m,\u001B[49m\u001B[43m \u001B[49m\u001B[43msteps\u001B[49m\u001B[43m)\u001B[49m\n\u001B[0;32m    104\u001B[0m y_new \u001B[38;5;241m=\u001B[39m np\u001B[38;5;241m.\u001B[39mfull(n_samples, fill_value\u001B[38;5;241m=\u001B[39my_type, dtype\u001B[38;5;241m=\u001B[39my_dtype)\n\u001B[0;32m    105\u001B[0m \u001B[38;5;28;01mreturn\u001B[39;00m X_new, y_new\n",
      "File \u001B[1;32m~\\AppData\\Local\\Programs\\Python\\Python310\\lib\\site-packages\\imblearn\\over_sampling\\_smote\\base.py:594\u001B[0m, in \u001B[0;36mSMOTENC._generate_samples\u001B[1;34m(self, X, nn_data, nn_num, rows, cols, steps)\u001B[0m\n\u001B[0;32m    589\u001B[0m \u001B[38;5;28;01mif\u001B[39;00m math\u001B[38;5;241m.\u001B[39misclose(\u001B[38;5;28mself\u001B[39m\u001B[38;5;241m.\u001B[39mmedian_std_, \u001B[38;5;241m0\u001B[39m):\n\u001B[0;32m    590\u001B[0m     nn_data[\n\u001B[0;32m    591\u001B[0m         :, \u001B[38;5;28mself\u001B[39m\u001B[38;5;241m.\u001B[39mcontinuous_features_\u001B[38;5;241m.\u001B[39msize :\n\u001B[0;32m    592\u001B[0m     ] \u001B[38;5;241m=\u001B[39m \u001B[38;5;28mself\u001B[39m\u001B[38;5;241m.\u001B[39m_X_categorical_minority_encoded\n\u001B[1;32m--> 594\u001B[0m all_neighbors \u001B[38;5;241m=\u001B[39m \u001B[43mnn_data\u001B[49m\u001B[43m[\u001B[49m\u001B[43mnn_num\u001B[49m\u001B[43m[\u001B[49m\u001B[43mrows\u001B[49m\u001B[43m]\u001B[49m\u001B[43m]\u001B[49m\n\u001B[0;32m    596\u001B[0m categories_size \u001B[38;5;241m=\u001B[39m [\u001B[38;5;28mself\u001B[39m\u001B[38;5;241m.\u001B[39mcontinuous_features_\u001B[38;5;241m.\u001B[39msize] \u001B[38;5;241m+\u001B[39m [\n\u001B[0;32m    597\u001B[0m     cat\u001B[38;5;241m.\u001B[39msize \u001B[38;5;28;01mfor\u001B[39;00m cat \u001B[38;5;129;01min\u001B[39;00m \u001B[38;5;28mself\u001B[39m\u001B[38;5;241m.\u001B[39mohe_\u001B[38;5;241m.\u001B[39mcategories_\n\u001B[0;32m    598\u001B[0m ]\n\u001B[0;32m    600\u001B[0m \u001B[38;5;28;01mfor\u001B[39;00m start_idx, end_idx \u001B[38;5;129;01min\u001B[39;00m \u001B[38;5;28mzip\u001B[39m(\n\u001B[0;32m    601\u001B[0m     np\u001B[38;5;241m.\u001B[39mcumsum(categories_size)[:\u001B[38;5;241m-\u001B[39m\u001B[38;5;241m1\u001B[39m], np\u001B[38;5;241m.\u001B[39mcumsum(categories_size)[\u001B[38;5;241m1\u001B[39m:]\n\u001B[0;32m    602\u001B[0m ):\n",
      "\u001B[1;31mMemoryError\u001B[0m: Unable to allocate 14.1 GiB for an array with shape (90902, 5, 4175) and data type float64"
     ]
    }
   ],
   "source": [
    "# Oversample with SMOTE and random undersample for imbalanced dataset\n",
    "from imblearn.over_sampling import SMOTENC\n",
    "\n",
    "smote_nc = SMOTENC(categorical_features=categorical_features, random_state=0)\n",
    "X_resampled, y_resampled = smote_nc.fit_resample(X, y)\n"
   ]
  },
  {
   "cell_type": "code",
   "execution_count": 13,
   "outputs": [],
   "source": [
    "string='(181862, 13)'"
   ],
   "metadata": {
    "collapsed": false,
    "pycharm": {
     "name": "#%%\n"
    }
   }
  },
  {
   "cell_type": "code",
   "execution_count": 15,
   "outputs": [
    {
     "name": "stdout",
     "output_type": "stream",
     "text": [
      "PRE-SMOTENC DATASET SIZE:  (90960, 12)\n",
      "POST-SMOTENC DATASET SIZE:  (181862, 13)\n"
     ]
    }
   ],
   "source": [
    "print('PRE-SMOTENC DATASET SIZE: ', X.shape)\n",
    "print('POST-SMOTENC DATASET SIZE: ', string)"
   ],
   "metadata": {
    "collapsed": false,
    "pycharm": {
     "name": "#%%\n"
    }
   }
  },
  {
   "cell_type": "code",
   "execution_count": 7,
   "outputs": [
    {
     "data": {
      "text/plain": "array([['Italy', 150.0, 1, ..., 492, 630, 'SAS'],\n       ['Greece', 3200.0, 1, ..., 492, 630, 'SAS'],\n       ['Italy', 8350.0, 1, ..., 492, 630, 'SAS'],\n       ...,\n       ['Italy', 22995.41733695098, 1, ..., 615, 11, 'SS'],\n       ['Italy', 275.02973081287155, 1, ..., 430, 314, 'SRL'],\n       ['Italy', 487.5100469176508, 0, ..., 614, 342, 'DI']], dtype=object)"
     },
     "execution_count": 7,
     "metadata": {},
     "output_type": "execute_result"
    }
   ],
   "source": [
    "X_resampled"
   ],
   "metadata": {
    "collapsed": false,
    "pycharm": {
     "name": "#%%\n"
    }
   }
  },
  {
   "cell_type": "code",
   "execution_count": 8,
   "outputs": [
    {
     "data": {
      "text/plain": "array([0, 0, 0, ..., 1, 1, 1], dtype=int64)"
     },
     "execution_count": 8,
     "metadata": {},
     "output_type": "execute_result"
    }
   ],
   "source": [
    "y_resampled"
   ],
   "metadata": {
    "collapsed": false,
    "pycharm": {
     "name": "#%%\n"
    }
   }
  },
  {
   "cell_type": "code",
   "execution_count": 9,
   "outputs": [
    {
     "data": {
      "text/plain": "        0        1  2        3        4   5     6      7      8    9   10  \\\n0   Italy    150.0  1  Firefox  Windows  IT  5856  CLFUY  33077  492  630   \n1  Greece   3200.0  1  Firefox  Windows  IT  5856  CLFUY  33077  492  630   \n2   Italy   8350.0  1  Firefox  Windows  IT  5856  CLFUY  33077  492  630   \n3   Italy    500.0  1   Chrome  Windows  IT  2008  CEFGV  31039  430  505   \n4   Italy  1895.68  1   Chrome  Windows  IT  3069  CEFGV  31039  430  505   \n\n    11  is_anomaly  \n0  SAS           0  \n1  SAS           0  \n2  SAS           0  \n3  SRL           0  \n4  SRL           0  ",
      "text/html": "<div>\n<style scoped>\n    .dataframe tbody tr th:only-of-type {\n        vertical-align: middle;\n    }\n\n    .dataframe tbody tr th {\n        vertical-align: top;\n    }\n\n    .dataframe thead th {\n        text-align: right;\n    }\n</style>\n<table border=\"1\" class=\"dataframe\">\n  <thead>\n    <tr style=\"text-align: right;\">\n      <th></th>\n      <th>0</th>\n      <th>1</th>\n      <th>2</th>\n      <th>3</th>\n      <th>4</th>\n      <th>5</th>\n      <th>6</th>\n      <th>7</th>\n      <th>8</th>\n      <th>9</th>\n      <th>10</th>\n      <th>11</th>\n      <th>is_anomaly</th>\n    </tr>\n  </thead>\n  <tbody>\n    <tr>\n      <th>0</th>\n      <td>Italy</td>\n      <td>150.0</td>\n      <td>1</td>\n      <td>Firefox</td>\n      <td>Windows</td>\n      <td>IT</td>\n      <td>5856</td>\n      <td>CLFUY</td>\n      <td>33077</td>\n      <td>492</td>\n      <td>630</td>\n      <td>SAS</td>\n      <td>0</td>\n    </tr>\n    <tr>\n      <th>1</th>\n      <td>Greece</td>\n      <td>3200.0</td>\n      <td>1</td>\n      <td>Firefox</td>\n      <td>Windows</td>\n      <td>IT</td>\n      <td>5856</td>\n      <td>CLFUY</td>\n      <td>33077</td>\n      <td>492</td>\n      <td>630</td>\n      <td>SAS</td>\n      <td>0</td>\n    </tr>\n    <tr>\n      <th>2</th>\n      <td>Italy</td>\n      <td>8350.0</td>\n      <td>1</td>\n      <td>Firefox</td>\n      <td>Windows</td>\n      <td>IT</td>\n      <td>5856</td>\n      <td>CLFUY</td>\n      <td>33077</td>\n      <td>492</td>\n      <td>630</td>\n      <td>SAS</td>\n      <td>0</td>\n    </tr>\n    <tr>\n      <th>3</th>\n      <td>Italy</td>\n      <td>500.0</td>\n      <td>1</td>\n      <td>Chrome</td>\n      <td>Windows</td>\n      <td>IT</td>\n      <td>2008</td>\n      <td>CEFGV</td>\n      <td>31039</td>\n      <td>430</td>\n      <td>505</td>\n      <td>SRL</td>\n      <td>0</td>\n    </tr>\n    <tr>\n      <th>4</th>\n      <td>Italy</td>\n      <td>1895.68</td>\n      <td>1</td>\n      <td>Chrome</td>\n      <td>Windows</td>\n      <td>IT</td>\n      <td>3069</td>\n      <td>CEFGV</td>\n      <td>31039</td>\n      <td>430</td>\n      <td>505</td>\n      <td>SRL</td>\n      <td>0</td>\n    </tr>\n  </tbody>\n</table>\n</div>"
     },
     "execution_count": 9,
     "metadata": {},
     "output_type": "execute_result"
    }
   ],
   "source": [
    "data = pd.DataFrame(X_resampled)\n",
    "data['is_anomaly']=y_resampled\n",
    "data.head()"
   ],
   "metadata": {
    "collapsed": false,
    "pycharm": {
     "name": "#%%\n"
    }
   }
  },
  {
   "cell_type": "code",
   "execution_count": 10,
   "outputs": [
    {
     "ename": "TypeError",
     "evalue": "'numpy.int32' object is not callable",
     "output_type": "error",
     "traceback": [
      "\u001B[1;31m---------------------------------------------------------------------------\u001B[0m",
      "\u001B[1;31mTypeError\u001B[0m                                 Traceback (most recent call last)",
      "Input \u001B[1;32mIn [10]\u001B[0m, in \u001B[0;36m<cell line: 1>\u001B[1;34m()\u001B[0m\n\u001B[1;32m----> 1\u001B[0m \u001B[43mdata\u001B[49m\u001B[38;5;241;43m.\u001B[39;49m\u001B[43msize\u001B[49m\u001B[43m(\u001B[49m\u001B[43m)\u001B[49m\n",
      "\u001B[1;31mTypeError\u001B[0m: 'numpy.int32' object is not callable"
     ]
    }
   ],
   "source": [
    "data.size()"
   ],
   "metadata": {
    "collapsed": false,
    "pycharm": {
     "name": "#%%\n"
    }
   }
  },
  {
   "cell_type": "code",
   "execution_count": 12,
   "outputs": [
    {
     "data": {
      "text/plain": "(181862, 13)"
     },
     "execution_count": 12,
     "metadata": {},
     "output_type": "execute_result"
    }
   ],
   "source": [
    "data.shape"
   ],
   "metadata": {
    "collapsed": false,
    "pycharm": {
     "name": "#%%\n"
    }
   }
  },
  {
   "cell_type": "code",
   "execution_count": 13,
   "outputs": [],
   "source": [
    "data.to_csv('smote.csv')"
   ],
   "metadata": {
    "collapsed": false,
    "pycharm": {
     "name": "#%%\n"
    }
   }
  },
  {
   "cell_type": "code",
   "execution_count": 1,
   "outputs": [
    {
     "data": {
      "text/plain": "   Unnamed: 0       0        1  2        3        4   5     6      7      8  \\\n0           0   Italy   150.00  1  Firefox  Windows  IT  5856  CLFUY  33077   \n1           1  Greece  3200.00  1  Firefox  Windows  IT  5856  CLFUY  33077   \n2           2   Italy  8350.00  1  Firefox  Windows  IT  5856  CLFUY  33077   \n3           3   Italy   500.00  1   Chrome  Windows  IT  2008  CEFGV  31039   \n4           4   Italy  1895.68  1   Chrome  Windows  IT  3069  CEFGV  31039   \n\n     9   10   11  is_anomaly  \n0  492  630  SAS           0  \n1  492  630  SAS           0  \n2  492  630  SAS           0  \n3  430  505  SRL           0  \n4  430  505  SRL           0  ",
      "text/html": "<div>\n<style scoped>\n    .dataframe tbody tr th:only-of-type {\n        vertical-align: middle;\n    }\n\n    .dataframe tbody tr th {\n        vertical-align: top;\n    }\n\n    .dataframe thead th {\n        text-align: right;\n    }\n</style>\n<table border=\"1\" class=\"dataframe\">\n  <thead>\n    <tr style=\"text-align: right;\">\n      <th></th>\n      <th>Unnamed: 0</th>\n      <th>0</th>\n      <th>1</th>\n      <th>2</th>\n      <th>3</th>\n      <th>4</th>\n      <th>5</th>\n      <th>6</th>\n      <th>7</th>\n      <th>8</th>\n      <th>9</th>\n      <th>10</th>\n      <th>11</th>\n      <th>is_anomaly</th>\n    </tr>\n  </thead>\n  <tbody>\n    <tr>\n      <th>0</th>\n      <td>0</td>\n      <td>Italy</td>\n      <td>150.00</td>\n      <td>1</td>\n      <td>Firefox</td>\n      <td>Windows</td>\n      <td>IT</td>\n      <td>5856</td>\n      <td>CLFUY</td>\n      <td>33077</td>\n      <td>492</td>\n      <td>630</td>\n      <td>SAS</td>\n      <td>0</td>\n    </tr>\n    <tr>\n      <th>1</th>\n      <td>1</td>\n      <td>Greece</td>\n      <td>3200.00</td>\n      <td>1</td>\n      <td>Firefox</td>\n      <td>Windows</td>\n      <td>IT</td>\n      <td>5856</td>\n      <td>CLFUY</td>\n      <td>33077</td>\n      <td>492</td>\n      <td>630</td>\n      <td>SAS</td>\n      <td>0</td>\n    </tr>\n    <tr>\n      <th>2</th>\n      <td>2</td>\n      <td>Italy</td>\n      <td>8350.00</td>\n      <td>1</td>\n      <td>Firefox</td>\n      <td>Windows</td>\n      <td>IT</td>\n      <td>5856</td>\n      <td>CLFUY</td>\n      <td>33077</td>\n      <td>492</td>\n      <td>630</td>\n      <td>SAS</td>\n      <td>0</td>\n    </tr>\n    <tr>\n      <th>3</th>\n      <td>3</td>\n      <td>Italy</td>\n      <td>500.00</td>\n      <td>1</td>\n      <td>Chrome</td>\n      <td>Windows</td>\n      <td>IT</td>\n      <td>2008</td>\n      <td>CEFGV</td>\n      <td>31039</td>\n      <td>430</td>\n      <td>505</td>\n      <td>SRL</td>\n      <td>0</td>\n    </tr>\n    <tr>\n      <th>4</th>\n      <td>4</td>\n      <td>Italy</td>\n      <td>1895.68</td>\n      <td>1</td>\n      <td>Chrome</td>\n      <td>Windows</td>\n      <td>IT</td>\n      <td>3069</td>\n      <td>CEFGV</td>\n      <td>31039</td>\n      <td>430</td>\n      <td>505</td>\n      <td>SRL</td>\n      <td>0</td>\n    </tr>\n  </tbody>\n</table>\n</div>"
     },
     "execution_count": 1,
     "metadata": {},
     "output_type": "execute_result"
    }
   ],
   "source": [
    "import pandas as pd\n",
    "smote_df=pd.read_csv('smote.csv')\n",
    "smote_df.head()"
   ],
   "metadata": {
    "collapsed": false,
    "pycharm": {
     "name": "#%%\n"
    }
   }
  },
  {
   "cell_type": "code",
   "execution_count": 2,
   "outputs": [
    {
     "data": {
      "text/plain": "        0        1  2        3        4   5     6      7      8    9   10  \\\n0   Italy   150.00  1  Firefox  Windows  IT  5856  CLFUY  33077  492  630   \n1  Greece  3200.00  1  Firefox  Windows  IT  5856  CLFUY  33077  492  630   \n2   Italy  8350.00  1  Firefox  Windows  IT  5856  CLFUY  33077  492  630   \n3   Italy   500.00  1   Chrome  Windows  IT  2008  CEFGV  31039  430  505   \n4   Italy  1895.68  1   Chrome  Windows  IT  3069  CEFGV  31039  430  505   \n\n    11  is_anomaly  \n0  SAS           0  \n1  SAS           0  \n2  SAS           0  \n3  SRL           0  \n4  SRL           0  ",
      "text/html": "<div>\n<style scoped>\n    .dataframe tbody tr th:only-of-type {\n        vertical-align: middle;\n    }\n\n    .dataframe tbody tr th {\n        vertical-align: top;\n    }\n\n    .dataframe thead th {\n        text-align: right;\n    }\n</style>\n<table border=\"1\" class=\"dataframe\">\n  <thead>\n    <tr style=\"text-align: right;\">\n      <th></th>\n      <th>0</th>\n      <th>1</th>\n      <th>2</th>\n      <th>3</th>\n      <th>4</th>\n      <th>5</th>\n      <th>6</th>\n      <th>7</th>\n      <th>8</th>\n      <th>9</th>\n      <th>10</th>\n      <th>11</th>\n      <th>is_anomaly</th>\n    </tr>\n  </thead>\n  <tbody>\n    <tr>\n      <th>0</th>\n      <td>Italy</td>\n      <td>150.00</td>\n      <td>1</td>\n      <td>Firefox</td>\n      <td>Windows</td>\n      <td>IT</td>\n      <td>5856</td>\n      <td>CLFUY</td>\n      <td>33077</td>\n      <td>492</td>\n      <td>630</td>\n      <td>SAS</td>\n      <td>0</td>\n    </tr>\n    <tr>\n      <th>1</th>\n      <td>Greece</td>\n      <td>3200.00</td>\n      <td>1</td>\n      <td>Firefox</td>\n      <td>Windows</td>\n      <td>IT</td>\n      <td>5856</td>\n      <td>CLFUY</td>\n      <td>33077</td>\n      <td>492</td>\n      <td>630</td>\n      <td>SAS</td>\n      <td>0</td>\n    </tr>\n    <tr>\n      <th>2</th>\n      <td>Italy</td>\n      <td>8350.00</td>\n      <td>1</td>\n      <td>Firefox</td>\n      <td>Windows</td>\n      <td>IT</td>\n      <td>5856</td>\n      <td>CLFUY</td>\n      <td>33077</td>\n      <td>492</td>\n      <td>630</td>\n      <td>SAS</td>\n      <td>0</td>\n    </tr>\n    <tr>\n      <th>3</th>\n      <td>Italy</td>\n      <td>500.00</td>\n      <td>1</td>\n      <td>Chrome</td>\n      <td>Windows</td>\n      <td>IT</td>\n      <td>2008</td>\n      <td>CEFGV</td>\n      <td>31039</td>\n      <td>430</td>\n      <td>505</td>\n      <td>SRL</td>\n      <td>0</td>\n    </tr>\n    <tr>\n      <th>4</th>\n      <td>Italy</td>\n      <td>1895.68</td>\n      <td>1</td>\n      <td>Chrome</td>\n      <td>Windows</td>\n      <td>IT</td>\n      <td>3069</td>\n      <td>CEFGV</td>\n      <td>31039</td>\n      <td>430</td>\n      <td>505</td>\n      <td>SRL</td>\n      <td>0</td>\n    </tr>\n  </tbody>\n</table>\n</div>"
     },
     "execution_count": 2,
     "metadata": {},
     "output_type": "execute_result"
    }
   ],
   "source": [
    "smote_df=smote_df.drop(columns='Unnamed: 0')\n",
    "smote_df.head()"
   ],
   "metadata": {
    "collapsed": false,
    "pycharm": {
     "name": "#%%\n"
    }
   }
  },
  {
   "cell_type": "code",
   "execution_count": 3,
   "outputs": [
    {
     "data": {
      "text/plain": "            0              1  2       3         4   5         6      7      8  \\\n761     Italy  500000.000000  1  Chrome   Windows  NL      DEUT  ASR05  39100   \n808     Italy  339093.180000  1  Chrome   Windows  NL      DEUT  ASR05  39100   \n1070    Italy  500000.000000  1  Chrome   Windows  NL      DEUT  ASR05  39100   \n3479    Italy     260.000000  1  Chrome   Windows  IT      8904  CLKXT  35010   \n10911   Italy     183.000000  1  Chrome   Windows  IT      8749  CKZYT  31038   \n...       ...            ... ..     ...       ...  ..       ...    ...    ...   \n181857  Italy  122660.711039  1  Chrome  Mac OS X  LV      UNLA  AMU3P  39100   \n181858  Italy  127651.117388  1  Chrome   Windows  IT  28050100  CLMWZ  31040   \n181859  Italy   22995.417337  1  Chrome  Mac OS X  LV      UNLA  AMU3P  39100   \n181860  Italy     275.029731  1  Chrome   Windows  IT      8399  CLMWZ  31040   \n181861  Italy     487.510047  0   Other     Linux  IT      8904  082X3  30024   \n\n          9   10   11  is_anomaly  \n761     491   11   SS           1  \n808     491   11   SS           1  \n1070    491   11   SS           1  \n3479    430  314  SRL           1  \n10911   430  314  SRL           1  \n...     ...  ...  ...         ...  \n181857  615   11   SS           1  \n181858  430  830  SRL           1  \n181859  615   11   SS           1  \n181860  430  314  SRL           1  \n181861  614  342   DI           1  \n\n[90931 rows x 13 columns]",
      "text/html": "<div>\n<style scoped>\n    .dataframe tbody tr th:only-of-type {\n        vertical-align: middle;\n    }\n\n    .dataframe tbody tr th {\n        vertical-align: top;\n    }\n\n    .dataframe thead th {\n        text-align: right;\n    }\n</style>\n<table border=\"1\" class=\"dataframe\">\n  <thead>\n    <tr style=\"text-align: right;\">\n      <th></th>\n      <th>0</th>\n      <th>1</th>\n      <th>2</th>\n      <th>3</th>\n      <th>4</th>\n      <th>5</th>\n      <th>6</th>\n      <th>7</th>\n      <th>8</th>\n      <th>9</th>\n      <th>10</th>\n      <th>11</th>\n      <th>is_anomaly</th>\n    </tr>\n  </thead>\n  <tbody>\n    <tr>\n      <th>761</th>\n      <td>Italy</td>\n      <td>500000.000000</td>\n      <td>1</td>\n      <td>Chrome</td>\n      <td>Windows</td>\n      <td>NL</td>\n      <td>DEUT</td>\n      <td>ASR05</td>\n      <td>39100</td>\n      <td>491</td>\n      <td>11</td>\n      <td>SS</td>\n      <td>1</td>\n    </tr>\n    <tr>\n      <th>808</th>\n      <td>Italy</td>\n      <td>339093.180000</td>\n      <td>1</td>\n      <td>Chrome</td>\n      <td>Windows</td>\n      <td>NL</td>\n      <td>DEUT</td>\n      <td>ASR05</td>\n      <td>39100</td>\n      <td>491</td>\n      <td>11</td>\n      <td>SS</td>\n      <td>1</td>\n    </tr>\n    <tr>\n      <th>1070</th>\n      <td>Italy</td>\n      <td>500000.000000</td>\n      <td>1</td>\n      <td>Chrome</td>\n      <td>Windows</td>\n      <td>NL</td>\n      <td>DEUT</td>\n      <td>ASR05</td>\n      <td>39100</td>\n      <td>491</td>\n      <td>11</td>\n      <td>SS</td>\n      <td>1</td>\n    </tr>\n    <tr>\n      <th>3479</th>\n      <td>Italy</td>\n      <td>260.000000</td>\n      <td>1</td>\n      <td>Chrome</td>\n      <td>Windows</td>\n      <td>IT</td>\n      <td>8904</td>\n      <td>CLKXT</td>\n      <td>35010</td>\n      <td>430</td>\n      <td>314</td>\n      <td>SRL</td>\n      <td>1</td>\n    </tr>\n    <tr>\n      <th>10911</th>\n      <td>Italy</td>\n      <td>183.000000</td>\n      <td>1</td>\n      <td>Chrome</td>\n      <td>Windows</td>\n      <td>IT</td>\n      <td>8749</td>\n      <td>CKZYT</td>\n      <td>31038</td>\n      <td>430</td>\n      <td>314</td>\n      <td>SRL</td>\n      <td>1</td>\n    </tr>\n    <tr>\n      <th>...</th>\n      <td>...</td>\n      <td>...</td>\n      <td>...</td>\n      <td>...</td>\n      <td>...</td>\n      <td>...</td>\n      <td>...</td>\n      <td>...</td>\n      <td>...</td>\n      <td>...</td>\n      <td>...</td>\n      <td>...</td>\n      <td>...</td>\n    </tr>\n    <tr>\n      <th>181857</th>\n      <td>Italy</td>\n      <td>122660.711039</td>\n      <td>1</td>\n      <td>Chrome</td>\n      <td>Mac OS X</td>\n      <td>LV</td>\n      <td>UNLA</td>\n      <td>AMU3P</td>\n      <td>39100</td>\n      <td>615</td>\n      <td>11</td>\n      <td>SS</td>\n      <td>1</td>\n    </tr>\n    <tr>\n      <th>181858</th>\n      <td>Italy</td>\n      <td>127651.117388</td>\n      <td>1</td>\n      <td>Chrome</td>\n      <td>Windows</td>\n      <td>IT</td>\n      <td>28050100</td>\n      <td>CLMWZ</td>\n      <td>31040</td>\n      <td>430</td>\n      <td>830</td>\n      <td>SRL</td>\n      <td>1</td>\n    </tr>\n    <tr>\n      <th>181859</th>\n      <td>Italy</td>\n      <td>22995.417337</td>\n      <td>1</td>\n      <td>Chrome</td>\n      <td>Mac OS X</td>\n      <td>LV</td>\n      <td>UNLA</td>\n      <td>AMU3P</td>\n      <td>39100</td>\n      <td>615</td>\n      <td>11</td>\n      <td>SS</td>\n      <td>1</td>\n    </tr>\n    <tr>\n      <th>181860</th>\n      <td>Italy</td>\n      <td>275.029731</td>\n      <td>1</td>\n      <td>Chrome</td>\n      <td>Windows</td>\n      <td>IT</td>\n      <td>8399</td>\n      <td>CLMWZ</td>\n      <td>31040</td>\n      <td>430</td>\n      <td>314</td>\n      <td>SRL</td>\n      <td>1</td>\n    </tr>\n    <tr>\n      <th>181861</th>\n      <td>Italy</td>\n      <td>487.510047</td>\n      <td>0</td>\n      <td>Other</td>\n      <td>Linux</td>\n      <td>IT</td>\n      <td>8904</td>\n      <td>082X3</td>\n      <td>30024</td>\n      <td>614</td>\n      <td>342</td>\n      <td>DI</td>\n      <td>1</td>\n    </tr>\n  </tbody>\n</table>\n<p>90931 rows × 13 columns</p>\n</div>"
     },
     "execution_count": 3,
     "metadata": {},
     "output_type": "execute_result"
    }
   ],
   "source": [
    "smote_df[smote_df['is_anomaly']==1]"
   ],
   "metadata": {
    "collapsed": false,
    "pycharm": {
     "name": "#%%\n"
    }
   }
  },
  {
   "cell_type": "code",
   "execution_count": 7,
   "outputs": [
    {
     "data": {
      "text/plain": "            0              1  2       3         4   5         6      7      8  \\\n761     Italy  500000.000000  1  Chrome   Windows  NL      DEUT  ASR05  39100   \n808     Italy  339093.180000  1  Chrome   Windows  NL      DEUT  ASR05  39100   \n3479    Italy     260.000000  1  Chrome   Windows  IT      8904  CLKXT  35010   \n10911   Italy     183.000000  1  Chrome   Windows  IT      8749  CKZYT  31038   \n18741   Italy   49778.960000  1  Chrome  Mac OS X  LV      UNLA  AMU3P  39100   \n...       ...            ... ..     ...       ...  ..       ...    ...    ...   \n181857  Italy  122660.711039  1  Chrome  Mac OS X  LV      UNLA  AMU3P  39100   \n181858  Italy  127651.117388  1  Chrome   Windows  IT  28050100  CLMWZ  31040   \n181859  Italy   22995.417337  1  Chrome  Mac OS X  LV      UNLA  AMU3P  39100   \n181860  Italy     275.029731  1  Chrome   Windows  IT      8399  CLMWZ  31040   \n181861  Italy     487.510047  0   Other     Linux  IT      8904  082X3  30024   \n\n          9   10   11  is_anomaly  \n761     491   11   SS           1  \n808     491   11   SS           1  \n3479    430  314  SRL           1  \n10911   430  314  SRL           1  \n18741   615   11   SS           1  \n...     ...  ...  ...         ...  \n181857  615   11   SS           1  \n181858  430  830  SRL           1  \n181859  615   11   SS           1  \n181860  430  314  SRL           1  \n181861  614  342   DI           1  \n\n[84653 rows x 13 columns]",
      "text/html": "<div>\n<style scoped>\n    .dataframe tbody tr th:only-of-type {\n        vertical-align: middle;\n    }\n\n    .dataframe tbody tr th {\n        vertical-align: top;\n    }\n\n    .dataframe thead th {\n        text-align: right;\n    }\n</style>\n<table border=\"1\" class=\"dataframe\">\n  <thead>\n    <tr style=\"text-align: right;\">\n      <th></th>\n      <th>0</th>\n      <th>1</th>\n      <th>2</th>\n      <th>3</th>\n      <th>4</th>\n      <th>5</th>\n      <th>6</th>\n      <th>7</th>\n      <th>8</th>\n      <th>9</th>\n      <th>10</th>\n      <th>11</th>\n      <th>is_anomaly</th>\n    </tr>\n  </thead>\n  <tbody>\n    <tr>\n      <th>761</th>\n      <td>Italy</td>\n      <td>500000.000000</td>\n      <td>1</td>\n      <td>Chrome</td>\n      <td>Windows</td>\n      <td>NL</td>\n      <td>DEUT</td>\n      <td>ASR05</td>\n      <td>39100</td>\n      <td>491</td>\n      <td>11</td>\n      <td>SS</td>\n      <td>1</td>\n    </tr>\n    <tr>\n      <th>808</th>\n      <td>Italy</td>\n      <td>339093.180000</td>\n      <td>1</td>\n      <td>Chrome</td>\n      <td>Windows</td>\n      <td>NL</td>\n      <td>DEUT</td>\n      <td>ASR05</td>\n      <td>39100</td>\n      <td>491</td>\n      <td>11</td>\n      <td>SS</td>\n      <td>1</td>\n    </tr>\n    <tr>\n      <th>3479</th>\n      <td>Italy</td>\n      <td>260.000000</td>\n      <td>1</td>\n      <td>Chrome</td>\n      <td>Windows</td>\n      <td>IT</td>\n      <td>8904</td>\n      <td>CLKXT</td>\n      <td>35010</td>\n      <td>430</td>\n      <td>314</td>\n      <td>SRL</td>\n      <td>1</td>\n    </tr>\n    <tr>\n      <th>10911</th>\n      <td>Italy</td>\n      <td>183.000000</td>\n      <td>1</td>\n      <td>Chrome</td>\n      <td>Windows</td>\n      <td>IT</td>\n      <td>8749</td>\n      <td>CKZYT</td>\n      <td>31038</td>\n      <td>430</td>\n      <td>314</td>\n      <td>SRL</td>\n      <td>1</td>\n    </tr>\n    <tr>\n      <th>18741</th>\n      <td>Italy</td>\n      <td>49778.960000</td>\n      <td>1</td>\n      <td>Chrome</td>\n      <td>Mac OS X</td>\n      <td>LV</td>\n      <td>UNLA</td>\n      <td>AMU3P</td>\n      <td>39100</td>\n      <td>615</td>\n      <td>11</td>\n      <td>SS</td>\n      <td>1</td>\n    </tr>\n    <tr>\n      <th>...</th>\n      <td>...</td>\n      <td>...</td>\n      <td>...</td>\n      <td>...</td>\n      <td>...</td>\n      <td>...</td>\n      <td>...</td>\n      <td>...</td>\n      <td>...</td>\n      <td>...</td>\n      <td>...</td>\n      <td>...</td>\n      <td>...</td>\n    </tr>\n    <tr>\n      <th>181857</th>\n      <td>Italy</td>\n      <td>122660.711039</td>\n      <td>1</td>\n      <td>Chrome</td>\n      <td>Mac OS X</td>\n      <td>LV</td>\n      <td>UNLA</td>\n      <td>AMU3P</td>\n      <td>39100</td>\n      <td>615</td>\n      <td>11</td>\n      <td>SS</td>\n      <td>1</td>\n    </tr>\n    <tr>\n      <th>181858</th>\n      <td>Italy</td>\n      <td>127651.117388</td>\n      <td>1</td>\n      <td>Chrome</td>\n      <td>Windows</td>\n      <td>IT</td>\n      <td>28050100</td>\n      <td>CLMWZ</td>\n      <td>31040</td>\n      <td>430</td>\n      <td>830</td>\n      <td>SRL</td>\n      <td>1</td>\n    </tr>\n    <tr>\n      <th>181859</th>\n      <td>Italy</td>\n      <td>22995.417337</td>\n      <td>1</td>\n      <td>Chrome</td>\n      <td>Mac OS X</td>\n      <td>LV</td>\n      <td>UNLA</td>\n      <td>AMU3P</td>\n      <td>39100</td>\n      <td>615</td>\n      <td>11</td>\n      <td>SS</td>\n      <td>1</td>\n    </tr>\n    <tr>\n      <th>181860</th>\n      <td>Italy</td>\n      <td>275.029731</td>\n      <td>1</td>\n      <td>Chrome</td>\n      <td>Windows</td>\n      <td>IT</td>\n      <td>8399</td>\n      <td>CLMWZ</td>\n      <td>31040</td>\n      <td>430</td>\n      <td>314</td>\n      <td>SRL</td>\n      <td>1</td>\n    </tr>\n    <tr>\n      <th>181861</th>\n      <td>Italy</td>\n      <td>487.510047</td>\n      <td>0</td>\n      <td>Other</td>\n      <td>Linux</td>\n      <td>IT</td>\n      <td>8904</td>\n      <td>082X3</td>\n      <td>30024</td>\n      <td>614</td>\n      <td>342</td>\n      <td>DI</td>\n      <td>1</td>\n    </tr>\n  </tbody>\n</table>\n<p>84653 rows × 13 columns</p>\n</div>"
     },
     "execution_count": 7,
     "metadata": {},
     "output_type": "execute_result"
    }
   ],
   "source": [
    "smote_df[smote_df['is_anomaly']==1].drop_duplicates()"
   ],
   "metadata": {
    "collapsed": false,
    "pycharm": {
     "name": "#%%\n"
    }
   }
  },
  {
   "cell_type": "code",
   "execution_count": null,
   "outputs": [],
   "source": [],
   "metadata": {
    "collapsed": false,
    "pycharm": {
     "name": "#%%\n"
    }
   }
  }
 ],
 "metadata": {
  "kernelspec": {
   "display_name": "Python 3",
   "language": "python",
   "name": "python3"
  },
  "language_info": {
   "codemirror_mode": {
    "name": "ipython",
    "version": 2
   },
   "file_extension": ".py",
   "mimetype": "text/x-python",
   "name": "python",
   "nbconvert_exporter": "python",
   "pygments_lexer": "ipython2",
   "version": "2.7.6"
  }
 },
 "nbformat": 4,
 "nbformat_minor": 0
}