{
 "cells": [
  {
   "cell_type": "code",
   "execution_count": 1,
   "metadata": {
    "collapsed": true,
    "pycharm": {
     "name": "#%%\n"
    }
   },
   "outputs": [],
   "source": [
    "import pandas as pd"
   ]
  },
  {
   "cell_type": "code",
   "execution_count": 16,
   "outputs": [],
   "source": [
    "EIF = pd.read_csv('EIF_scores.csv')\n",
    "EIF=EIF.drop(columns='Unnamed: 0')\n",
    "\n",
    "ECOD = pd.read_csv('ECOD_scores.csv')\n",
    "ECOD=ECOD.drop(columns='Unnamed: 0')\n",
    "\n",
    "LOF = pd.read_csv('LOF_scores.csv')\n",
    "LOF=LOF.drop(columns='Unnamed: 0')"
   ],
   "metadata": {
    "collapsed": false,
    "pycharm": {
     "name": "#%%\n"
    }
   }
  },
  {
   "cell_type": "code",
   "execution_count": 17,
   "outputs": [
    {
     "data": {
      "text/plain": "   customerId                timestamp country   amount  \\\n0    93000801  2021-09-15 16:13:35.147   Italy   150.00   \n1    93000801  2021-08-24 10:34:24.487  Greece  3200.00   \n2    93000801   2021-09-14 16:21:43.33   Italy  8350.00   \n3    93001001  2021-06-30 09:07:16.733   Italy   500.00   \n4    93001001  2021-07-12 16:36:02.857   Italy  1895.68   \n\n                       businessName  userAgent_isPc userAgent_browserFamily  \\\n0  c7543b6f04850eae288aa52783b33363               1                 Firefox   \n1  c7543b6f04850eae288aa52783b33363               1                 Firefox   \n2  c7543b6f04850eae288aa52783b33363               1                 Firefox   \n3  3f241dfcc38064261fec0f303c2784e5               1                  Chrome   \n4  a5d1eaffa8e325d370665f43624339a1               1                  Chrome   \n\n  userAgent_osFamily IBAN_countryCode IBAN_bankCode    SIA    CAP  SAE  RAE  \\\n0            Windows               IT          5856  CLFUY  33077  492  630   \n1            Windows               IT          5856  CLFUY  33077  492  630   \n2            Windows               IT          5856  CLFUY  33077  492  630   \n3            Windows               IT          2008  CEFGV  31039  430  505   \n4            Windows               IT          3069  CEFGV  31039  430  505   \n\n  companyType    scores  \n0         SAS  0.474470  \n1         SAS  0.501990  \n2         SAS  0.506048  \n3         SRL  0.396751  \n4         SRL  0.389160  ",
      "text/html": "<div>\n<style scoped>\n    .dataframe tbody tr th:only-of-type {\n        vertical-align: middle;\n    }\n\n    .dataframe tbody tr th {\n        vertical-align: top;\n    }\n\n    .dataframe thead th {\n        text-align: right;\n    }\n</style>\n<table border=\"1\" class=\"dataframe\">\n  <thead>\n    <tr style=\"text-align: right;\">\n      <th></th>\n      <th>customerId</th>\n      <th>timestamp</th>\n      <th>country</th>\n      <th>amount</th>\n      <th>businessName</th>\n      <th>userAgent_isPc</th>\n      <th>userAgent_browserFamily</th>\n      <th>userAgent_osFamily</th>\n      <th>IBAN_countryCode</th>\n      <th>IBAN_bankCode</th>\n      <th>SIA</th>\n      <th>CAP</th>\n      <th>SAE</th>\n      <th>RAE</th>\n      <th>companyType</th>\n      <th>scores</th>\n    </tr>\n  </thead>\n  <tbody>\n    <tr>\n      <th>0</th>\n      <td>93000801</td>\n      <td>2021-09-15 16:13:35.147</td>\n      <td>Italy</td>\n      <td>150.00</td>\n      <td>c7543b6f04850eae288aa52783b33363</td>\n      <td>1</td>\n      <td>Firefox</td>\n      <td>Windows</td>\n      <td>IT</td>\n      <td>5856</td>\n      <td>CLFUY</td>\n      <td>33077</td>\n      <td>492</td>\n      <td>630</td>\n      <td>SAS</td>\n      <td>0.474470</td>\n    </tr>\n    <tr>\n      <th>1</th>\n      <td>93000801</td>\n      <td>2021-08-24 10:34:24.487</td>\n      <td>Greece</td>\n      <td>3200.00</td>\n      <td>c7543b6f04850eae288aa52783b33363</td>\n      <td>1</td>\n      <td>Firefox</td>\n      <td>Windows</td>\n      <td>IT</td>\n      <td>5856</td>\n      <td>CLFUY</td>\n      <td>33077</td>\n      <td>492</td>\n      <td>630</td>\n      <td>SAS</td>\n      <td>0.501990</td>\n    </tr>\n    <tr>\n      <th>2</th>\n      <td>93000801</td>\n      <td>2021-09-14 16:21:43.33</td>\n      <td>Italy</td>\n      <td>8350.00</td>\n      <td>c7543b6f04850eae288aa52783b33363</td>\n      <td>1</td>\n      <td>Firefox</td>\n      <td>Windows</td>\n      <td>IT</td>\n      <td>5856</td>\n      <td>CLFUY</td>\n      <td>33077</td>\n      <td>492</td>\n      <td>630</td>\n      <td>SAS</td>\n      <td>0.506048</td>\n    </tr>\n    <tr>\n      <th>3</th>\n      <td>93001001</td>\n      <td>2021-06-30 09:07:16.733</td>\n      <td>Italy</td>\n      <td>500.00</td>\n      <td>3f241dfcc38064261fec0f303c2784e5</td>\n      <td>1</td>\n      <td>Chrome</td>\n      <td>Windows</td>\n      <td>IT</td>\n      <td>2008</td>\n      <td>CEFGV</td>\n      <td>31039</td>\n      <td>430</td>\n      <td>505</td>\n      <td>SRL</td>\n      <td>0.396751</td>\n    </tr>\n    <tr>\n      <th>4</th>\n      <td>93001001</td>\n      <td>2021-07-12 16:36:02.857</td>\n      <td>Italy</td>\n      <td>1895.68</td>\n      <td>a5d1eaffa8e325d370665f43624339a1</td>\n      <td>1</td>\n      <td>Chrome</td>\n      <td>Windows</td>\n      <td>IT</td>\n      <td>3069</td>\n      <td>CEFGV</td>\n      <td>31039</td>\n      <td>430</td>\n      <td>505</td>\n      <td>SRL</td>\n      <td>0.389160</td>\n    </tr>\n  </tbody>\n</table>\n</div>"
     },
     "execution_count": 17,
     "metadata": {},
     "output_type": "execute_result"
    }
   ],
   "source": [
    "EIF.head()"
   ],
   "metadata": {
    "collapsed": false,
    "pycharm": {
     "name": "#%%\n"
    }
   }
  },
  {
   "cell_type": "code",
   "execution_count": 18,
   "outputs": [
    {
     "data": {
      "text/plain": "   customerId                timestamp country   amount  \\\n0    93000801  2021-09-15 16:13:35.147   Italy   150.00   \n1    93000801  2021-08-24 10:34:24.487  Greece  3200.00   \n2    93000801   2021-09-14 16:21:43.33   Italy  8350.00   \n3    93001001  2021-06-30 09:07:16.733   Italy   500.00   \n4    93001001  2021-07-12 16:36:02.857   Italy  1895.68   \n\n                       businessName  userAgent_isPc userAgent_browserFamily  \\\n0  c7543b6f04850eae288aa52783b33363               1                 Firefox   \n1  c7543b6f04850eae288aa52783b33363               1                 Firefox   \n2  c7543b6f04850eae288aa52783b33363               1                 Firefox   \n3  3f241dfcc38064261fec0f303c2784e5               1                  Chrome   \n4  a5d1eaffa8e325d370665f43624339a1               1                  Chrome   \n\n  userAgent_osFamily IBAN_countryCode IBAN_bankCode    SIA    CAP  SAE  RAE  \\\n0            Windows               IT          5856  CLFUY  33077  492  630   \n1            Windows               IT          5856  CLFUY  33077  492  630   \n2            Windows               IT          5856  CLFUY  33077  492  630   \n3            Windows               IT          2008  CEFGV  31039  430  505   \n4            Windows               IT          3069  CEFGV  31039  430  505   \n\n  companyType    scores  label  \n0         SAS -1.008318      1  \n1         SAS -1.047175      1  \n2         SAS -1.019783      1  \n3         SRL -1.090301      1  \n4         SRL -1.006947      1  ",
      "text/html": "<div>\n<style scoped>\n    .dataframe tbody tr th:only-of-type {\n        vertical-align: middle;\n    }\n\n    .dataframe tbody tr th {\n        vertical-align: top;\n    }\n\n    .dataframe thead th {\n        text-align: right;\n    }\n</style>\n<table border=\"1\" class=\"dataframe\">\n  <thead>\n    <tr style=\"text-align: right;\">\n      <th></th>\n      <th>customerId</th>\n      <th>timestamp</th>\n      <th>country</th>\n      <th>amount</th>\n      <th>businessName</th>\n      <th>userAgent_isPc</th>\n      <th>userAgent_browserFamily</th>\n      <th>userAgent_osFamily</th>\n      <th>IBAN_countryCode</th>\n      <th>IBAN_bankCode</th>\n      <th>SIA</th>\n      <th>CAP</th>\n      <th>SAE</th>\n      <th>RAE</th>\n      <th>companyType</th>\n      <th>scores</th>\n      <th>label</th>\n    </tr>\n  </thead>\n  <tbody>\n    <tr>\n      <th>0</th>\n      <td>93000801</td>\n      <td>2021-09-15 16:13:35.147</td>\n      <td>Italy</td>\n      <td>150.00</td>\n      <td>c7543b6f04850eae288aa52783b33363</td>\n      <td>1</td>\n      <td>Firefox</td>\n      <td>Windows</td>\n      <td>IT</td>\n      <td>5856</td>\n      <td>CLFUY</td>\n      <td>33077</td>\n      <td>492</td>\n      <td>630</td>\n      <td>SAS</td>\n      <td>-1.008318</td>\n      <td>1</td>\n    </tr>\n    <tr>\n      <th>1</th>\n      <td>93000801</td>\n      <td>2021-08-24 10:34:24.487</td>\n      <td>Greece</td>\n      <td>3200.00</td>\n      <td>c7543b6f04850eae288aa52783b33363</td>\n      <td>1</td>\n      <td>Firefox</td>\n      <td>Windows</td>\n      <td>IT</td>\n      <td>5856</td>\n      <td>CLFUY</td>\n      <td>33077</td>\n      <td>492</td>\n      <td>630</td>\n      <td>SAS</td>\n      <td>-1.047175</td>\n      <td>1</td>\n    </tr>\n    <tr>\n      <th>2</th>\n      <td>93000801</td>\n      <td>2021-09-14 16:21:43.33</td>\n      <td>Italy</td>\n      <td>8350.00</td>\n      <td>c7543b6f04850eae288aa52783b33363</td>\n      <td>1</td>\n      <td>Firefox</td>\n      <td>Windows</td>\n      <td>IT</td>\n      <td>5856</td>\n      <td>CLFUY</td>\n      <td>33077</td>\n      <td>492</td>\n      <td>630</td>\n      <td>SAS</td>\n      <td>-1.019783</td>\n      <td>1</td>\n    </tr>\n    <tr>\n      <th>3</th>\n      <td>93001001</td>\n      <td>2021-06-30 09:07:16.733</td>\n      <td>Italy</td>\n      <td>500.00</td>\n      <td>3f241dfcc38064261fec0f303c2784e5</td>\n      <td>1</td>\n      <td>Chrome</td>\n      <td>Windows</td>\n      <td>IT</td>\n      <td>2008</td>\n      <td>CEFGV</td>\n      <td>31039</td>\n      <td>430</td>\n      <td>505</td>\n      <td>SRL</td>\n      <td>-1.090301</td>\n      <td>1</td>\n    </tr>\n    <tr>\n      <th>4</th>\n      <td>93001001</td>\n      <td>2021-07-12 16:36:02.857</td>\n      <td>Italy</td>\n      <td>1895.68</td>\n      <td>a5d1eaffa8e325d370665f43624339a1</td>\n      <td>1</td>\n      <td>Chrome</td>\n      <td>Windows</td>\n      <td>IT</td>\n      <td>3069</td>\n      <td>CEFGV</td>\n      <td>31039</td>\n      <td>430</td>\n      <td>505</td>\n      <td>SRL</td>\n      <td>-1.006947</td>\n      <td>1</td>\n    </tr>\n  </tbody>\n</table>\n</div>"
     },
     "execution_count": 18,
     "metadata": {},
     "output_type": "execute_result"
    }
   ],
   "source": [
    "LOF.head()"
   ],
   "metadata": {
    "collapsed": false,
    "pycharm": {
     "name": "#%%\n"
    }
   }
  },
  {
   "cell_type": "code",
   "execution_count": 19,
   "outputs": [
    {
     "data": {
      "text/plain": "   customerId                timestamp country   amount  \\\n0    93000801  2021-09-15 16:13:35.147   Italy   150.00   \n1    93000801  2021-08-24 10:34:24.487  Greece  3200.00   \n2    93000801   2021-09-14 16:21:43.33   Italy  8350.00   \n3    93001001  2021-06-30 09:07:16.733   Italy   500.00   \n4    93001001  2021-07-12 16:36:02.857   Italy  1895.68   \n\n                       businessName  userAgent_isPc userAgent_browserFamily  \\\n0  c7543b6f04850eae288aa52783b33363               1                 Firefox   \n1  c7543b6f04850eae288aa52783b33363               1                 Firefox   \n2  c7543b6f04850eae288aa52783b33363               1                 Firefox   \n3  3f241dfcc38064261fec0f303c2784e5               1                  Chrome   \n4  a5d1eaffa8e325d370665f43624339a1               1                  Chrome   \n\n  userAgent_osFamily IBAN_countryCode IBAN_bankCode    SIA    CAP  SAE  RAE  \\\n0            Windows               IT          5856  CLFUY  33077  492  630   \n1            Windows               IT          5856  CLFUY  33077  492  630   \n2            Windows               IT          5856  CLFUY  33077  492  630   \n3            Windows               IT          2008  CEFGV  31039  430  505   \n4            Windows               IT          3069  CEFGV  31039  430  505   \n\n  companyType     scores  is_anomaly  \n0         SAS  13.619869           0  \n1         SAS  17.579564           0  \n2         SAS  14.067937           0  \n3         SRL   8.099064           0  \n4         SRL   7.269080           0  ",
      "text/html": "<div>\n<style scoped>\n    .dataframe tbody tr th:only-of-type {\n        vertical-align: middle;\n    }\n\n    .dataframe tbody tr th {\n        vertical-align: top;\n    }\n\n    .dataframe thead th {\n        text-align: right;\n    }\n</style>\n<table border=\"1\" class=\"dataframe\">\n  <thead>\n    <tr style=\"text-align: right;\">\n      <th></th>\n      <th>customerId</th>\n      <th>timestamp</th>\n      <th>country</th>\n      <th>amount</th>\n      <th>businessName</th>\n      <th>userAgent_isPc</th>\n      <th>userAgent_browserFamily</th>\n      <th>userAgent_osFamily</th>\n      <th>IBAN_countryCode</th>\n      <th>IBAN_bankCode</th>\n      <th>SIA</th>\n      <th>CAP</th>\n      <th>SAE</th>\n      <th>RAE</th>\n      <th>companyType</th>\n      <th>scores</th>\n      <th>is_anomaly</th>\n    </tr>\n  </thead>\n  <tbody>\n    <tr>\n      <th>0</th>\n      <td>93000801</td>\n      <td>2021-09-15 16:13:35.147</td>\n      <td>Italy</td>\n      <td>150.00</td>\n      <td>c7543b6f04850eae288aa52783b33363</td>\n      <td>1</td>\n      <td>Firefox</td>\n      <td>Windows</td>\n      <td>IT</td>\n      <td>5856</td>\n      <td>CLFUY</td>\n      <td>33077</td>\n      <td>492</td>\n      <td>630</td>\n      <td>SAS</td>\n      <td>13.619869</td>\n      <td>0</td>\n    </tr>\n    <tr>\n      <th>1</th>\n      <td>93000801</td>\n      <td>2021-08-24 10:34:24.487</td>\n      <td>Greece</td>\n      <td>3200.00</td>\n      <td>c7543b6f04850eae288aa52783b33363</td>\n      <td>1</td>\n      <td>Firefox</td>\n      <td>Windows</td>\n      <td>IT</td>\n      <td>5856</td>\n      <td>CLFUY</td>\n      <td>33077</td>\n      <td>492</td>\n      <td>630</td>\n      <td>SAS</td>\n      <td>17.579564</td>\n      <td>0</td>\n    </tr>\n    <tr>\n      <th>2</th>\n      <td>93000801</td>\n      <td>2021-09-14 16:21:43.33</td>\n      <td>Italy</td>\n      <td>8350.00</td>\n      <td>c7543b6f04850eae288aa52783b33363</td>\n      <td>1</td>\n      <td>Firefox</td>\n      <td>Windows</td>\n      <td>IT</td>\n      <td>5856</td>\n      <td>CLFUY</td>\n      <td>33077</td>\n      <td>492</td>\n      <td>630</td>\n      <td>SAS</td>\n      <td>14.067937</td>\n      <td>0</td>\n    </tr>\n    <tr>\n      <th>3</th>\n      <td>93001001</td>\n      <td>2021-06-30 09:07:16.733</td>\n      <td>Italy</td>\n      <td>500.00</td>\n      <td>3f241dfcc38064261fec0f303c2784e5</td>\n      <td>1</td>\n      <td>Chrome</td>\n      <td>Windows</td>\n      <td>IT</td>\n      <td>2008</td>\n      <td>CEFGV</td>\n      <td>31039</td>\n      <td>430</td>\n      <td>505</td>\n      <td>SRL</td>\n      <td>8.099064</td>\n      <td>0</td>\n    </tr>\n    <tr>\n      <th>4</th>\n      <td>93001001</td>\n      <td>2021-07-12 16:36:02.857</td>\n      <td>Italy</td>\n      <td>1895.68</td>\n      <td>a5d1eaffa8e325d370665f43624339a1</td>\n      <td>1</td>\n      <td>Chrome</td>\n      <td>Windows</td>\n      <td>IT</td>\n      <td>3069</td>\n      <td>CEFGV</td>\n      <td>31039</td>\n      <td>430</td>\n      <td>505</td>\n      <td>SRL</td>\n      <td>7.269080</td>\n      <td>0</td>\n    </tr>\n  </tbody>\n</table>\n</div>"
     },
     "execution_count": 19,
     "metadata": {},
     "output_type": "execute_result"
    }
   ],
   "source": [
    "ECOD.head()"
   ],
   "metadata": {
    "collapsed": false,
    "pycharm": {
     "name": "#%%\n"
    }
   }
  },
  {
   "cell_type": "code",
   "execution_count": null,
   "outputs": [],
   "source": [
    "EIF."
   ],
   "metadata": {
    "collapsed": false,
    "pycharm": {
     "name": "#%%\n"
    }
   }
  },
  {
   "cell_type": "code",
   "execution_count": 9,
   "outputs": [
    {
     "data": {
      "text/plain": "       customerId                timestamp  country     amount  \\\n68297  7617525401   2021-09-02 13:41:16.04  Austria  264986.74   \n19156  1886395602   2021-07-22 09:37:46.25    Italy  182955.25   \n44950    49733508  2021-06-15 08:23:11.847  Austria  200000.00   \n68525  7098914101   2021-09-15 10:56:42.87  Austria  190000.00   \n43968    41999520  2021-09-16 11:41:45.407    Italy  270000.00   \n...           ...                      ...      ...        ...   \n4505      5915175  2021-05-07 07:29:58.453    Italy  154000.00   \n64676  7227290201  2021-08-25 10:29:06.587    Italy   19375.67   \n57569    37138397    2021-04-13 15:37:18.7    Italy   29187.96   \n64332  7208713201  2021-08-23 14:33:31.423    Italy   62502.91   \n84718  9393584501  2021-08-05 09:40:14.003    Italy   67700.00   \n\n                           businessName  userAgent_isPc  \\\n68297  1b4f5e4400efdbecde02456f48fc927b               1   \n19156  c0d1dad6d565af70674631ff4e055694               1   \n44950  4eb8c873cf171a98d947b70a6e9cc98f               1   \n68525  a40003308db47ae0d4fc067008c6de11               1   \n43968  d1126a5e3988d76235cde4c7eed8ebbd               0   \n...                                 ...             ...   \n4505   1b70909d0fc5e99cbea4bab4075fd9fd               1   \n64676  31cd59d50c75d330d568f4392bcd3cc9               0   \n57569  8d8800f2b05c45a4ee976e07b5a17f52               1   \n64332  922a6b4795cd70ae1591610e8d95d10b               1   \n84718  8bc892912a7509f1018e013d65ca588b               1   \n\n      userAgent_browserFamily userAgent_osFamily IBAN_countryCode  \\\n68297                  Chrome            Windows               AT   \n19156                  Safari           Mac OS X               DE   \n44950                    Edge            Windows               AT   \n68525                  Chrome            Windows               AT   \n43968                   Other              Linux               IT   \n...                       ...                ...              ...   \n4505                   Chrome           Mac OS X               IT   \n64676                   Other              Linux               IT   \n57569                  Chrome            Windows               IT   \n64332                    Edge            Windows               IT   \n84718                      IE            Windows               IT   \n\n      IBAN_bankCode    SIA    CAP  SAE  RAE companyType    scores  label  \n68297         34000  BUV4U  39031  430  161         SRL  0.714131      0  \n19156      28050100  AMU3P  39100  615   11          SS  0.703772      0  \n44950         37431  BZHIN  39036  430  660         SRL  0.696896      0  \n68525         15000  A56UA  39049  430  830         SRL  0.696809      0  \n43968          3493  347D3  39038  430  830        GMBH  0.696690      0  \n...             ...    ...    ...  ...  ...         ...       ...    ...  \n4505           5856  B1Y9I  32040  430  461         SRL  0.600346      0  \n64676          1005  CK6GZ  31100  430  773         SRL  0.600344      0  \n57569          1030  CJKAL  30027  615   11          SS  0.600326      0  \n64332          8175  A13B0  39013  482  412         SNC  0.600181      0  \n84718          6045  A3C55  38057  615  830         STU  0.600124      0  \n\n[469 rows x 17 columns]",
      "text/html": "<div>\n<style scoped>\n    .dataframe tbody tr th:only-of-type {\n        vertical-align: middle;\n    }\n\n    .dataframe tbody tr th {\n        vertical-align: top;\n    }\n\n    .dataframe thead th {\n        text-align: right;\n    }\n</style>\n<table border=\"1\" class=\"dataframe\">\n  <thead>\n    <tr style=\"text-align: right;\">\n      <th></th>\n      <th>customerId</th>\n      <th>timestamp</th>\n      <th>country</th>\n      <th>amount</th>\n      <th>businessName</th>\n      <th>userAgent_isPc</th>\n      <th>userAgent_browserFamily</th>\n      <th>userAgent_osFamily</th>\n      <th>IBAN_countryCode</th>\n      <th>IBAN_bankCode</th>\n      <th>SIA</th>\n      <th>CAP</th>\n      <th>SAE</th>\n      <th>RAE</th>\n      <th>companyType</th>\n      <th>scores</th>\n      <th>label</th>\n    </tr>\n  </thead>\n  <tbody>\n    <tr>\n      <th>68297</th>\n      <td>7617525401</td>\n      <td>2021-09-02 13:41:16.04</td>\n      <td>Austria</td>\n      <td>264986.74</td>\n      <td>1b4f5e4400efdbecde02456f48fc927b</td>\n      <td>1</td>\n      <td>Chrome</td>\n      <td>Windows</td>\n      <td>AT</td>\n      <td>34000</td>\n      <td>BUV4U</td>\n      <td>39031</td>\n      <td>430</td>\n      <td>161</td>\n      <td>SRL</td>\n      <td>0.714131</td>\n      <td>0</td>\n    </tr>\n    <tr>\n      <th>19156</th>\n      <td>1886395602</td>\n      <td>2021-07-22 09:37:46.25</td>\n      <td>Italy</td>\n      <td>182955.25</td>\n      <td>c0d1dad6d565af70674631ff4e055694</td>\n      <td>1</td>\n      <td>Safari</td>\n      <td>Mac OS X</td>\n      <td>DE</td>\n      <td>28050100</td>\n      <td>AMU3P</td>\n      <td>39100</td>\n      <td>615</td>\n      <td>11</td>\n      <td>SS</td>\n      <td>0.703772</td>\n      <td>0</td>\n    </tr>\n    <tr>\n      <th>44950</th>\n      <td>49733508</td>\n      <td>2021-06-15 08:23:11.847</td>\n      <td>Austria</td>\n      <td>200000.00</td>\n      <td>4eb8c873cf171a98d947b70a6e9cc98f</td>\n      <td>1</td>\n      <td>Edge</td>\n      <td>Windows</td>\n      <td>AT</td>\n      <td>37431</td>\n      <td>BZHIN</td>\n      <td>39036</td>\n      <td>430</td>\n      <td>660</td>\n      <td>SRL</td>\n      <td>0.696896</td>\n      <td>0</td>\n    </tr>\n    <tr>\n      <th>68525</th>\n      <td>7098914101</td>\n      <td>2021-09-15 10:56:42.87</td>\n      <td>Austria</td>\n      <td>190000.00</td>\n      <td>a40003308db47ae0d4fc067008c6de11</td>\n      <td>1</td>\n      <td>Chrome</td>\n      <td>Windows</td>\n      <td>AT</td>\n      <td>15000</td>\n      <td>A56UA</td>\n      <td>39049</td>\n      <td>430</td>\n      <td>830</td>\n      <td>SRL</td>\n      <td>0.696809</td>\n      <td>0</td>\n    </tr>\n    <tr>\n      <th>43968</th>\n      <td>41999520</td>\n      <td>2021-09-16 11:41:45.407</td>\n      <td>Italy</td>\n      <td>270000.00</td>\n      <td>d1126a5e3988d76235cde4c7eed8ebbd</td>\n      <td>0</td>\n      <td>Other</td>\n      <td>Linux</td>\n      <td>IT</td>\n      <td>3493</td>\n      <td>347D3</td>\n      <td>39038</td>\n      <td>430</td>\n      <td>830</td>\n      <td>GMBH</td>\n      <td>0.696690</td>\n      <td>0</td>\n    </tr>\n    <tr>\n      <th>...</th>\n      <td>...</td>\n      <td>...</td>\n      <td>...</td>\n      <td>...</td>\n      <td>...</td>\n      <td>...</td>\n      <td>...</td>\n      <td>...</td>\n      <td>...</td>\n      <td>...</td>\n      <td>...</td>\n      <td>...</td>\n      <td>...</td>\n      <td>...</td>\n      <td>...</td>\n      <td>...</td>\n      <td>...</td>\n    </tr>\n    <tr>\n      <th>4505</th>\n      <td>5915175</td>\n      <td>2021-05-07 07:29:58.453</td>\n      <td>Italy</td>\n      <td>154000.00</td>\n      <td>1b70909d0fc5e99cbea4bab4075fd9fd</td>\n      <td>1</td>\n      <td>Chrome</td>\n      <td>Mac OS X</td>\n      <td>IT</td>\n      <td>5856</td>\n      <td>B1Y9I</td>\n      <td>32040</td>\n      <td>430</td>\n      <td>461</td>\n      <td>SRL</td>\n      <td>0.600346</td>\n      <td>0</td>\n    </tr>\n    <tr>\n      <th>64676</th>\n      <td>7227290201</td>\n      <td>2021-08-25 10:29:06.587</td>\n      <td>Italy</td>\n      <td>19375.67</td>\n      <td>31cd59d50c75d330d568f4392bcd3cc9</td>\n      <td>0</td>\n      <td>Other</td>\n      <td>Linux</td>\n      <td>IT</td>\n      <td>1005</td>\n      <td>CK6GZ</td>\n      <td>31100</td>\n      <td>430</td>\n      <td>773</td>\n      <td>SRL</td>\n      <td>0.600344</td>\n      <td>0</td>\n    </tr>\n    <tr>\n      <th>57569</th>\n      <td>37138397</td>\n      <td>2021-04-13 15:37:18.7</td>\n      <td>Italy</td>\n      <td>29187.96</td>\n      <td>8d8800f2b05c45a4ee976e07b5a17f52</td>\n      <td>1</td>\n      <td>Chrome</td>\n      <td>Windows</td>\n      <td>IT</td>\n      <td>1030</td>\n      <td>CJKAL</td>\n      <td>30027</td>\n      <td>615</td>\n      <td>11</td>\n      <td>SS</td>\n      <td>0.600326</td>\n      <td>0</td>\n    </tr>\n    <tr>\n      <th>64332</th>\n      <td>7208713201</td>\n      <td>2021-08-23 14:33:31.423</td>\n      <td>Italy</td>\n      <td>62502.91</td>\n      <td>922a6b4795cd70ae1591610e8d95d10b</td>\n      <td>1</td>\n      <td>Edge</td>\n      <td>Windows</td>\n      <td>IT</td>\n      <td>8175</td>\n      <td>A13B0</td>\n      <td>39013</td>\n      <td>482</td>\n      <td>412</td>\n      <td>SNC</td>\n      <td>0.600181</td>\n      <td>0</td>\n    </tr>\n    <tr>\n      <th>84718</th>\n      <td>9393584501</td>\n      <td>2021-08-05 09:40:14.003</td>\n      <td>Italy</td>\n      <td>67700.00</td>\n      <td>8bc892912a7509f1018e013d65ca588b</td>\n      <td>1</td>\n      <td>IE</td>\n      <td>Windows</td>\n      <td>IT</td>\n      <td>6045</td>\n      <td>A3C55</td>\n      <td>38057</td>\n      <td>615</td>\n      <td>830</td>\n      <td>STU</td>\n      <td>0.600124</td>\n      <td>0</td>\n    </tr>\n  </tbody>\n</table>\n<p>469 rows × 17 columns</p>\n</div>"
     },
     "execution_count": 9,
     "metadata": {},
     "output_type": "execute_result"
    }
   ],
   "source": [
    "EIF[EIF['scores']>0.6].sort_values('scores',ascending=False)"
   ],
   "metadata": {
    "collapsed": false,
    "pycharm": {
     "name": "#%%\n"
    }
   }
  },
  {
   "cell_type": "code",
   "execution_count": 10,
   "outputs": [],
   "source": [
    "EIF.loc[EIF.scores>0.684945, 'label']=1"
   ],
   "metadata": {
    "collapsed": false,
    "pycharm": {
     "name": "#%%\n"
    }
   }
  },
  {
   "cell_type": "code",
   "execution_count": 11,
   "outputs": [
    {
     "data": {
      "text/plain": "       customerId                timestamp  country     amount  \\\n68297  7617525401   2021-09-02 13:41:16.04  Austria  264986.74   \n19156  1886395602   2021-07-22 09:37:46.25    Italy  182955.25   \n44950    49733508  2021-06-15 08:23:11.847  Austria  200000.00   \n68525  7098914101   2021-09-15 10:56:42.87  Austria  190000.00   \n43968    41999520  2021-09-16 11:41:45.407    Italy  270000.00   \n...           ...                      ...      ...        ...   \n4505      5915175  2021-05-07 07:29:58.453    Italy  154000.00   \n64676  7227290201  2021-08-25 10:29:06.587    Italy   19375.67   \n57569    37138397    2021-04-13 15:37:18.7    Italy   29187.96   \n64332  7208713201  2021-08-23 14:33:31.423    Italy   62502.91   \n84718  9393584501  2021-08-05 09:40:14.003    Italy   67700.00   \n\n                           businessName  userAgent_isPc  \\\n68297  1b4f5e4400efdbecde02456f48fc927b               1   \n19156  c0d1dad6d565af70674631ff4e055694               1   \n44950  4eb8c873cf171a98d947b70a6e9cc98f               1   \n68525  a40003308db47ae0d4fc067008c6de11               1   \n43968  d1126a5e3988d76235cde4c7eed8ebbd               0   \n...                                 ...             ...   \n4505   1b70909d0fc5e99cbea4bab4075fd9fd               1   \n64676  31cd59d50c75d330d568f4392bcd3cc9               0   \n57569  8d8800f2b05c45a4ee976e07b5a17f52               1   \n64332  922a6b4795cd70ae1591610e8d95d10b               1   \n84718  8bc892912a7509f1018e013d65ca588b               1   \n\n      userAgent_browserFamily userAgent_osFamily IBAN_countryCode  \\\n68297                  Chrome            Windows               AT   \n19156                  Safari           Mac OS X               DE   \n44950                    Edge            Windows               AT   \n68525                  Chrome            Windows               AT   \n43968                   Other              Linux               IT   \n...                       ...                ...              ...   \n4505                   Chrome           Mac OS X               IT   \n64676                   Other              Linux               IT   \n57569                  Chrome            Windows               IT   \n64332                    Edge            Windows               IT   \n84718                      IE            Windows               IT   \n\n      IBAN_bankCode    SIA    CAP  SAE  RAE companyType    scores  label  \n68297         34000  BUV4U  39031  430  161         SRL  0.714131      1  \n19156      28050100  AMU3P  39100  615   11          SS  0.703772      1  \n44950         37431  BZHIN  39036  430  660         SRL  0.696896      1  \n68525         15000  A56UA  39049  430  830         SRL  0.696809      1  \n43968          3493  347D3  39038  430  830        GMBH  0.696690      1  \n...             ...    ...    ...  ...  ...         ...       ...    ...  \n4505           5856  B1Y9I  32040  430  461         SRL  0.600346      0  \n64676          1005  CK6GZ  31100  430  773         SRL  0.600344      0  \n57569          1030  CJKAL  30027  615   11          SS  0.600326      0  \n64332          8175  A13B0  39013  482  412         SNC  0.600181      0  \n84718          6045  A3C55  38057  615  830         STU  0.600124      0  \n\n[469 rows x 17 columns]",
      "text/html": "<div>\n<style scoped>\n    .dataframe tbody tr th:only-of-type {\n        vertical-align: middle;\n    }\n\n    .dataframe tbody tr th {\n        vertical-align: top;\n    }\n\n    .dataframe thead th {\n        text-align: right;\n    }\n</style>\n<table border=\"1\" class=\"dataframe\">\n  <thead>\n    <tr style=\"text-align: right;\">\n      <th></th>\n      <th>customerId</th>\n      <th>timestamp</th>\n      <th>country</th>\n      <th>amount</th>\n      <th>businessName</th>\n      <th>userAgent_isPc</th>\n      <th>userAgent_browserFamily</th>\n      <th>userAgent_osFamily</th>\n      <th>IBAN_countryCode</th>\n      <th>IBAN_bankCode</th>\n      <th>SIA</th>\n      <th>CAP</th>\n      <th>SAE</th>\n      <th>RAE</th>\n      <th>companyType</th>\n      <th>scores</th>\n      <th>label</th>\n    </tr>\n  </thead>\n  <tbody>\n    <tr>\n      <th>68297</th>\n      <td>7617525401</td>\n      <td>2021-09-02 13:41:16.04</td>\n      <td>Austria</td>\n      <td>264986.74</td>\n      <td>1b4f5e4400efdbecde02456f48fc927b</td>\n      <td>1</td>\n      <td>Chrome</td>\n      <td>Windows</td>\n      <td>AT</td>\n      <td>34000</td>\n      <td>BUV4U</td>\n      <td>39031</td>\n      <td>430</td>\n      <td>161</td>\n      <td>SRL</td>\n      <td>0.714131</td>\n      <td>1</td>\n    </tr>\n    <tr>\n      <th>19156</th>\n      <td>1886395602</td>\n      <td>2021-07-22 09:37:46.25</td>\n      <td>Italy</td>\n      <td>182955.25</td>\n      <td>c0d1dad6d565af70674631ff4e055694</td>\n      <td>1</td>\n      <td>Safari</td>\n      <td>Mac OS X</td>\n      <td>DE</td>\n      <td>28050100</td>\n      <td>AMU3P</td>\n      <td>39100</td>\n      <td>615</td>\n      <td>11</td>\n      <td>SS</td>\n      <td>0.703772</td>\n      <td>1</td>\n    </tr>\n    <tr>\n      <th>44950</th>\n      <td>49733508</td>\n      <td>2021-06-15 08:23:11.847</td>\n      <td>Austria</td>\n      <td>200000.00</td>\n      <td>4eb8c873cf171a98d947b70a6e9cc98f</td>\n      <td>1</td>\n      <td>Edge</td>\n      <td>Windows</td>\n      <td>AT</td>\n      <td>37431</td>\n      <td>BZHIN</td>\n      <td>39036</td>\n      <td>430</td>\n      <td>660</td>\n      <td>SRL</td>\n      <td>0.696896</td>\n      <td>1</td>\n    </tr>\n    <tr>\n      <th>68525</th>\n      <td>7098914101</td>\n      <td>2021-09-15 10:56:42.87</td>\n      <td>Austria</td>\n      <td>190000.00</td>\n      <td>a40003308db47ae0d4fc067008c6de11</td>\n      <td>1</td>\n      <td>Chrome</td>\n      <td>Windows</td>\n      <td>AT</td>\n      <td>15000</td>\n      <td>A56UA</td>\n      <td>39049</td>\n      <td>430</td>\n      <td>830</td>\n      <td>SRL</td>\n      <td>0.696809</td>\n      <td>1</td>\n    </tr>\n    <tr>\n      <th>43968</th>\n      <td>41999520</td>\n      <td>2021-09-16 11:41:45.407</td>\n      <td>Italy</td>\n      <td>270000.00</td>\n      <td>d1126a5e3988d76235cde4c7eed8ebbd</td>\n      <td>0</td>\n      <td>Other</td>\n      <td>Linux</td>\n      <td>IT</td>\n      <td>3493</td>\n      <td>347D3</td>\n      <td>39038</td>\n      <td>430</td>\n      <td>830</td>\n      <td>GMBH</td>\n      <td>0.696690</td>\n      <td>1</td>\n    </tr>\n    <tr>\n      <th>...</th>\n      <td>...</td>\n      <td>...</td>\n      <td>...</td>\n      <td>...</td>\n      <td>...</td>\n      <td>...</td>\n      <td>...</td>\n      <td>...</td>\n      <td>...</td>\n      <td>...</td>\n      <td>...</td>\n      <td>...</td>\n      <td>...</td>\n      <td>...</td>\n      <td>...</td>\n      <td>...</td>\n      <td>...</td>\n    </tr>\n    <tr>\n      <th>4505</th>\n      <td>5915175</td>\n      <td>2021-05-07 07:29:58.453</td>\n      <td>Italy</td>\n      <td>154000.00</td>\n      <td>1b70909d0fc5e99cbea4bab4075fd9fd</td>\n      <td>1</td>\n      <td>Chrome</td>\n      <td>Mac OS X</td>\n      <td>IT</td>\n      <td>5856</td>\n      <td>B1Y9I</td>\n      <td>32040</td>\n      <td>430</td>\n      <td>461</td>\n      <td>SRL</td>\n      <td>0.600346</td>\n      <td>0</td>\n    </tr>\n    <tr>\n      <th>64676</th>\n      <td>7227290201</td>\n      <td>2021-08-25 10:29:06.587</td>\n      <td>Italy</td>\n      <td>19375.67</td>\n      <td>31cd59d50c75d330d568f4392bcd3cc9</td>\n      <td>0</td>\n      <td>Other</td>\n      <td>Linux</td>\n      <td>IT</td>\n      <td>1005</td>\n      <td>CK6GZ</td>\n      <td>31100</td>\n      <td>430</td>\n      <td>773</td>\n      <td>SRL</td>\n      <td>0.600344</td>\n      <td>0</td>\n    </tr>\n    <tr>\n      <th>57569</th>\n      <td>37138397</td>\n      <td>2021-04-13 15:37:18.7</td>\n      <td>Italy</td>\n      <td>29187.96</td>\n      <td>8d8800f2b05c45a4ee976e07b5a17f52</td>\n      <td>1</td>\n      <td>Chrome</td>\n      <td>Windows</td>\n      <td>IT</td>\n      <td>1030</td>\n      <td>CJKAL</td>\n      <td>30027</td>\n      <td>615</td>\n      <td>11</td>\n      <td>SS</td>\n      <td>0.600326</td>\n      <td>0</td>\n    </tr>\n    <tr>\n      <th>64332</th>\n      <td>7208713201</td>\n      <td>2021-08-23 14:33:31.423</td>\n      <td>Italy</td>\n      <td>62502.91</td>\n      <td>922a6b4795cd70ae1591610e8d95d10b</td>\n      <td>1</td>\n      <td>Edge</td>\n      <td>Windows</td>\n      <td>IT</td>\n      <td>8175</td>\n      <td>A13B0</td>\n      <td>39013</td>\n      <td>482</td>\n      <td>412</td>\n      <td>SNC</td>\n      <td>0.600181</td>\n      <td>0</td>\n    </tr>\n    <tr>\n      <th>84718</th>\n      <td>9393584501</td>\n      <td>2021-08-05 09:40:14.003</td>\n      <td>Italy</td>\n      <td>67700.00</td>\n      <td>8bc892912a7509f1018e013d65ca588b</td>\n      <td>1</td>\n      <td>IE</td>\n      <td>Windows</td>\n      <td>IT</td>\n      <td>6045</td>\n      <td>A3C55</td>\n      <td>38057</td>\n      <td>615</td>\n      <td>830</td>\n      <td>STU</td>\n      <td>0.600124</td>\n      <td>0</td>\n    </tr>\n  </tbody>\n</table>\n<p>469 rows × 17 columns</p>\n</div>"
     },
     "execution_count": 11,
     "metadata": {},
     "output_type": "execute_result"
    }
   ],
   "source": [
    "EIF[EIF['scores']>0.6].sort_values('scores',ascending=False)\n"
   ],
   "metadata": {
    "collapsed": false,
    "pycharm": {
     "name": "#%%\n"
    }
   }
  },
  {
   "cell_type": "code",
   "execution_count": 20,
   "outputs": [
    {
     "data": {
      "text/plain": "   customerId                timestamp country   amount  \\\n0    93000801  2021-09-15 16:13:35.147   Italy      150   \n1    93000801  2021-08-24 10:34:24.487  Greece     3200   \n2    93000801   2021-09-14 16:21:43.33   Italy     8350   \n3    93001001  2021-06-30 09:07:16.733   Italy      500   \n4    93001001  2021-07-12 16:36:02.857   Italy  1895,68   \n\n                       businessName  userAgent_isPc userAgent_browserFamily  \\\n0  c7543b6f04850eae288aa52783b33363               1                 Firefox   \n1  c7543b6f04850eae288aa52783b33363               1                 Firefox   \n2  c7543b6f04850eae288aa52783b33363               1                 Firefox   \n3  3f241dfcc38064261fec0f303c2784e5               1                  Chrome   \n4  a5d1eaffa8e325d370665f43624339a1               1                  Chrome   \n\n  userAgent_osFamily IBAN_countryCode IBAN_bankCode    SIA    CAP  SAE  RAE  \\\n0            Windows               IT          5856  CLFUY  33077  492  630   \n1            Windows               IT          5856  CLFUY  33077  492  630   \n2            Windows               IT          5856  CLFUY  33077  492  630   \n3            Windows               IT          2008  CEFGV  31039  430  505   \n4            Windows               IT          3069  CEFGV  31039  430  505   \n\n  companyType  is_anomaly  \n0         SAS           0  \n1         SAS           0  \n2         SAS           0  \n3         SRL           0  \n4         SRL           0  ",
      "text/html": "<div>\n<style scoped>\n    .dataframe tbody tr th:only-of-type {\n        vertical-align: middle;\n    }\n\n    .dataframe tbody tr th {\n        vertical-align: top;\n    }\n\n    .dataframe thead th {\n        text-align: right;\n    }\n</style>\n<table border=\"1\" class=\"dataframe\">\n  <thead>\n    <tr style=\"text-align: right;\">\n      <th></th>\n      <th>customerId</th>\n      <th>timestamp</th>\n      <th>country</th>\n      <th>amount</th>\n      <th>businessName</th>\n      <th>userAgent_isPc</th>\n      <th>userAgent_browserFamily</th>\n      <th>userAgent_osFamily</th>\n      <th>IBAN_countryCode</th>\n      <th>IBAN_bankCode</th>\n      <th>SIA</th>\n      <th>CAP</th>\n      <th>SAE</th>\n      <th>RAE</th>\n      <th>companyType</th>\n      <th>is_anomaly</th>\n    </tr>\n  </thead>\n  <tbody>\n    <tr>\n      <th>0</th>\n      <td>93000801</td>\n      <td>2021-09-15 16:13:35.147</td>\n      <td>Italy</td>\n      <td>150</td>\n      <td>c7543b6f04850eae288aa52783b33363</td>\n      <td>1</td>\n      <td>Firefox</td>\n      <td>Windows</td>\n      <td>IT</td>\n      <td>5856</td>\n      <td>CLFUY</td>\n      <td>33077</td>\n      <td>492</td>\n      <td>630</td>\n      <td>SAS</td>\n      <td>0</td>\n    </tr>\n    <tr>\n      <th>1</th>\n      <td>93000801</td>\n      <td>2021-08-24 10:34:24.487</td>\n      <td>Greece</td>\n      <td>3200</td>\n      <td>c7543b6f04850eae288aa52783b33363</td>\n      <td>1</td>\n      <td>Firefox</td>\n      <td>Windows</td>\n      <td>IT</td>\n      <td>5856</td>\n      <td>CLFUY</td>\n      <td>33077</td>\n      <td>492</td>\n      <td>630</td>\n      <td>SAS</td>\n      <td>0</td>\n    </tr>\n    <tr>\n      <th>2</th>\n      <td>93000801</td>\n      <td>2021-09-14 16:21:43.33</td>\n      <td>Italy</td>\n      <td>8350</td>\n      <td>c7543b6f04850eae288aa52783b33363</td>\n      <td>1</td>\n      <td>Firefox</td>\n      <td>Windows</td>\n      <td>IT</td>\n      <td>5856</td>\n      <td>CLFUY</td>\n      <td>33077</td>\n      <td>492</td>\n      <td>630</td>\n      <td>SAS</td>\n      <td>0</td>\n    </tr>\n    <tr>\n      <th>3</th>\n      <td>93001001</td>\n      <td>2021-06-30 09:07:16.733</td>\n      <td>Italy</td>\n      <td>500</td>\n      <td>3f241dfcc38064261fec0f303c2784e5</td>\n      <td>1</td>\n      <td>Chrome</td>\n      <td>Windows</td>\n      <td>IT</td>\n      <td>2008</td>\n      <td>CEFGV</td>\n      <td>31039</td>\n      <td>430</td>\n      <td>505</td>\n      <td>SRL</td>\n      <td>0</td>\n    </tr>\n    <tr>\n      <th>4</th>\n      <td>93001001</td>\n      <td>2021-07-12 16:36:02.857</td>\n      <td>Italy</td>\n      <td>1895,68</td>\n      <td>a5d1eaffa8e325d370665f43624339a1</td>\n      <td>1</td>\n      <td>Chrome</td>\n      <td>Windows</td>\n      <td>IT</td>\n      <td>3069</td>\n      <td>CEFGV</td>\n      <td>31039</td>\n      <td>430</td>\n      <td>505</td>\n      <td>SRL</td>\n      <td>0</td>\n    </tr>\n  </tbody>\n</table>\n</div>"
     },
     "execution_count": 20,
     "metadata": {},
     "output_type": "execute_result"
    }
   ],
   "source": [
    "misc=pd.read_csv('misc_anomalies.csv')\n",
    "misc.head()\n"
   ],
   "metadata": {
    "collapsed": false,
    "pycharm": {
     "name": "#%%\n"
    }
   }
  },
  {
   "cell_type": "code",
   "execution_count": 21,
   "outputs": [
    {
     "data": {
      "text/plain": "(90960, 16)"
     },
     "execution_count": 21,
     "metadata": {},
     "output_type": "execute_result"
    }
   ],
   "source": [
    "misc.shape"
   ],
   "metadata": {
    "collapsed": false,
    "pycharm": {
     "name": "#%%\n"
    }
   }
  },
  {
   "cell_type": "code",
   "execution_count": null,
   "outputs": [],
   "source": [],
   "metadata": {
    "collapsed": false,
    "pycharm": {
     "name": "#%%\n"
    }
   }
  }
 ],
 "metadata": {
  "kernelspec": {
   "display_name": "Python 3",
   "language": "python",
   "name": "python3"
  },
  "language_info": {
   "codemirror_mode": {
    "name": "ipython",
    "version": 2
   },
   "file_extension": ".py",
   "mimetype": "text/x-python",
   "name": "python",
   "nbconvert_exporter": "python",
   "pygments_lexer": "ipython2",
   "version": "2.7.6"
  }
 },
 "nbformat": 4,
 "nbformat_minor": 0
}