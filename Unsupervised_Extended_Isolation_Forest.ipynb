{
 "cells": [
  {
   "cell_type": "markdown",
   "source": [
    "# QUESTO SEMBRA FUNZIONARE COME ISOLATION FOREST NORMALE"
   ],
   "metadata": {
    "collapsed": false,
    "pycharm": {
     "name": "#%% md\n"
    }
   }
  },
  {
   "cell_type": "code",
   "execution_count": 1,
   "outputs": [],
   "source": [
    "import pandas as pd"
   ],
   "metadata": {
    "collapsed": false,
    "pycharm": {
     "name": "#%%\n"
    }
   }
  },
  {
   "cell_type": "code",
   "execution_count": 2,
   "outputs": [
    {
     "data": {
      "text/plain": "(90960, 16)"
     },
     "execution_count": 2,
     "metadata": {},
     "output_type": "execute_result"
    }
   ],
   "source": [
    "labeled_df = pd.read_csv('EIF_labeled.csv')\n",
    "labeled_df.shape"
   ],
   "metadata": {
    "collapsed": false,
    "pycharm": {
     "name": "#%%\n"
    }
   }
  },
  {
   "cell_type": "code",
   "execution_count": 3,
   "outputs": [
    {
     "data": {
      "text/plain": "   customerId                timestamp  country   amount  \\\n0    93000801  2021-09-15 16:13:35.147        6   150.00   \n1    93000801  2021-08-24 10:34:24.487        5  3200.00   \n2    93000801   2021-09-14 16:21:43.33        6  8350.00   \n3    93001001  2021-06-30 09:07:16.733        6   500.00   \n4    93001001  2021-07-12 16:36:02.857        6  1895.68   \n\n                       businessName  userAgent_isPc  userAgent_browserFamily  \\\n0  c7543b6f04850eae288aa52783b33363               1                        4   \n1  c7543b6f04850eae288aa52783b33363               1                        4   \n2  c7543b6f04850eae288aa52783b33363               1                        4   \n3  3f241dfcc38064261fec0f303c2784e5               1                        0   \n4  a5d1eaffa8e325d370665f43624339a1               1                        0   \n\n   userAgent_osFamily  IBAN_countryCode  IBAN_bankCode   SIA  CAP  SAE  RAE  \\\n0                   5                17            699  2013  144   19  113   \n1                   5                17            699  2013  144   19  113   \n2                   5                17            699  2013  144   19  113   \n3                   5                17            123  1781   90    8   99   \n4                   5                17            285  1781   90    8   99   \n\n   companyType  \n0            5  \n1            5  \n2            5  \n3           10  \n4           10  ",
      "text/html": "<div>\n<style scoped>\n    .dataframe tbody tr th:only-of-type {\n        vertical-align: middle;\n    }\n\n    .dataframe tbody tr th {\n        vertical-align: top;\n    }\n\n    .dataframe thead th {\n        text-align: right;\n    }\n</style>\n<table border=\"1\" class=\"dataframe\">\n  <thead>\n    <tr style=\"text-align: right;\">\n      <th></th>\n      <th>customerId</th>\n      <th>timestamp</th>\n      <th>country</th>\n      <th>amount</th>\n      <th>businessName</th>\n      <th>userAgent_isPc</th>\n      <th>userAgent_browserFamily</th>\n      <th>userAgent_osFamily</th>\n      <th>IBAN_countryCode</th>\n      <th>IBAN_bankCode</th>\n      <th>SIA</th>\n      <th>CAP</th>\n      <th>SAE</th>\n      <th>RAE</th>\n      <th>companyType</th>\n    </tr>\n  </thead>\n  <tbody>\n    <tr>\n      <th>0</th>\n      <td>93000801</td>\n      <td>2021-09-15 16:13:35.147</td>\n      <td>6</td>\n      <td>150.00</td>\n      <td>c7543b6f04850eae288aa52783b33363</td>\n      <td>1</td>\n      <td>4</td>\n      <td>5</td>\n      <td>17</td>\n      <td>699</td>\n      <td>2013</td>\n      <td>144</td>\n      <td>19</td>\n      <td>113</td>\n      <td>5</td>\n    </tr>\n    <tr>\n      <th>1</th>\n      <td>93000801</td>\n      <td>2021-08-24 10:34:24.487</td>\n      <td>5</td>\n      <td>3200.00</td>\n      <td>c7543b6f04850eae288aa52783b33363</td>\n      <td>1</td>\n      <td>4</td>\n      <td>5</td>\n      <td>17</td>\n      <td>699</td>\n      <td>2013</td>\n      <td>144</td>\n      <td>19</td>\n      <td>113</td>\n      <td>5</td>\n    </tr>\n    <tr>\n      <th>2</th>\n      <td>93000801</td>\n      <td>2021-09-14 16:21:43.33</td>\n      <td>6</td>\n      <td>8350.00</td>\n      <td>c7543b6f04850eae288aa52783b33363</td>\n      <td>1</td>\n      <td>4</td>\n      <td>5</td>\n      <td>17</td>\n      <td>699</td>\n      <td>2013</td>\n      <td>144</td>\n      <td>19</td>\n      <td>113</td>\n      <td>5</td>\n    </tr>\n    <tr>\n      <th>3</th>\n      <td>93001001</td>\n      <td>2021-06-30 09:07:16.733</td>\n      <td>6</td>\n      <td>500.00</td>\n      <td>3f241dfcc38064261fec0f303c2784e5</td>\n      <td>1</td>\n      <td>0</td>\n      <td>5</td>\n      <td>17</td>\n      <td>123</td>\n      <td>1781</td>\n      <td>90</td>\n      <td>8</td>\n      <td>99</td>\n      <td>10</td>\n    </tr>\n    <tr>\n      <th>4</th>\n      <td>93001001</td>\n      <td>2021-07-12 16:36:02.857</td>\n      <td>6</td>\n      <td>1895.68</td>\n      <td>a5d1eaffa8e325d370665f43624339a1</td>\n      <td>1</td>\n      <td>0</td>\n      <td>5</td>\n      <td>17</td>\n      <td>285</td>\n      <td>1781</td>\n      <td>90</td>\n      <td>8</td>\n      <td>99</td>\n      <td>10</td>\n    </tr>\n  </tbody>\n</table>\n</div>"
     },
     "execution_count": 3,
     "metadata": {},
     "output_type": "execute_result"
    }
   ],
   "source": [
    "labeled_df = labeled_df.drop(columns='Unnamed: 0')\n",
    "labeled_df.head()"
   ],
   "metadata": {
    "collapsed": false,
    "pycharm": {
     "name": "#%%\n"
    }
   }
  },
  {
   "cell_type": "code",
   "execution_count": 4,
   "outputs": [
    {
     "name": "stdout",
     "output_type": "stream",
     "text": [
      "Checking whether there is an H2O instance running at http://localhost:54321 . connected.\n"
     ]
    },
    {
     "data": {
      "text/plain": "--------------------------  ------------------------------\nH2O_cluster_uptime:         4 hours 19 mins\nH2O_cluster_timezone:       Europe/Berlin\nH2O_data_parsing_timezone:  UTC\nH2O_cluster_version:        3.36.1.4\nH2O_cluster_version_age:    1 month and 11 days\nH2O_cluster_name:           H2O_from_python_Robivad_c483f2\nH2O_cluster_total_nodes:    1\nH2O_cluster_free_memory:    2.458 Gb\nH2O_cluster_total_cores:    4\nH2O_cluster_allowed_cores:  4\nH2O_cluster_status:         locked, healthy\nH2O_connection_url:         http://localhost:54321\nH2O_connection_proxy:       {\"http\": null, \"https\": null}\nH2O_internal_security:      False\nPython_version:             3.10.6 final\n--------------------------  ------------------------------",
      "text/html": "<div style=\"overflow:auto\"><table style=\"width:50%\"><tr><td>H2O_cluster_uptime:</td>\n<td>4 hours 19 mins</td></tr>\n<tr><td>H2O_cluster_timezone:</td>\n<td>Europe/Berlin</td></tr>\n<tr><td>H2O_data_parsing_timezone:</td>\n<td>UTC</td></tr>\n<tr><td>H2O_cluster_version:</td>\n<td>3.36.1.4</td></tr>\n<tr><td>H2O_cluster_version_age:</td>\n<td>1 month and 11 days </td></tr>\n<tr><td>H2O_cluster_name:</td>\n<td>H2O_from_python_Robivad_c483f2</td></tr>\n<tr><td>H2O_cluster_total_nodes:</td>\n<td>1</td></tr>\n<tr><td>H2O_cluster_free_memory:</td>\n<td>2.458 Gb</td></tr>\n<tr><td>H2O_cluster_total_cores:</td>\n<td>4</td></tr>\n<tr><td>H2O_cluster_allowed_cores:</td>\n<td>4</td></tr>\n<tr><td>H2O_cluster_status:</td>\n<td>locked, healthy</td></tr>\n<tr><td>H2O_connection_url:</td>\n<td>http://localhost:54321</td></tr>\n<tr><td>H2O_connection_proxy:</td>\n<td>{\"http\": null, \"https\": null}</td></tr>\n<tr><td>H2O_internal_security:</td>\n<td>False</td></tr>\n<tr><td>Python_version:</td>\n<td>3.10.6 final</td></tr></table></div>"
     },
     "metadata": {},
     "output_type": "display_data"
    },
    {
     "name": "stdout",
     "output_type": "stream",
     "text": [
      "Parse progress: |████████████████████████████████████████████████████████████████| (done) 100%\n",
      "extendedisolationforest Model Build progress: |██████████████████████████████████| (done) 100%\n",
      "extendedisolationforest prediction progress: |███████████████████████████████████| (done) 100%\n"
     ]
    }
   ],
   "source": [
    "import h2o\n",
    "from h2o.estimators import H2OExtendedIsolationForestEstimator\n",
    "h2o.init()\n",
    "h2o_df = h2o.import_file(\"EIF_labeled.csv\")\n",
    "predictors=['country','amount','userAgent_isPc','userAgent_browserFamily','userAgent_osFamily','IBAN_countryCode','IBAN_bankCode','SIA','CAP','SAE','RAE','companyType']\n",
    "eif = H2OExtendedIsolationForestEstimator()\n",
    "eif.train(x = predictors,training_frame = h2o_df)\n",
    "eif_result = eif.predict(h2o_df)\n",
    "anomaly_score = eif_result[\"anomaly_score\"]\n",
    "mean_length = eif_result[\"mean_length\"]"
   ],
   "metadata": {
    "collapsed": false,
    "pycharm": {
     "name": "#%%\n"
    }
   }
  },
  {
   "cell_type": "code",
   "execution_count": 14,
   "outputs": [
    {
     "data": {
      "text/plain": "h2o.frame.H2OFrame"
     },
     "execution_count": 14,
     "metadata": {},
     "output_type": "execute_result"
    }
   ],
   "source": [
    "type(anomaly_score)"
   ],
   "metadata": {
    "collapsed": false,
    "pycharm": {
     "name": "#%%\n"
    }
   }
  },
  {
   "cell_type": "code",
   "execution_count": 5,
   "outputs": [
    {
     "data": {
      "text/html": "<table>\n<thead>\n<tr><th style=\"text-align: right;\">  anomaly_score</th></tr>\n</thead>\n<tbody>\n<tr><td style=\"text-align: right;\">       0.444861</td></tr>\n<tr><td style=\"text-align: right;\">       0.466566</td></tr>\n<tr><td style=\"text-align: right;\">       0.459241</td></tr>\n<tr><td style=\"text-align: right;\">       0.34843 </td></tr>\n<tr><td style=\"text-align: right;\">       0.343152</td></tr>\n<tr><td style=\"text-align: right;\">       0.346808</td></tr>\n<tr><td style=\"text-align: right;\">       0.353935</td></tr>\n<tr><td style=\"text-align: right;\">       0.350601</td></tr>\n<tr><td style=\"text-align: right;\">       0.35027 </td></tr>\n<tr><td style=\"text-align: right;\">       0.343604</td></tr>\n</tbody>\n</table>"
     },
     "metadata": {},
     "output_type": "display_data"
    },
    {
     "data": {
      "text/plain": ""
     },
     "execution_count": 5,
     "metadata": {},
     "output_type": "execute_result"
    }
   ],
   "source": [
    "anomaly_score"
   ],
   "metadata": {
    "collapsed": false,
    "pycharm": {
     "name": "#%%\n"
    }
   }
  },
  {
   "cell_type": "code",
   "execution_count": 6,
   "outputs": [],
   "source": [
    "import pickle\n",
    "encoder_dict=pickle.load(open('enc_dict.pkl','rb'))\n",
    "columns_to_label = ['country', 'userAgent_browserFamily', 'userAgent_osFamily', 'IBAN_countryCode', 'IBAN_bankCode','CAP', 'SIA', 'SAE', 'RAE','companyType']"
   ],
   "metadata": {
    "collapsed": false,
    "pycharm": {
     "name": "#%%\n"
    }
   }
  },
  {
   "cell_type": "code",
   "execution_count": 13,
   "outputs": [
    {
     "data": {
      "text/plain": "   customerId                timestamp country   amount  \\\n0    93000801  2021-09-15 16:13:35.147   Italy   150.00   \n1    93000801  2021-08-24 10:34:24.487  Greece  3200.00   \n2    93000801   2021-09-14 16:21:43.33   Italy  8350.00   \n3    93001001  2021-06-30 09:07:16.733   Italy   500.00   \n4    93001001  2021-07-12 16:36:02.857   Italy  1895.68   \n\n                       businessName  userAgent_isPc userAgent_browserFamily  \\\n0  c7543b6f04850eae288aa52783b33363               1                 Firefox   \n1  c7543b6f04850eae288aa52783b33363               1                 Firefox   \n2  c7543b6f04850eae288aa52783b33363               1                 Firefox   \n3  3f241dfcc38064261fec0f303c2784e5               1                  Chrome   \n4  a5d1eaffa8e325d370665f43624339a1               1                  Chrome   \n\n  userAgent_osFamily IBAN_countryCode IBAN_bankCode    SIA    CAP  SAE  RAE  \\\n0            Windows               IT          5856  CLFUY  33077  492  630   \n1            Windows               IT          5856  CLFUY  33077  492  630   \n2            Windows               IT          5856  CLFUY  33077  492  630   \n3            Windows               IT          2008  CEFGV  31039  430  505   \n4            Windows               IT          3069  CEFGV  31039  430  505   \n\n  companyType  \n0         SAS  \n1         SAS  \n2         SAS  \n3         SRL  \n4         SRL  ",
      "text/html": "<div>\n<style scoped>\n    .dataframe tbody tr th:only-of-type {\n        vertical-align: middle;\n    }\n\n    .dataframe tbody tr th {\n        vertical-align: top;\n    }\n\n    .dataframe thead th {\n        text-align: right;\n    }\n</style>\n<table border=\"1\" class=\"dataframe\">\n  <thead>\n    <tr style=\"text-align: right;\">\n      <th></th>\n      <th>customerId</th>\n      <th>timestamp</th>\n      <th>country</th>\n      <th>amount</th>\n      <th>businessName</th>\n      <th>userAgent_isPc</th>\n      <th>userAgent_browserFamily</th>\n      <th>userAgent_osFamily</th>\n      <th>IBAN_countryCode</th>\n      <th>IBAN_bankCode</th>\n      <th>SIA</th>\n      <th>CAP</th>\n      <th>SAE</th>\n      <th>RAE</th>\n      <th>companyType</th>\n    </tr>\n  </thead>\n  <tbody>\n    <tr>\n      <th>0</th>\n      <td>93000801</td>\n      <td>2021-09-15 16:13:35.147</td>\n      <td>Italy</td>\n      <td>150.00</td>\n      <td>c7543b6f04850eae288aa52783b33363</td>\n      <td>1</td>\n      <td>Firefox</td>\n      <td>Windows</td>\n      <td>IT</td>\n      <td>5856</td>\n      <td>CLFUY</td>\n      <td>33077</td>\n      <td>492</td>\n      <td>630</td>\n      <td>SAS</td>\n    </tr>\n    <tr>\n      <th>1</th>\n      <td>93000801</td>\n      <td>2021-08-24 10:34:24.487</td>\n      <td>Greece</td>\n      <td>3200.00</td>\n      <td>c7543b6f04850eae288aa52783b33363</td>\n      <td>1</td>\n      <td>Firefox</td>\n      <td>Windows</td>\n      <td>IT</td>\n      <td>5856</td>\n      <td>CLFUY</td>\n      <td>33077</td>\n      <td>492</td>\n      <td>630</td>\n      <td>SAS</td>\n    </tr>\n    <tr>\n      <th>2</th>\n      <td>93000801</td>\n      <td>2021-09-14 16:21:43.33</td>\n      <td>Italy</td>\n      <td>8350.00</td>\n      <td>c7543b6f04850eae288aa52783b33363</td>\n      <td>1</td>\n      <td>Firefox</td>\n      <td>Windows</td>\n      <td>IT</td>\n      <td>5856</td>\n      <td>CLFUY</td>\n      <td>33077</td>\n      <td>492</td>\n      <td>630</td>\n      <td>SAS</td>\n    </tr>\n    <tr>\n      <th>3</th>\n      <td>93001001</td>\n      <td>2021-06-30 09:07:16.733</td>\n      <td>Italy</td>\n      <td>500.00</td>\n      <td>3f241dfcc38064261fec0f303c2784e5</td>\n      <td>1</td>\n      <td>Chrome</td>\n      <td>Windows</td>\n      <td>IT</td>\n      <td>2008</td>\n      <td>CEFGV</td>\n      <td>31039</td>\n      <td>430</td>\n      <td>505</td>\n      <td>SRL</td>\n    </tr>\n    <tr>\n      <th>4</th>\n      <td>93001001</td>\n      <td>2021-07-12 16:36:02.857</td>\n      <td>Italy</td>\n      <td>1895.68</td>\n      <td>a5d1eaffa8e325d370665f43624339a1</td>\n      <td>1</td>\n      <td>Chrome</td>\n      <td>Windows</td>\n      <td>IT</td>\n      <td>3069</td>\n      <td>CEFGV</td>\n      <td>31039</td>\n      <td>430</td>\n      <td>505</td>\n      <td>SRL</td>\n    </tr>\n  </tbody>\n</table>\n</div>"
     },
     "execution_count": 13,
     "metadata": {},
     "output_type": "execute_result"
    }
   ],
   "source": [
    "def inverse_and_scores(labeled_df,enc_dict,columns):\n",
    "    df_copy=labeled_df.copy()\n",
    "\n",
    "    for clmn in columns:\n",
    "        df_copy[clmn]=enc_dict[clmn].inverse_transform(df_copy[clmn])\n",
    "\n",
    "    return df_copy\n",
    "\n",
    "df_scores=inverse_and_scores(labeled_df,encoder_dict,columns_to_label)\n",
    "\n",
    "df_scores.head()"
   ],
   "metadata": {
    "collapsed": false,
    "pycharm": {
     "name": "#%%\n"
    }
   }
  },
  {
   "cell_type": "code",
   "execution_count": 16,
   "outputs": [
    {
     "data": {
      "text/html": "<table>\n<thead>\n<tr><th style=\"text-align: right;\">  anomaly_score</th></tr>\n</thead>\n<tbody>\n<tr><td style=\"text-align: right;\">       0.444861</td></tr>\n<tr><td style=\"text-align: right;\">       0.466566</td></tr>\n<tr><td style=\"text-align: right;\">       0.459241</td></tr>\n<tr><td style=\"text-align: right;\">       0.34843 </td></tr>\n<tr><td style=\"text-align: right;\">       0.343152</td></tr>\n<tr><td style=\"text-align: right;\">       0.346808</td></tr>\n<tr><td style=\"text-align: right;\">       0.353935</td></tr>\n<tr><td style=\"text-align: right;\">       0.350601</td></tr>\n<tr><td style=\"text-align: right;\">       0.35027 </td></tr>\n<tr><td style=\"text-align: right;\">       0.343604</td></tr>\n</tbody>\n</table>"
     },
     "metadata": {},
     "output_type": "display_data"
    },
    {
     "data": {
      "text/plain": "<bound method H2OFrame.convert_H2OFrame_2_DMatrix of >"
     },
     "execution_count": 16,
     "metadata": {},
     "output_type": "execute_result"
    }
   ],
   "source": [
    "anomaly_score.convert_H2OFrame_2_DMatrix"
   ],
   "metadata": {
    "collapsed": false,
    "pycharm": {
     "name": "#%%\n"
    }
   }
  },
  {
   "cell_type": "code",
   "execution_count": 20,
   "outputs": [],
   "source": [
    "scores = h2o.as_list(anomaly_score)"
   ],
   "metadata": {
    "collapsed": false,
    "pycharm": {
     "name": "#%%\n"
    }
   }
  },
  {
   "cell_type": "code",
   "execution_count": 21,
   "outputs": [
    {
     "data": {
      "text/plain": "       anomaly_score\n0           0.444861\n1           0.466566\n2           0.459241\n3           0.348430\n4           0.343152\n...              ...\n90955       0.358770\n90956       0.363687\n90957       0.355087\n90958       0.462735\n90959       0.512944\n\n[90960 rows x 1 columns]",
      "text/html": "<div>\n<style scoped>\n    .dataframe tbody tr th:only-of-type {\n        vertical-align: middle;\n    }\n\n    .dataframe tbody tr th {\n        vertical-align: top;\n    }\n\n    .dataframe thead th {\n        text-align: right;\n    }\n</style>\n<table border=\"1\" class=\"dataframe\">\n  <thead>\n    <tr style=\"text-align: right;\">\n      <th></th>\n      <th>anomaly_score</th>\n    </tr>\n  </thead>\n  <tbody>\n    <tr>\n      <th>0</th>\n      <td>0.444861</td>\n    </tr>\n    <tr>\n      <th>1</th>\n      <td>0.466566</td>\n    </tr>\n    <tr>\n      <th>2</th>\n      <td>0.459241</td>\n    </tr>\n    <tr>\n      <th>3</th>\n      <td>0.348430</td>\n    </tr>\n    <tr>\n      <th>4</th>\n      <td>0.343152</td>\n    </tr>\n    <tr>\n      <th>...</th>\n      <td>...</td>\n    </tr>\n    <tr>\n      <th>90955</th>\n      <td>0.358770</td>\n    </tr>\n    <tr>\n      <th>90956</th>\n      <td>0.363687</td>\n    </tr>\n    <tr>\n      <th>90957</th>\n      <td>0.355087</td>\n    </tr>\n    <tr>\n      <th>90958</th>\n      <td>0.462735</td>\n    </tr>\n    <tr>\n      <th>90959</th>\n      <td>0.512944</td>\n    </tr>\n  </tbody>\n</table>\n<p>90960 rows × 1 columns</p>\n</div>"
     },
     "execution_count": 21,
     "metadata": {},
     "output_type": "execute_result"
    }
   ],
   "source": [
    "scores"
   ],
   "metadata": {
    "collapsed": false,
    "pycharm": {
     "name": "#%%\n"
    }
   }
  },
  {
   "cell_type": "code",
   "execution_count": 22,
   "outputs": [],
   "source": [
    "df_scores['scores']=scores"
   ],
   "metadata": {
    "collapsed": false,
    "pycharm": {
     "name": "#%%\n"
    }
   }
  },
  {
   "cell_type": "code",
   "execution_count": 23,
   "outputs": [
    {
     "data": {
      "text/plain": "       customerId                timestamp country    amount  \\\n0        93000801  2021-09-15 16:13:35.147   Italy    150.00   \n1        93000801  2021-08-24 10:34:24.487  Greece   3200.00   \n2        93000801   2021-09-14 16:21:43.33   Italy   8350.00   \n3        93001001  2021-06-30 09:07:16.733   Italy    500.00   \n4        93001001  2021-07-12 16:36:02.857   Italy   1895.68   \n...           ...                      ...     ...       ...   \n90955    92279050  2021-05-10 11:07:34.703   Italy   1437.00   \n90956    92279050  2021-05-10 11:07:34.703   Italy    567.00   \n90957    92279050  2021-05-10 11:07:34.703   Italy    877.55   \n90958    95916146  2021-07-02 18:10:52.137   Italy    951.60   \n90959  9617962801  2021-09-28 16:17:27.057   Italy  68350.00   \n\n                           businessName  userAgent_isPc  \\\n0      c7543b6f04850eae288aa52783b33363               1   \n1      c7543b6f04850eae288aa52783b33363               1   \n2      c7543b6f04850eae288aa52783b33363               1   \n3      3f241dfcc38064261fec0f303c2784e5               1   \n4      a5d1eaffa8e325d370665f43624339a1               1   \n...                                 ...             ...   \n90955  e3f998310c7dc035c57c9636e4240194               1   \n90956  ccea7223bee0cc3bad4ed0fbcaeeb7f4               1   \n90957  388c6ea20bec1c3da52a02037aa29809               1   \n90958  7f733d1d98d9d5606635fec4a5dbe541               1   \n90959  f8d803ed38f4b5def0adccea3f0b7cb4               1   \n\n      userAgent_browserFamily userAgent_osFamily IBAN_countryCode  \\\n0                     Firefox            Windows               IT   \n1                     Firefox            Windows               IT   \n2                     Firefox            Windows               IT   \n3                      Chrome            Windows               IT   \n4                      Chrome            Windows               IT   \n...                       ...                ...              ...   \n90955                  Chrome            Windows               IT   \n90956                  Chrome            Windows               IT   \n90957                  Chrome            Windows               IT   \n90958                  Chrome           Mac OS X               IT   \n90959                  Chrome            Windows               IT   \n\n      IBAN_bankCode    SIA    CAP  SAE  RAE companyType    scores  \n0              5856  CLFUY  33077  492  630         SAS  0.444861  \n1              5856  CLFUY  33077  492  630         SAS  0.466566  \n2              5856  CLFUY  33077  492  630         SAS  0.459241  \n3              2008  CEFGV  31039  430  505         SRL  0.348430  \n4              3069  CEFGV  31039  430  505         SRL  0.343152  \n...             ...    ...    ...  ...  ...         ...       ...  \n90955          3069  96C02  36047  430  505         SRL  0.358770  \n90956          2008  96C02  36047  430  505         SRL  0.363687  \n90957          6175  96C02  36047  430  505         SRL  0.355087  \n90958          3069  AH0LL  36042  492  830         SNC  0.462735  \n90959          8102  CQRDC  38011  482  671         SNC  0.512944  \n\n[90960 rows x 16 columns]",
      "text/html": "<div>\n<style scoped>\n    .dataframe tbody tr th:only-of-type {\n        vertical-align: middle;\n    }\n\n    .dataframe tbody tr th {\n        vertical-align: top;\n    }\n\n    .dataframe thead th {\n        text-align: right;\n    }\n</style>\n<table border=\"1\" class=\"dataframe\">\n  <thead>\n    <tr style=\"text-align: right;\">\n      <th></th>\n      <th>customerId</th>\n      <th>timestamp</th>\n      <th>country</th>\n      <th>amount</th>\n      <th>businessName</th>\n      <th>userAgent_isPc</th>\n      <th>userAgent_browserFamily</th>\n      <th>userAgent_osFamily</th>\n      <th>IBAN_countryCode</th>\n      <th>IBAN_bankCode</th>\n      <th>SIA</th>\n      <th>CAP</th>\n      <th>SAE</th>\n      <th>RAE</th>\n      <th>companyType</th>\n      <th>scores</th>\n    </tr>\n  </thead>\n  <tbody>\n    <tr>\n      <th>0</th>\n      <td>93000801</td>\n      <td>2021-09-15 16:13:35.147</td>\n      <td>Italy</td>\n      <td>150.00</td>\n      <td>c7543b6f04850eae288aa52783b33363</td>\n      <td>1</td>\n      <td>Firefox</td>\n      <td>Windows</td>\n      <td>IT</td>\n      <td>5856</td>\n      <td>CLFUY</td>\n      <td>33077</td>\n      <td>492</td>\n      <td>630</td>\n      <td>SAS</td>\n      <td>0.444861</td>\n    </tr>\n    <tr>\n      <th>1</th>\n      <td>93000801</td>\n      <td>2021-08-24 10:34:24.487</td>\n      <td>Greece</td>\n      <td>3200.00</td>\n      <td>c7543b6f04850eae288aa52783b33363</td>\n      <td>1</td>\n      <td>Firefox</td>\n      <td>Windows</td>\n      <td>IT</td>\n      <td>5856</td>\n      <td>CLFUY</td>\n      <td>33077</td>\n      <td>492</td>\n      <td>630</td>\n      <td>SAS</td>\n      <td>0.466566</td>\n    </tr>\n    <tr>\n      <th>2</th>\n      <td>93000801</td>\n      <td>2021-09-14 16:21:43.33</td>\n      <td>Italy</td>\n      <td>8350.00</td>\n      <td>c7543b6f04850eae288aa52783b33363</td>\n      <td>1</td>\n      <td>Firefox</td>\n      <td>Windows</td>\n      <td>IT</td>\n      <td>5856</td>\n      <td>CLFUY</td>\n      <td>33077</td>\n      <td>492</td>\n      <td>630</td>\n      <td>SAS</td>\n      <td>0.459241</td>\n    </tr>\n    <tr>\n      <th>3</th>\n      <td>93001001</td>\n      <td>2021-06-30 09:07:16.733</td>\n      <td>Italy</td>\n      <td>500.00</td>\n      <td>3f241dfcc38064261fec0f303c2784e5</td>\n      <td>1</td>\n      <td>Chrome</td>\n      <td>Windows</td>\n      <td>IT</td>\n      <td>2008</td>\n      <td>CEFGV</td>\n      <td>31039</td>\n      <td>430</td>\n      <td>505</td>\n      <td>SRL</td>\n      <td>0.348430</td>\n    </tr>\n    <tr>\n      <th>4</th>\n      <td>93001001</td>\n      <td>2021-07-12 16:36:02.857</td>\n      <td>Italy</td>\n      <td>1895.68</td>\n      <td>a5d1eaffa8e325d370665f43624339a1</td>\n      <td>1</td>\n      <td>Chrome</td>\n      <td>Windows</td>\n      <td>IT</td>\n      <td>3069</td>\n      <td>CEFGV</td>\n      <td>31039</td>\n      <td>430</td>\n      <td>505</td>\n      <td>SRL</td>\n      <td>0.343152</td>\n    </tr>\n    <tr>\n      <th>...</th>\n      <td>...</td>\n      <td>...</td>\n      <td>...</td>\n      <td>...</td>\n      <td>...</td>\n      <td>...</td>\n      <td>...</td>\n      <td>...</td>\n      <td>...</td>\n      <td>...</td>\n      <td>...</td>\n      <td>...</td>\n      <td>...</td>\n      <td>...</td>\n      <td>...</td>\n      <td>...</td>\n    </tr>\n    <tr>\n      <th>90955</th>\n      <td>92279050</td>\n      <td>2021-05-10 11:07:34.703</td>\n      <td>Italy</td>\n      <td>1437.00</td>\n      <td>e3f998310c7dc035c57c9636e4240194</td>\n      <td>1</td>\n      <td>Chrome</td>\n      <td>Windows</td>\n      <td>IT</td>\n      <td>3069</td>\n      <td>96C02</td>\n      <td>36047</td>\n      <td>430</td>\n      <td>505</td>\n      <td>SRL</td>\n      <td>0.358770</td>\n    </tr>\n    <tr>\n      <th>90956</th>\n      <td>92279050</td>\n      <td>2021-05-10 11:07:34.703</td>\n      <td>Italy</td>\n      <td>567.00</td>\n      <td>ccea7223bee0cc3bad4ed0fbcaeeb7f4</td>\n      <td>1</td>\n      <td>Chrome</td>\n      <td>Windows</td>\n      <td>IT</td>\n      <td>2008</td>\n      <td>96C02</td>\n      <td>36047</td>\n      <td>430</td>\n      <td>505</td>\n      <td>SRL</td>\n      <td>0.363687</td>\n    </tr>\n    <tr>\n      <th>90957</th>\n      <td>92279050</td>\n      <td>2021-05-10 11:07:34.703</td>\n      <td>Italy</td>\n      <td>877.55</td>\n      <td>388c6ea20bec1c3da52a02037aa29809</td>\n      <td>1</td>\n      <td>Chrome</td>\n      <td>Windows</td>\n      <td>IT</td>\n      <td>6175</td>\n      <td>96C02</td>\n      <td>36047</td>\n      <td>430</td>\n      <td>505</td>\n      <td>SRL</td>\n      <td>0.355087</td>\n    </tr>\n    <tr>\n      <th>90958</th>\n      <td>95916146</td>\n      <td>2021-07-02 18:10:52.137</td>\n      <td>Italy</td>\n      <td>951.60</td>\n      <td>7f733d1d98d9d5606635fec4a5dbe541</td>\n      <td>1</td>\n      <td>Chrome</td>\n      <td>Mac OS X</td>\n      <td>IT</td>\n      <td>3069</td>\n      <td>AH0LL</td>\n      <td>36042</td>\n      <td>492</td>\n      <td>830</td>\n      <td>SNC</td>\n      <td>0.462735</td>\n    </tr>\n    <tr>\n      <th>90959</th>\n      <td>9617962801</td>\n      <td>2021-09-28 16:17:27.057</td>\n      <td>Italy</td>\n      <td>68350.00</td>\n      <td>f8d803ed38f4b5def0adccea3f0b7cb4</td>\n      <td>1</td>\n      <td>Chrome</td>\n      <td>Windows</td>\n      <td>IT</td>\n      <td>8102</td>\n      <td>CQRDC</td>\n      <td>38011</td>\n      <td>482</td>\n      <td>671</td>\n      <td>SNC</td>\n      <td>0.512944</td>\n    </tr>\n  </tbody>\n</table>\n<p>90960 rows × 16 columns</p>\n</div>"
     },
     "execution_count": 23,
     "metadata": {},
     "output_type": "execute_result"
    }
   ],
   "source": [
    "df_scores"
   ],
   "metadata": {
    "collapsed": false,
    "pycharm": {
     "name": "#%%\n"
    }
   }
  },
  {
   "cell_type": "code",
   "execution_count": 27,
   "outputs": [
    {
     "data": {
      "text/plain": "       customerId                timestamp country     amount  \\\n42622    45915153  2021-09-02 15:44:16.347   Italy     687.00   \n42632    45915153  2021-08-24 11:47:38.077   Italy     299.00   \n42623    45915153   2021-04-29 14:17:14.26   Italy    1000.00   \n42619    45915153  2021-07-30 15:25:38.557   Italy    1000.00   \n43968    41999520  2021-09-16 11:41:45.407   Italy  270000.00   \n...           ...                      ...     ...        ...   \n52867    58147956   2021-07-09 18:35:05.28   Italy     144.12   \n52880    58147956  2021-09-13 17:15:45.847   Italy     152.50   \n52865    58147956   2021-06-18 17:43:08.51   Italy     461.05   \n52875    58147956  2021-05-20 16:59:56.233   Italy     474.38   \n52876    58147956  2021-05-27 12:38:11.387   Italy     831.26   \n\n                           businessName  userAgent_isPc  \\\n42622  73322bb678a4c1b6a94fe29411a5fafe               0   \n42632  73322bb678a4c1b6a94fe29411a5fafe               0   \n42623  f2a85ebb8645443730a3fba554a69914               0   \n42619  f2a85ebb8645443730a3fba554a69914               0   \n43968  d1126a5e3988d76235cde4c7eed8ebbd               0   \n...                                 ...             ...   \n52867  621b59936ed5145b65a4abed059e21d9               1   \n52880  0390626d34fa747736aa2184d37c01bd               1   \n52865  d25f877b472c54cdf123dd91a2d89d60               1   \n52875  e8e18414fa63098aeb109e9effd87ab8               1   \n52876  c4994df9adfba725754ad2d2c66c3e7a               1   \n\n      userAgent_browserFamily userAgent_osFamily IBAN_countryCode  \\\n42622                   Other              Linux               IT   \n42632                   Other              Linux               IT   \n42623                   Other              Linux               IT   \n42619                   Other              Linux               IT   \n43968                   Other              Linux               IT   \n...                       ...                ...              ...   \n52867                  Safari           Mac OS X               IT   \n52880                  Safari           Mac OS X               IT   \n52865                  Safari           Mac OS X               IT   \n52875                  Safari           Mac OS X               IT   \n52876                  Safari           Mac OS X               IT   \n\n      IBAN_bankCode    SIA    CAP  SAE  RAE companyType    scores  \n42622          8904  082X3  30024  614  342          DI  0.728454  \n42632          8904  082X3  30024  614  342          DI  0.725503  \n42623          8904  082X3  30024  614  342          DI  0.725166  \n42619          8904  082X3  30024  614  342          DI  0.725166  \n43968          3493  347D3  39038  430  830        GMBH  0.705029  \n...             ...    ...    ...  ...  ...         ...       ...  \n52867          3069  CRUT0  31010  615   11          SS  0.600270  \n52880          3069  CRUT0  31010  615   11          SS  0.600270  \n52865          3062  CRUT0  31010  615   11          SS  0.600186  \n52875          3069  CRUT0  31010  615   11          SS  0.600186  \n52876          3069  CRUT0  31010  615   11          SS  0.600186  \n\n[426 rows x 16 columns]",
      "text/html": "<div>\n<style scoped>\n    .dataframe tbody tr th:only-of-type {\n        vertical-align: middle;\n    }\n\n    .dataframe tbody tr th {\n        vertical-align: top;\n    }\n\n    .dataframe thead th {\n        text-align: right;\n    }\n</style>\n<table border=\"1\" class=\"dataframe\">\n  <thead>\n    <tr style=\"text-align: right;\">\n      <th></th>\n      <th>customerId</th>\n      <th>timestamp</th>\n      <th>country</th>\n      <th>amount</th>\n      <th>businessName</th>\n      <th>userAgent_isPc</th>\n      <th>userAgent_browserFamily</th>\n      <th>userAgent_osFamily</th>\n      <th>IBAN_countryCode</th>\n      <th>IBAN_bankCode</th>\n      <th>SIA</th>\n      <th>CAP</th>\n      <th>SAE</th>\n      <th>RAE</th>\n      <th>companyType</th>\n      <th>scores</th>\n    </tr>\n  </thead>\n  <tbody>\n    <tr>\n      <th>42622</th>\n      <td>45915153</td>\n      <td>2021-09-02 15:44:16.347</td>\n      <td>Italy</td>\n      <td>687.00</td>\n      <td>73322bb678a4c1b6a94fe29411a5fafe</td>\n      <td>0</td>\n      <td>Other</td>\n      <td>Linux</td>\n      <td>IT</td>\n      <td>8904</td>\n      <td>082X3</td>\n      <td>30024</td>\n      <td>614</td>\n      <td>342</td>\n      <td>DI</td>\n      <td>0.728454</td>\n    </tr>\n    <tr>\n      <th>42632</th>\n      <td>45915153</td>\n      <td>2021-08-24 11:47:38.077</td>\n      <td>Italy</td>\n      <td>299.00</td>\n      <td>73322bb678a4c1b6a94fe29411a5fafe</td>\n      <td>0</td>\n      <td>Other</td>\n      <td>Linux</td>\n      <td>IT</td>\n      <td>8904</td>\n      <td>082X3</td>\n      <td>30024</td>\n      <td>614</td>\n      <td>342</td>\n      <td>DI</td>\n      <td>0.725503</td>\n    </tr>\n    <tr>\n      <th>42623</th>\n      <td>45915153</td>\n      <td>2021-04-29 14:17:14.26</td>\n      <td>Italy</td>\n      <td>1000.00</td>\n      <td>f2a85ebb8645443730a3fba554a69914</td>\n      <td>0</td>\n      <td>Other</td>\n      <td>Linux</td>\n      <td>IT</td>\n      <td>8904</td>\n      <td>082X3</td>\n      <td>30024</td>\n      <td>614</td>\n      <td>342</td>\n      <td>DI</td>\n      <td>0.725166</td>\n    </tr>\n    <tr>\n      <th>42619</th>\n      <td>45915153</td>\n      <td>2021-07-30 15:25:38.557</td>\n      <td>Italy</td>\n      <td>1000.00</td>\n      <td>f2a85ebb8645443730a3fba554a69914</td>\n      <td>0</td>\n      <td>Other</td>\n      <td>Linux</td>\n      <td>IT</td>\n      <td>8904</td>\n      <td>082X3</td>\n      <td>30024</td>\n      <td>614</td>\n      <td>342</td>\n      <td>DI</td>\n      <td>0.725166</td>\n    </tr>\n    <tr>\n      <th>43968</th>\n      <td>41999520</td>\n      <td>2021-09-16 11:41:45.407</td>\n      <td>Italy</td>\n      <td>270000.00</td>\n      <td>d1126a5e3988d76235cde4c7eed8ebbd</td>\n      <td>0</td>\n      <td>Other</td>\n      <td>Linux</td>\n      <td>IT</td>\n      <td>3493</td>\n      <td>347D3</td>\n      <td>39038</td>\n      <td>430</td>\n      <td>830</td>\n      <td>GMBH</td>\n      <td>0.705029</td>\n    </tr>\n    <tr>\n      <th>...</th>\n      <td>...</td>\n      <td>...</td>\n      <td>...</td>\n      <td>...</td>\n      <td>...</td>\n      <td>...</td>\n      <td>...</td>\n      <td>...</td>\n      <td>...</td>\n      <td>...</td>\n      <td>...</td>\n      <td>...</td>\n      <td>...</td>\n      <td>...</td>\n      <td>...</td>\n      <td>...</td>\n    </tr>\n    <tr>\n      <th>52867</th>\n      <td>58147956</td>\n      <td>2021-07-09 18:35:05.28</td>\n      <td>Italy</td>\n      <td>144.12</td>\n      <td>621b59936ed5145b65a4abed059e21d9</td>\n      <td>1</td>\n      <td>Safari</td>\n      <td>Mac OS X</td>\n      <td>IT</td>\n      <td>3069</td>\n      <td>CRUT0</td>\n      <td>31010</td>\n      <td>615</td>\n      <td>11</td>\n      <td>SS</td>\n      <td>0.600270</td>\n    </tr>\n    <tr>\n      <th>52880</th>\n      <td>58147956</td>\n      <td>2021-09-13 17:15:45.847</td>\n      <td>Italy</td>\n      <td>152.50</td>\n      <td>0390626d34fa747736aa2184d37c01bd</td>\n      <td>1</td>\n      <td>Safari</td>\n      <td>Mac OS X</td>\n      <td>IT</td>\n      <td>3069</td>\n      <td>CRUT0</td>\n      <td>31010</td>\n      <td>615</td>\n      <td>11</td>\n      <td>SS</td>\n      <td>0.600270</td>\n    </tr>\n    <tr>\n      <th>52865</th>\n      <td>58147956</td>\n      <td>2021-06-18 17:43:08.51</td>\n      <td>Italy</td>\n      <td>461.05</td>\n      <td>d25f877b472c54cdf123dd91a2d89d60</td>\n      <td>1</td>\n      <td>Safari</td>\n      <td>Mac OS X</td>\n      <td>IT</td>\n      <td>3062</td>\n      <td>CRUT0</td>\n      <td>31010</td>\n      <td>615</td>\n      <td>11</td>\n      <td>SS</td>\n      <td>0.600186</td>\n    </tr>\n    <tr>\n      <th>52875</th>\n      <td>58147956</td>\n      <td>2021-05-20 16:59:56.233</td>\n      <td>Italy</td>\n      <td>474.38</td>\n      <td>e8e18414fa63098aeb109e9effd87ab8</td>\n      <td>1</td>\n      <td>Safari</td>\n      <td>Mac OS X</td>\n      <td>IT</td>\n      <td>3069</td>\n      <td>CRUT0</td>\n      <td>31010</td>\n      <td>615</td>\n      <td>11</td>\n      <td>SS</td>\n      <td>0.600186</td>\n    </tr>\n    <tr>\n      <th>52876</th>\n      <td>58147956</td>\n      <td>2021-05-27 12:38:11.387</td>\n      <td>Italy</td>\n      <td>831.26</td>\n      <td>c4994df9adfba725754ad2d2c66c3e7a</td>\n      <td>1</td>\n      <td>Safari</td>\n      <td>Mac OS X</td>\n      <td>IT</td>\n      <td>3069</td>\n      <td>CRUT0</td>\n      <td>31010</td>\n      <td>615</td>\n      <td>11</td>\n      <td>SS</td>\n      <td>0.600186</td>\n    </tr>\n  </tbody>\n</table>\n<p>426 rows × 16 columns</p>\n</div>"
     },
     "execution_count": 27,
     "metadata": {},
     "output_type": "execute_result"
    }
   ],
   "source": [
    "df_scores[df_scores['scores']>0.6].sort_values('scores',ascending=False)"
   ],
   "metadata": {
    "collapsed": false,
    "pycharm": {
     "name": "#%%\n"
    }
   }
  },
  {
   "cell_type": "code",
   "execution_count": 28,
   "outputs": [],
   "source": [
    "test=df_scores[df_scores['scores']>0.6].sort_values('scores',ascending=False)\n",
    "test.to_csv('test.csv')"
   ],
   "metadata": {
    "collapsed": false,
    "pycharm": {
     "name": "#%%\n"
    }
   }
  },
  {
   "cell_type": "code",
   "execution_count": null,
   "outputs": [],
   "source": [],
   "metadata": {
    "collapsed": false,
    "pycharm": {
     "name": "#%%\n"
    }
   }
  }
 ],
 "metadata": {
  "kernelspec": {
   "display_name": "Python 3",
   "language": "python",
   "name": "python3"
  },
  "language_info": {
   "codemirror_mode": {
    "name": "ipython",
    "version": 2
   },
   "file_extension": ".py",
   "mimetype": "text/x-python",
   "name": "python",
   "nbconvert_exporter": "python",
   "pygments_lexer": "ipython2",
   "version": "2.7.6"
  }
 },
 "nbformat": 4,
 "nbformat_minor": 0
}